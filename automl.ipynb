{
 "cells": [
  {
   "cell_type": "markdown",
   "metadata": {},
   "source": [
    "#  Automated ML with azureml\n",
    "\n",
    "The dependencies are imported"
   ]
  },
  {
   "cell_type": "code",
   "execution_count": 1,
   "metadata": {
    "gather": {
     "logged": 1598423888013
    },
    "jupyter": {
     "outputs_hidden": false,
     "source_hidden": false
    },
    "nteract": {
     "transient": {
      "deleting": false
     }
    }
   },
   "outputs": [],
   "source": [
    "import os\n",
    "import pandas as pd\n",
    "from azureml.core import Dataset, Datastore, Workspace, Experiment\n",
    "# from azureml.train.automl import AutoMLConfig\n",
    "from azureml.widgets import RunDetails"
   ]
  },
  {
   "cell_type": "markdown",
   "metadata": {},
   "source": [
    "## Dataset\n",
    "\n",
    "### Overview\n",
    "\n",
    "We will try to predict the rating of modified version of the **Kaggle Trip advisor dataset**.\n",
    "\n",
    "The Dataset contains a Trip Advisor hotel review text column as well as a Rating column with Ratings from 0 - 5 stars. \n",
    "\n",
    "> The Tripadvisor Hotel Review Dataset file, is derived from the publication: \n",
    ">\n",
    ">_Alam, M. H., Ryu, W.-J., Lee, S., 2016. Joint multi-grain topic senti- ment: modeling semantic aspects for online >reviews. Information Sciences 339, 206–223._ \n",
    ">\n",
    "> You can download the Dataset with the link:\n",
    "> [trip-advisor-hotel-reviews](https://www.kaggle.com/andrewmvd/trip-advisor-hotel-reviews)\n",
    "\n",
    "In the original Dataset the target **Rating** column contains the values 0* - 5*.\n",
    "\n",
    "In a modified version of the dataset we will try to predict the **norm_rating** column based on the **Review** text column as a **classification task** with:\n",
    "\n",
    "* class 0 - Negative reviews (1* & 2* rating)\n",
    "* class 1 - Neutral reviews (3* rating)\n",
    "* class 2 - Positive reviews (4* & 5* rating)\n"
   ]
  },
  {
   "cell_type": "markdown",
   "metadata": {},
   "source": [
    "## Initialize the Workspace and create an Experiment"
   ]
  },
  {
   "cell_type": "code",
   "execution_count": 2,
   "metadata": {
    "gather": {
     "logged": 1598423890461
    },
    "jupyter": {
     "outputs_hidden": false,
     "source_hidden": false
    },
    "nteract": {
     "transient": {
      "deleting": false
     }
    }
   },
   "outputs": [
    {
     "data": {
      "text/html": [
       "<table style=\"width:100%\"><tr><th>Name</th><th>Workspace</th><th>Report Page</th><th>Docs Page</th></tr><tr><td>automl_review_classifier</td><td>quick-starts-ws-134235</td><td><a href=\"https://ml.azure.com/experiments/automl_review_classifier?wsid=/subscriptions/f5091c60-1c3c-430f-8d81-d802f6bf2414/resourcegroups/aml-quickstarts-134235/workspaces/quick-starts-ws-134235\" target=\"_blank\" rel=\"noopener\">Link to Azure Machine Learning studio</a></td><td><a href=\"https://docs.microsoft.com/en-us/python/api/azureml-core/azureml.core.experiment.Experiment?view=azure-ml-py\" target=\"_blank\" rel=\"noopener\">Link to Documentation</a></td></tr></table>"
      ],
      "text/plain": [
       "Experiment(Name: automl_review_classifier,\n",
       "Workspace: quick-starts-ws-134235)"
      ]
     },
     "execution_count": 2,
     "metadata": {},
     "output_type": "execute_result"
    }
   ],
   "source": [
    "ws = Workspace.from_config()\n",
    "\n",
    "# choose a name for experiment\n",
    "experiment_name = 'automl_review_classifier'\n",
    "\n",
    "experiment=Experiment(ws, experiment_name)\n",
    "experiment"
   ]
  },
  {
   "cell_type": "code",
   "execution_count": 3,
   "metadata": {},
   "outputs": [
    {
     "name": "stdout",
     "output_type": "stream",
     "text": [
      "subscription key f5091c60-1c3c-430f-8d81-d802f6bf2414\n",
      "resource group aml-quickstarts-134235\n",
      "workspace name quick-starts-ws-134235\n"
     ]
    }
   ],
   "source": [
    "print(f\"subscription key {ws.subscription_id}\")\n",
    "print(f\"resource group {ws.resource_group}\")\n",
    "print(f\"workspace name {ws.name}\")"
   ]
  },
  {
   "cell_type": "markdown",
   "metadata": {},
   "source": [
    "## Load the Dataset and perform a train test split"
   ]
  },
  {
   "cell_type": "code",
   "execution_count": 4,
   "metadata": {},
   "outputs": [],
   "source": [
    "import pandas as pd\n",
    "from sklearn.model_selection import train_test_split\n",
    "\n",
    "filepath_2_dataset = r\"hotel_reviews_featurized_roberta.csv\"\n",
    "# Read the Dataset as a pandas dataframe\n",
    "hotel_review_dataset = pd.read_csv(filepath_2_dataset)"
   ]
  },
  {
   "cell_type": "code",
   "execution_count": 5,
   "metadata": {},
   "outputs": [
    {
     "name": "stdout",
     "output_type": "stream",
     "text": [
      "Dataset Shape: (20491, 808)\n"
     ]
    },
    {
     "data": {
      "text/html": [
       "<div>\n",
       "<style scoped>\n",
       "    .dataframe tbody tr th:only-of-type {\n",
       "        vertical-align: middle;\n",
       "    }\n",
       "\n",
       "    .dataframe tbody tr th {\n",
       "        vertical-align: top;\n",
       "    }\n",
       "\n",
       "    .dataframe thead th {\n",
       "        text-align: right;\n",
       "    }\n",
       "</style>\n",
       "<table border=\"1\" class=\"dataframe\">\n",
       "  <thead>\n",
       "    <tr style=\"text-align: right;\">\n",
       "      <th></th>\n",
       "      <th>topic_0</th>\n",
       "      <th>topic_1</th>\n",
       "      <th>topic_2</th>\n",
       "      <th>topic_3</th>\n",
       "      <th>topic_4</th>\n",
       "      <th>topic_5</th>\n",
       "      <th>topic_6</th>\n",
       "      <th>topic_7</th>\n",
       "      <th>topic_8</th>\n",
       "      <th>topic_9</th>\n",
       "      <th>...</th>\n",
       "      <th>dim_758</th>\n",
       "      <th>dim_759</th>\n",
       "      <th>dim_760</th>\n",
       "      <th>dim_761</th>\n",
       "      <th>dim_762</th>\n",
       "      <th>dim_763</th>\n",
       "      <th>dim_764</th>\n",
       "      <th>dim_765</th>\n",
       "      <th>dim_766</th>\n",
       "      <th>dim_767</th>\n",
       "    </tr>\n",
       "  </thead>\n",
       "  <tbody>\n",
       "    <tr>\n",
       "      <th>count</th>\n",
       "      <td>20491.000000</td>\n",
       "      <td>20491.000000</td>\n",
       "      <td>20491.000000</td>\n",
       "      <td>20491.000000</td>\n",
       "      <td>20491.000000</td>\n",
       "      <td>20491.000000</td>\n",
       "      <td>20491.000000</td>\n",
       "      <td>20491.000000</td>\n",
       "      <td>20491.000000</td>\n",
       "      <td>20491.000000</td>\n",
       "      <td>...</td>\n",
       "      <td>20491.000000</td>\n",
       "      <td>20491.000000</td>\n",
       "      <td>20491.000000</td>\n",
       "      <td>20491.000000</td>\n",
       "      <td>20491.000000</td>\n",
       "      <td>20491.000000</td>\n",
       "      <td>20491.000000</td>\n",
       "      <td>20491.000000</td>\n",
       "      <td>20491.000000</td>\n",
       "      <td>20491.000000</td>\n",
       "    </tr>\n",
       "    <tr>\n",
       "      <th>mean</th>\n",
       "      <td>0.001939</td>\n",
       "      <td>0.004714</td>\n",
       "      <td>0.011617</td>\n",
       "      <td>0.001034</td>\n",
       "      <td>0.001708</td>\n",
       "      <td>0.010981</td>\n",
       "      <td>0.003340</td>\n",
       "      <td>0.033029</td>\n",
       "      <td>0.001340</td>\n",
       "      <td>0.019453</td>\n",
       "      <td>...</td>\n",
       "      <td>-0.027524</td>\n",
       "      <td>0.003075</td>\n",
       "      <td>-0.156707</td>\n",
       "      <td>0.102556</td>\n",
       "      <td>-0.103847</td>\n",
       "      <td>-0.022158</td>\n",
       "      <td>0.124463</td>\n",
       "      <td>-0.329340</td>\n",
       "      <td>0.020014</td>\n",
       "      <td>0.032116</td>\n",
       "    </tr>\n",
       "    <tr>\n",
       "      <th>std</th>\n",
       "      <td>0.004887</td>\n",
       "      <td>0.007468</td>\n",
       "      <td>0.006196</td>\n",
       "      <td>0.003457</td>\n",
       "      <td>0.004591</td>\n",
       "      <td>0.006425</td>\n",
       "      <td>0.006819</td>\n",
       "      <td>0.008321</td>\n",
       "      <td>0.003971</td>\n",
       "      <td>0.005330</td>\n",
       "      <td>...</td>\n",
       "      <td>0.060321</td>\n",
       "      <td>0.047068</td>\n",
       "      <td>0.076493</td>\n",
       "      <td>0.050610</td>\n",
       "      <td>0.063625</td>\n",
       "      <td>0.048991</td>\n",
       "      <td>0.128676</td>\n",
       "      <td>0.105728</td>\n",
       "      <td>0.040554</td>\n",
       "      <td>0.058754</td>\n",
       "    </tr>\n",
       "    <tr>\n",
       "      <th>min</th>\n",
       "      <td>0.000000</td>\n",
       "      <td>0.000000</td>\n",
       "      <td>0.000000</td>\n",
       "      <td>0.000000</td>\n",
       "      <td>0.000000</td>\n",
       "      <td>0.000000</td>\n",
       "      <td>0.000000</td>\n",
       "      <td>0.014800</td>\n",
       "      <td>0.000000</td>\n",
       "      <td>0.000000</td>\n",
       "      <td>...</td>\n",
       "      <td>-0.283000</td>\n",
       "      <td>-0.307900</td>\n",
       "      <td>-0.484000</td>\n",
       "      <td>-0.252400</td>\n",
       "      <td>-0.386300</td>\n",
       "      <td>-0.254700</td>\n",
       "      <td>-0.367400</td>\n",
       "      <td>-1.016800</td>\n",
       "      <td>-0.184600</td>\n",
       "      <td>-0.216600</td>\n",
       "    </tr>\n",
       "    <tr>\n",
       "      <th>25%</th>\n",
       "      <td>0.000000</td>\n",
       "      <td>0.000000</td>\n",
       "      <td>0.010600</td>\n",
       "      <td>0.000000</td>\n",
       "      <td>0.000000</td>\n",
       "      <td>0.010300</td>\n",
       "      <td>0.000000</td>\n",
       "      <td>0.028100</td>\n",
       "      <td>0.000000</td>\n",
       "      <td>0.016300</td>\n",
       "      <td>...</td>\n",
       "      <td>-0.066900</td>\n",
       "      <td>-0.027800</td>\n",
       "      <td>-0.207700</td>\n",
       "      <td>0.071000</td>\n",
       "      <td>-0.144750</td>\n",
       "      <td>-0.055500</td>\n",
       "      <td>0.035850</td>\n",
       "      <td>-0.399500</td>\n",
       "      <td>-0.006100</td>\n",
       "      <td>-0.006500</td>\n",
       "    </tr>\n",
       "    <tr>\n",
       "      <th>50%</th>\n",
       "      <td>0.000000</td>\n",
       "      <td>0.000000</td>\n",
       "      <td>0.011500</td>\n",
       "      <td>0.000000</td>\n",
       "      <td>0.000000</td>\n",
       "      <td>0.011200</td>\n",
       "      <td>0.000000</td>\n",
       "      <td>0.030300</td>\n",
       "      <td>0.000000</td>\n",
       "      <td>0.017600</td>\n",
       "      <td>...</td>\n",
       "      <td>-0.027700</td>\n",
       "      <td>0.002500</td>\n",
       "      <td>-0.155100</td>\n",
       "      <td>0.103900</td>\n",
       "      <td>-0.103100</td>\n",
       "      <td>-0.023900</td>\n",
       "      <td>0.114200</td>\n",
       "      <td>-0.333100</td>\n",
       "      <td>0.019800</td>\n",
       "      <td>0.030300</td>\n",
       "    </tr>\n",
       "    <tr>\n",
       "      <th>75%</th>\n",
       "      <td>0.000000</td>\n",
       "      <td>0.010400</td>\n",
       "      <td>0.014100</td>\n",
       "      <td>0.000000</td>\n",
       "      <td>0.000000</td>\n",
       "      <td>0.014000</td>\n",
       "      <td>0.000000</td>\n",
       "      <td>0.036000</td>\n",
       "      <td>0.000000</td>\n",
       "      <td>0.022200</td>\n",
       "      <td>...</td>\n",
       "      <td>0.011600</td>\n",
       "      <td>0.033800</td>\n",
       "      <td>-0.104400</td>\n",
       "      <td>0.135650</td>\n",
       "      <td>-0.062200</td>\n",
       "      <td>0.008400</td>\n",
       "      <td>0.203700</td>\n",
       "      <td>-0.264400</td>\n",
       "      <td>0.046200</td>\n",
       "      <td>0.068550</td>\n",
       "    </tr>\n",
       "    <tr>\n",
       "      <th>max</th>\n",
       "      <td>0.056800</td>\n",
       "      <td>0.073000</td>\n",
       "      <td>0.048400</td>\n",
       "      <td>0.042000</td>\n",
       "      <td>0.055900</td>\n",
       "      <td>0.080800</td>\n",
       "      <td>0.056300</td>\n",
       "      <td>0.145500</td>\n",
       "      <td>0.033300</td>\n",
       "      <td>0.082900</td>\n",
       "      <td>...</td>\n",
       "      <td>0.262500</td>\n",
       "      <td>0.231900</td>\n",
       "      <td>0.158700</td>\n",
       "      <td>0.322100</td>\n",
       "      <td>0.171700</td>\n",
       "      <td>0.243300</td>\n",
       "      <td>0.908800</td>\n",
       "      <td>0.152800</td>\n",
       "      <td>0.200600</td>\n",
       "      <td>0.370700</td>\n",
       "    </tr>\n",
       "  </tbody>\n",
       "</table>\n",
       "<p>8 rows × 807 columns</p>\n",
       "</div>"
      ],
      "text/plain": [
       "            topic_0       topic_1       topic_2       topic_3       topic_4  \\\n",
       "count  20491.000000  20491.000000  20491.000000  20491.000000  20491.000000   \n",
       "mean       0.001939      0.004714      0.011617      0.001034      0.001708   \n",
       "std        0.004887      0.007468      0.006196      0.003457      0.004591   \n",
       "min        0.000000      0.000000      0.000000      0.000000      0.000000   \n",
       "25%        0.000000      0.000000      0.010600      0.000000      0.000000   \n",
       "50%        0.000000      0.000000      0.011500      0.000000      0.000000   \n",
       "75%        0.000000      0.010400      0.014100      0.000000      0.000000   \n",
       "max        0.056800      0.073000      0.048400      0.042000      0.055900   \n",
       "\n",
       "            topic_5       topic_6       topic_7       topic_8       topic_9  \\\n",
       "count  20491.000000  20491.000000  20491.000000  20491.000000  20491.000000   \n",
       "mean       0.010981      0.003340      0.033029      0.001340      0.019453   \n",
       "std        0.006425      0.006819      0.008321      0.003971      0.005330   \n",
       "min        0.000000      0.000000      0.014800      0.000000      0.000000   \n",
       "25%        0.010300      0.000000      0.028100      0.000000      0.016300   \n",
       "50%        0.011200      0.000000      0.030300      0.000000      0.017600   \n",
       "75%        0.014000      0.000000      0.036000      0.000000      0.022200   \n",
       "max        0.080800      0.056300      0.145500      0.033300      0.082900   \n",
       "\n",
       "       ...       dim_758       dim_759       dim_760       dim_761  \\\n",
       "count  ...  20491.000000  20491.000000  20491.000000  20491.000000   \n",
       "mean   ...     -0.027524      0.003075     -0.156707      0.102556   \n",
       "std    ...      0.060321      0.047068      0.076493      0.050610   \n",
       "min    ...     -0.283000     -0.307900     -0.484000     -0.252400   \n",
       "25%    ...     -0.066900     -0.027800     -0.207700      0.071000   \n",
       "50%    ...     -0.027700      0.002500     -0.155100      0.103900   \n",
       "75%    ...      0.011600      0.033800     -0.104400      0.135650   \n",
       "max    ...      0.262500      0.231900      0.158700      0.322100   \n",
       "\n",
       "            dim_762       dim_763       dim_764       dim_765       dim_766  \\\n",
       "count  20491.000000  20491.000000  20491.000000  20491.000000  20491.000000   \n",
       "mean      -0.103847     -0.022158      0.124463     -0.329340      0.020014   \n",
       "std        0.063625      0.048991      0.128676      0.105728      0.040554   \n",
       "min       -0.386300     -0.254700     -0.367400     -1.016800     -0.184600   \n",
       "25%       -0.144750     -0.055500      0.035850     -0.399500     -0.006100   \n",
       "50%       -0.103100     -0.023900      0.114200     -0.333100      0.019800   \n",
       "75%       -0.062200      0.008400      0.203700     -0.264400      0.046200   \n",
       "max        0.171700      0.243300      0.908800      0.152800      0.200600   \n",
       "\n",
       "            dim_767  \n",
       "count  20491.000000  \n",
       "mean       0.032116  \n",
       "std        0.058754  \n",
       "min       -0.216600  \n",
       "25%       -0.006500  \n",
       "50%        0.030300  \n",
       "75%        0.068550  \n",
       "max        0.370700  \n",
       "\n",
       "[8 rows x 807 columns]"
      ]
     },
     "execution_count": 5,
     "metadata": {},
     "output_type": "execute_result"
    }
   ],
   "source": [
    "print(f\"Dataset Shape: {hotel_review_dataset.shape}\")\n",
    "hotel_review_dataset.describe()"
   ]
  },
  {
   "cell_type": "markdown",
   "metadata": {},
   "source": [
    "### First the same train test split is performed for the Dataset to make it available to both AutoML and Hyperdrive"
   ]
  },
  {
   "cell_type": "code",
   "execution_count": 6,
   "metadata": {},
   "outputs": [
    {
     "name": "stdout",
     "output_type": "stream",
     "text": [
      "X_train: (16392, 808)\n",
      "X_test: (4099, 808)\n",
      "y_train: 16392\n",
      "y_test: 4099\n"
     ]
    }
   ],
   "source": [
    "# Get hotel review text and normalized rating\n",
    "X = hotel_review_dataset.drop(columns=['norm_rating'])\n",
    "y = list(hotel_review_dataset.norm_rating)\n",
    "X_train, X_test, y_train, y_test = train_test_split(hotel_review_dataset, y, test_size=0.2, random_state=42)\n",
    "print(f\"X_train: {X_train.shape}\\nX_test: {X_test.shape}\\ny_train: {len(y_train)}\\ny_test: {len(y_test)}\")"
   ]
  },
  {
   "cell_type": "markdown",
   "metadata": {},
   "source": [
    "### The training set and test sets will be registered separately to ensure strict separation"
   ]
  },
  {
   "cell_type": "code",
   "execution_count": 7,
   "metadata": {},
   "outputs": [
    {
     "name": "stderr",
     "output_type": "stream",
     "text": [
      "/anaconda/envs/azureml_py36/lib/python3.6/site-packages/ipykernel_launcher.py:1: SettingWithCopyWarning: \n",
      "A value is trying to be set on a copy of a slice from a DataFrame.\n",
      "Try using .loc[row_indexer,col_indexer] = value instead\n",
      "\n",
      "See the caveats in the documentation: http://pandas.pydata.org/pandas-docs/stable/user_guide/indexing.html#returning-a-view-versus-a-copy\n",
      "  \"\"\"Entry point for launching an IPython kernel.\n",
      "/anaconda/envs/azureml_py36/lib/python3.6/site-packages/ipykernel_launcher.py:2: SettingWithCopyWarning: \n",
      "A value is trying to be set on a copy of a slice from a DataFrame.\n",
      "Try using .loc[row_indexer,col_indexer] = value instead\n",
      "\n",
      "See the caveats in the documentation: http://pandas.pydata.org/pandas-docs/stable/user_guide/indexing.html#returning-a-view-versus-a-copy\n",
      "  \n"
     ]
    }
   ],
   "source": [
    "X_train['norm_rating'] = y_train\n",
    "X_test['norm_rating'] = y_test "
   ]
  },
  {
   "cell_type": "code",
   "execution_count": 8,
   "metadata": {},
   "outputs": [
    {
     "name": "stdout",
     "output_type": "stream",
     "text": [
      "(16392, 808)\n",
      "(4099, 808)\n"
     ]
    }
   ],
   "source": [
    "print(X_train.shape)\n",
    "print(X_test.shape)"
   ]
  },
  {
   "cell_type": "markdown",
   "metadata": {},
   "source": [
    "### The AutoML train/testsets should contain just the text column and norm rating column (no feature engineering)"
   ]
  },
  {
   "cell_type": "markdown",
   "metadata": {},
   "source": [
    "#### Upload the different train/test sets"
   ]
  },
  {
   "cell_type": "code",
   "execution_count": 15,
   "metadata": {},
   "outputs": [
    {
     "name": "stdout",
     "output_type": "stream",
     "text": [
      "Uploading an estimated of 8 files\n",
      "Target already exists. Skipping upload for data/test_set_automl.csv\n",
      "Target already exists. Skipping upload for data/test_set_hyper.csv\n",
      "Target already exists. Skipping upload for data/train_set_automl.csv\n",
      "Target already exists. Skipping upload for data/train_set_hyper.csv\n",
      "Uploading data/test_set_automl_clean.csv\n",
      "Uploaded data/test_set_automl_clean.csv, 1 files out of an estimated total of 7\n",
      "Uploading data/train_set_automl_clean.csv\n",
      "Uploaded data/train_set_automl_clean.csv, 2 files out of an estimated total of 5\n",
      "Uploading data/test_set_hyper_clean.csv\n",
      "Uploaded data/test_set_hyper_clean.csv, 3 files out of an estimated total of 6\n",
      "Uploading data/train_set_hyper_clean.csv\n",
      "Uploaded data/train_set_hyper_clean.csv, 4 files out of an estimated total of 4\n",
      "Uploaded 4 files\n"
     ]
    },
    {
     "data": {
      "text/plain": [
       "$AZUREML_DATAREFERENCE_8f586e7904504f31b54c9d8788d2132b"
      ]
     },
     "execution_count": 15,
     "metadata": {},
     "output_type": "execute_result"
    }
   ],
   "source": [
    "X_train_automl = X_train.loc[:, ['text', 'norm_rating']]\n",
    "X_test_automl = X_test.loc[:, ['text', 'norm_rating']]\n",
    "\n",
    "os.makedirs(\"data\", exist_ok=True)\n",
    "# Upload the training/test data in the default datastore\n",
    "train_dataset_path_automl = \"data/train_set_automl_clean.csv\"\n",
    "X_train_automl.to_csv(train_dataset_path_automl, index=False)\n",
    "test_dataset_path_automl = \"data/test_set_automl_clean.csv\"\n",
    "X_test_automl.to_csv(test_dataset_path_automl, index=False)\n",
    "\n",
    "X_train_hyper = X_train.drop(columns =[\"text\"])\n",
    "X_test_hyper = X_test.drop(columns = [\"text\"])\n",
    "\n",
    "train_dataset_path = \"data/train_set_hyper_clean.csv\"\n",
    "X_train_hyper.to_csv(train_dataset_path, index=False)\n",
    "test_dataset_path = \"data/test_set_hyper_clean.csv\"\n",
    "X_test_hyper.to_csv(test_dataset_path, index=False)\n",
    "\n",
    "datastore = ws.get_default_datastore()\n",
    "datastore.upload(src_dir=\"data\", target_path=\"data\")"
   ]
  },
  {
   "cell_type": "markdown",
   "metadata": {},
   "source": [
    "### Load the training and test Datasets and register them"
   ]
  },
  {
   "cell_type": "code",
   "execution_count": 16,
   "metadata": {},
   "outputs": [],
   "source": [
    "dataset_training = Dataset.Tabular.from_delimited_files(path = [(datastore, (\"data/train_set_automl_clean.csv\"))])\n",
    "dataset_training = dataset_training.register(workspace=ws, name=\"auto-ml-training-data\", description=\"Hotel Review AutoML Training Data\")\n",
    "\n",
    "dataset_test =  Dataset.Tabular.from_delimited_files(path = [(datastore, (\"data/test_set_automl_clean.csv\"))])\n",
    "dataset_test = dataset_training.register(workspace=ws, name=\"auto-ml-test-data\", description=\"Hotel Review AutoML Test Data\")"
   ]
  },
  {
   "cell_type": "code",
   "execution_count": 39,
   "metadata": {},
   "outputs": [],
   "source": [
    "pandas_df = dataset_test.to_pandas_dataframe()"
   ]
  },
  {
   "cell_type": "markdown",
   "metadata": {},
   "source": [
    "### Hotel Review example\n",
    "\n",
    ">outstanding cleanliness value location wanted stay central location london\n",
    "luna simone hotels fell search area checked reviews trip advisor decided book certainly \n",
    "not dissapointed location ideal short walk transit important sight seeing \n",
    "locations absolutely cleanest hotels stayed breakfast good served\n",
    "management gives chance talk owners management staff outstanding friendly assist \n",
    "site seeing plans no additional charge fact probably save money got london bus tour\n",
    "tickets hotel vendor rate thinking trip uk europe luna simone london hotel staying going \n",
    "london reccomend luna simone'"
   ]
  },
  {
   "cell_type": "markdown",
   "metadata": {},
   "source": [
    "## Define a Compute Target for AutoML"
   ]
  },
  {
   "cell_type": "code",
   "execution_count": 24,
   "metadata": {},
   "outputs": [
    {
     "name": "stdout",
     "output_type": "stream",
     "text": [
      "Found existing Compute Target\n",
      "Succeeded\n",
      "AmlCompute wait for completion finished\n",
      "\n",
      "Minimum number of nodes requested have been provisioned\n"
     ]
    }
   ],
   "source": [
    "## Define a Compute Target for AutoML\n",
    "from azureml.core.compute import ComputeTarget, AmlCompute\n",
    "from azureml.core.compute_target import ComputeTargetException\n",
    "\n",
    "cpu_cluster_name = \"cpu-cluster-1\"\n",
    "try:\n",
    "    compute_target = ComputeTarget(workspace=ws, name=cpu_cluster_name)\n",
    "    print(\"Found existing Compute Target\")\n",
    "except ComputeTargetException:\n",
    "    compute_config = AmlCompute.provisioning_configuration(vm_size = \"Standard_D2_V2\", max_nodes=4)\n",
    "    compute_target = ComputeTarget.create(ws, cpu_cluster_name, compute_config)\n",
    "\n",
    "compute_target.wait_for_completion(show_output=True)"
   ]
  },
  {
   "cell_type": "markdown",
   "metadata": {},
   "source": [
    "## AutoML Configuration\n",
    "\n",
    "* _experiment_timeout_minutes_: was set to prevent the experiment from running for long timer periods with high cost\n",
    "* _max_concurrent_iterations_: was set to 4 since only 4 compute target nodes are available for paralle child runs\n",
    "* _primary_metric_: was set to AUC_weighted since this includes a balance between false positive and true positive rate\n",
    "* _n_cross_validations_: 5 crossvalidations were selected, since this results in a more robust mean/std estimation for each model\n",
    "\n",
    "* _enable_early_stopping_: to prevent unproductive runs which lead to no improvement and costs\n",
    "* _compute_target_: needs to be define to perform the AutoML computations\n",
    "* _task_: needs to be classification since the label column is defining separate classes\n",
    "* _training_data_: corresponds to the training set\n",
    "* _label_column_: corresponds to the target/label column defining the separate classes\n",
    "* _debug_log_: defined to enable detailed logging of automl errors"
   ]
  },
  {
   "cell_type": "code",
   "execution_count": 25,
   "metadata": {},
   "outputs": [],
   "source": [
    "from azureml.train.automl.automlconfig import AutoMLConfig"
   ]
  },
  {
   "cell_type": "code",
   "execution_count": 28,
   "metadata": {},
   "outputs": [
    {
     "ename": "SyntaxError",
     "evalue": "unexpected EOF while parsing (<ipython-input-28-5245ace8c5a4>, line 1)",
     "output_type": "error",
     "traceback": [
      "\u001b[0;36m  File \u001b[0;32m\"<ipython-input-28-5245ace8c5a4>\"\u001b[0;36m, line \u001b[0;32m1\u001b[0m\n\u001b[0;31m    automl_settings = {\u001b[0m\n\u001b[0m                       ^\u001b[0m\n\u001b[0;31mSyntaxError\u001b[0m\u001b[0;31m:\u001b[0m unexpected EOF while parsing\n"
     ]
    }
   ],
   "source": [
    "automl_settings = {"
   ]
  },
  {
   "cell_type": "code",
   "execution_count": 29,
   "metadata": {
    "gather": {
     "logged": 1598429217746
    },
    "jupyter": {
     "outputs_hidden": false,
     "source_hidden": false
    },
    "nteract": {
     "transient": {
      "deleting": false
     }
    }
   },
   "outputs": [],
   "source": [
    "## Define key AutoML Settings\n",
    "automl_settings = {\n",
    "    \"experiment_timeout_minutes\": 20,\n",
    "    \"max_concurrent_iterations\": 4,\n",
    "    \"primary_metric\": \"accuracy\",\n",
    "    \"n_cross_validations\": 5\n",
    "}\n",
    "\n",
    "## Setup an AutoMLConfig object\n",
    "automl_config = AutoMLConfig(\n",
    "    compute_target=compute_target,\n",
    "    task=\"classification\",\n",
    "    training_data=dataset_training,\n",
    "    label_column_name=\"norm_rating\",\n",
    "    enable_early_stopping=True,\n",
    "    debug_log=\"automl_errors.log\",\n",
    "    **automl_settings\n",
    ")"
   ]
  },
  {
   "cell_type": "code",
   "execution_count": 30,
   "metadata": {
    "gather": {
     "logged": 1598431107951
    },
    "jupyter": {
     "outputs_hidden": false,
     "source_hidden": false
    },
    "nteract": {
     "transient": {
      "deleting": false
     }
    }
   },
   "outputs": [
    {
     "name": "stdout",
     "output_type": "stream",
     "text": [
      "Running on remote.\n"
     ]
    }
   ],
   "source": [
    "# The Experiment needs to be submitted in order to execute the AutoML run\n",
    "automl_run = experiment.submit(automl_config)"
   ]
  },
  {
   "cell_type": "markdown",
   "metadata": {},
   "source": [
    "## Run Details\n",
    "\n",
    "Write about the different models trained and their performance. Why do you think some models did better than others?"
   ]
  },
  {
   "cell_type": "code",
   "execution_count": 31,
   "metadata": {},
   "outputs": [
    {
     "data": {
      "application/vnd.jupyter.widget-view+json": {
       "model_id": "dcfc7a2257a24cc8b1923259832eab01",
       "version_major": 2,
       "version_minor": 0
      },
      "text/plain": [
       "_AutoMLWidget(widget_settings={'childWidgetDisplay': 'popup', 'send_telemetry': False, 'log_level': 'INFO', 's…"
      ]
     },
     "metadata": {},
     "output_type": "display_data"
    },
    {
     "data": {
      "application/aml.mini.widget.v1": "{\"status\": \"Completed\", \"workbench_run_details_uri\": \"https://ml.azure.com/experiments/automl_review_classifier/runs/AutoML_be5ab369-c90c-4152-9be0-56f27acb4912?wsid=/subscriptions/f5091c60-1c3c-430f-8d81-d802f6bf2414/resourcegroups/aml-quickstarts-134235/workspaces/quick-starts-ws-134235\", \"run_id\": \"AutoML_be5ab369-c90c-4152-9be0-56f27acb4912\", \"run_properties\": {\"run_id\": \"AutoML_be5ab369-c90c-4152-9be0-56f27acb4912\", \"created_utc\": \"2021-01-10T16:16:02.953665Z\", \"properties\": {\"num_iterations\": \"1000\", \"training_type\": \"TrainFull\", \"acquisition_function\": \"EI\", \"primary_metric\": \"accuracy\", \"train_split\": \"0\", \"acquisition_parameter\": \"0\", \"num_cross_validation\": \"5\", \"target\": \"cpu-cluster-1\", \"AMLSettingsJsonString\": \"{\\\"path\\\":null,\\\"name\\\":\\\"automl_review_classifier\\\",\\\"subscription_id\\\":\\\"f5091c60-1c3c-430f-8d81-d802f6bf2414\\\",\\\"resource_group\\\":\\\"aml-quickstarts-134235\\\",\\\"workspace_name\\\":\\\"quick-starts-ws-134235\\\",\\\"region\\\":\\\"southcentralus\\\",\\\"compute_target\\\":\\\"cpu-cluster-1\\\",\\\"spark_service\\\":null,\\\"azure_service\\\":\\\"remote\\\",\\\"many_models\\\":false,\\\"pipeline_fetch_max_batch_size\\\":1,\\\"iterations\\\":1000,\\\"primary_metric\\\":\\\"accuracy\\\",\\\"task_type\\\":\\\"classification\\\",\\\"data_script\\\":null,\\\"validation_size\\\":0.0,\\\"n_cross_validations\\\":5,\\\"y_min\\\":null,\\\"y_max\\\":null,\\\"num_classes\\\":null,\\\"featurization\\\":\\\"auto\\\",\\\"_ignore_package_version_incompatibilities\\\":false,\\\"is_timeseries\\\":false,\\\"max_cores_per_iteration\\\":1,\\\"max_concurrent_iterations\\\":4,\\\"iteration_timeout_minutes\\\":null,\\\"mem_in_mb\\\":null,\\\"enforce_time_on_windows\\\":false,\\\"experiment_timeout_minutes\\\":20,\\\"experiment_exit_score\\\":null,\\\"whitelist_models\\\":null,\\\"blacklist_algos\\\":[\\\"TensorFlowLinearClassifier\\\",\\\"TensorFlowDNN\\\"],\\\"supported_models\\\":[\\\"SVM\\\",\\\"LogisticRegression\\\",\\\"KNN\\\",\\\"XGBoostClassifier\\\",\\\"ExtremeRandomTrees\\\",\\\"MultinomialNaiveBayes\\\",\\\"LightGBM\\\",\\\"BernoulliNaiveBayes\\\",\\\"GradientBoosting\\\",\\\"RandomForest\\\",\\\"TensorFlowLinearClassifier\\\",\\\"AveragedPerceptronClassifier\\\",\\\"SGD\\\",\\\"LinearSVM\\\",\\\"DecisionTree\\\",\\\"TensorFlowDNN\\\"],\\\"auto_blacklist\\\":true,\\\"blacklist_samples_reached\\\":false,\\\"exclude_nan_labels\\\":true,\\\"verbosity\\\":20,\\\"_debug_log\\\":\\\"azureml_automl.log\\\",\\\"show_warnings\\\":false,\\\"model_explainability\\\":true,\\\"service_url\\\":null,\\\"sdk_url\\\":null,\\\"sdk_packages\\\":null,\\\"enable_onnx_compatible_models\\\":false,\\\"enable_split_onnx_featurizer_estimator_models\\\":false,\\\"vm_type\\\":\\\"STANDARD_D2_V2\\\",\\\"telemetry_verbosity\\\":20,\\\"send_telemetry\\\":true,\\\"enable_dnn\\\":false,\\\"scenario\\\":\\\"SDK-1.13.0\\\",\\\"environment_label\\\":null,\\\"force_text_dnn\\\":false,\\\"enable_feature_sweeping\\\":true,\\\"enable_early_stopping\\\":true,\\\"early_stopping_n_iters\\\":10,\\\"metrics\\\":null,\\\"enable_ensembling\\\":true,\\\"enable_stack_ensembling\\\":true,\\\"ensemble_iterations\\\":15,\\\"enable_tf\\\":false,\\\"enable_subsampling\\\":null,\\\"subsample_seed\\\":null,\\\"enable_nimbusml\\\":false,\\\"enable_streaming\\\":false,\\\"force_streaming\\\":false,\\\"track_child_runs\\\":true,\\\"allowed_private_models\\\":[],\\\"label_column_name\\\":\\\"norm_rating\\\",\\\"weight_column_name\\\":null,\\\"cv_split_column_names\\\":null,\\\"enable_local_managed\\\":false,\\\"_local_managed_run_id\\\":null,\\\"cost_mode\\\":1,\\\"lag_length\\\":0,\\\"metric_operation\\\":\\\"maximize\\\",\\\"preprocess\\\":true}\", \"DataPrepJsonString\": \"{\\\\\\\"training_data\\\\\\\": \\\\\\\"{\\\\\\\\\\\\\\\"blocks\\\\\\\\\\\\\\\": [{\\\\\\\\\\\\\\\"id\\\\\\\\\\\\\\\": \\\\\\\\\\\\\\\"618d86d7-a6cf-47a4-93fa-ae7c360924a6\\\\\\\\\\\\\\\", \\\\\\\\\\\\\\\"type\\\\\\\\\\\\\\\": \\\\\\\\\\\\\\\"Microsoft.DPrep.GetDatastoreFilesBlock\\\\\\\\\\\\\\\", \\\\\\\\\\\\\\\"arguments\\\\\\\\\\\\\\\": {\\\\\\\\\\\\\\\"datastores\\\\\\\\\\\\\\\": [{\\\\\\\\\\\\\\\"datastoreName\\\\\\\\\\\\\\\": \\\\\\\\\\\\\\\"workspaceblobstore\\\\\\\\\\\\\\\", \\\\\\\\\\\\\\\"path\\\\\\\\\\\\\\\": \\\\\\\\\\\\\\\"data/train_set_automl_clean.csv\\\\\\\\\\\\\\\", \\\\\\\\\\\\\\\"resourceGroup\\\\\\\\\\\\\\\": \\\\\\\\\\\\\\\"aml-quickstarts-134235\\\\\\\\\\\\\\\", \\\\\\\\\\\\\\\"subscription\\\\\\\\\\\\\\\": \\\\\\\\\\\\\\\"f5091c60-1c3c-430f-8d81-d802f6bf2414\\\\\\\\\\\\\\\", \\\\\\\\\\\\\\\"workspaceName\\\\\\\\\\\\\\\": \\\\\\\\\\\\\\\"quick-starts-ws-134235\\\\\\\\\\\\\\\"}]}, \\\\\\\\\\\\\\\"localData\\\\\\\\\\\\\\\": {}, \\\\\\\\\\\\\\\"isEnabled\\\\\\\\\\\\\\\": true, \\\\\\\\\\\\\\\"name\\\\\\\\\\\\\\\": null, \\\\\\\\\\\\\\\"annotation\\\\\\\\\\\\\\\": null}, {\\\\\\\\\\\\\\\"id\\\\\\\\\\\\\\\": \\\\\\\\\\\\\\\"ad9ad209-af7f-41c3-b67d-b68ed9f74048\\\\\\\\\\\\\\\", \\\\\\\\\\\\\\\"type\\\\\\\\\\\\\\\": \\\\\\\\\\\\\\\"Microsoft.DPrep.ParseDelimitedBlock\\\\\\\\\\\\\\\", \\\\\\\\\\\\\\\"arguments\\\\\\\\\\\\\\\": {\\\\\\\\\\\\\\\"columnHeadersMode\\\\\\\\\\\\\\\": 3, \\\\\\\\\\\\\\\"fileEncoding\\\\\\\\\\\\\\\": 0, \\\\\\\\\\\\\\\"handleQuotedLineBreaks\\\\\\\\\\\\\\\": false, \\\\\\\\\\\\\\\"preview\\\\\\\\\\\\\\\": false, \\\\\\\\\\\\\\\"separator\\\\\\\\\\\\\\\": \\\\\\\\\\\\\\\",\\\\\\\\\\\\\\\", \\\\\\\\\\\\\\\"skipRows\\\\\\\\\\\\\\\": 0, \\\\\\\\\\\\\\\"skipRowsMode\\\\\\\\\\\\\\\": 0}, \\\\\\\\\\\\\\\"localData\\\\\\\\\\\\\\\": {}, \\\\\\\\\\\\\\\"isEnabled\\\\\\\\\\\\\\\": true, \\\\\\\\\\\\\\\"name\\\\\\\\\\\\\\\": null, \\\\\\\\\\\\\\\"annotation\\\\\\\\\\\\\\\": null}, {\\\\\\\\\\\\\\\"id\\\\\\\\\\\\\\\": \\\\\\\\\\\\\\\"3d748fcd-7f46-42f3-bc6b-f58bf031d845\\\\\\\\\\\\\\\", \\\\\\\\\\\\\\\"type\\\\\\\\\\\\\\\": \\\\\\\\\\\\\\\"Microsoft.DPrep.DropColumnsBlock\\\\\\\\\\\\\\\", \\\\\\\\\\\\\\\"arguments\\\\\\\\\\\\\\\": {\\\\\\\\\\\\\\\"columns\\\\\\\\\\\\\\\": {\\\\\\\\\\\\\\\"type\\\\\\\\\\\\\\\": 0, \\\\\\\\\\\\\\\"details\\\\\\\\\\\\\\\": {\\\\\\\\\\\\\\\"selectedColumns\\\\\\\\\\\\\\\": [\\\\\\\\\\\\\\\"Path\\\\\\\\\\\\\\\"]}}}, \\\\\\\\\\\\\\\"localData\\\\\\\\\\\\\\\": {}, \\\\\\\\\\\\\\\"isEnabled\\\\\\\\\\\\\\\": true, \\\\\\\\\\\\\\\"name\\\\\\\\\\\\\\\": null, \\\\\\\\\\\\\\\"annotation\\\\\\\\\\\\\\\": null}, {\\\\\\\\\\\\\\\"id\\\\\\\\\\\\\\\": \\\\\\\\\\\\\\\"0ce94676-8888-4df0-a9aa-0141a6c5c17e\\\\\\\\\\\\\\\", \\\\\\\\\\\\\\\"type\\\\\\\\\\\\\\\": \\\\\\\\\\\\\\\"Microsoft.DPrep.SetColumnTypesBlock\\\\\\\\\\\\\\\", \\\\\\\\\\\\\\\"arguments\\\\\\\\\\\\\\\": {\\\\\\\\\\\\\\\"columnConversion\\\\\\\\\\\\\\\": [{\\\\\\\\\\\\\\\"column\\\\\\\\\\\\\\\": {\\\\\\\\\\\\\\\"type\\\\\\\\\\\\\\\": 2, \\\\\\\\\\\\\\\"details\\\\\\\\\\\\\\\": {\\\\\\\\\\\\\\\"selectedColumn\\\\\\\\\\\\\\\": \\\\\\\\\\\\\\\"text\\\\\\\\\\\\\\\"}}, \\\\\\\\\\\\\\\"typeProperty\\\\\\\\\\\\\\\": 0}, {\\\\\\\\\\\\\\\"column\\\\\\\\\\\\\\\": {\\\\\\\\\\\\\\\"type\\\\\\\\\\\\\\\": 2, \\\\\\\\\\\\\\\"details\\\\\\\\\\\\\\\": {\\\\\\\\\\\\\\\"selectedColumn\\\\\\\\\\\\\\\": \\\\\\\\\\\\\\\"norm_rating\\\\\\\\\\\\\\\"}}, \\\\\\\\\\\\\\\"typeProperty\\\\\\\\\\\\\\\": 2}]}, \\\\\\\\\\\\\\\"localData\\\\\\\\\\\\\\\": {}, \\\\\\\\\\\\\\\"isEnabled\\\\\\\\\\\\\\\": true, \\\\\\\\\\\\\\\"name\\\\\\\\\\\\\\\": null, \\\\\\\\\\\\\\\"annotation\\\\\\\\\\\\\\\": null}], \\\\\\\\\\\\\\\"inspectors\\\\\\\\\\\\\\\": [], \\\\\\\\\\\\\\\"meta\\\\\\\\\\\\\\\": {\\\\\\\\\\\\\\\"steps_added\\\\\\\\\\\\\\\": \\\\\\\\\\\\\\\"4\\\\\\\\\\\\\\\"}}\\\\\\\", \\\\\\\"activities\\\\\\\": 0}\", \"EnableSubsampling\": null, \"runTemplate\": \"AutoML\", \"azureml.runsource\": \"automl\", \"display_task_type\": \"classification\", \"dependencies_versions\": \"{\\\"azureml-widgets\\\": \\\"1.19.0\\\", \\\"azureml-train\\\": \\\"1.19.0\\\", \\\"azureml-train-restclients-hyperdrive\\\": \\\"1.19.0\\\", \\\"azureml-train-core\\\": \\\"1.19.0\\\", \\\"azureml-train-automl\\\": \\\"1.19.0\\\", \\\"azureml-train-automl-runtime\\\": \\\"1.19.0\\\", \\\"azureml-train-automl-client\\\": \\\"1.19.0\\\", \\\"azureml-tensorboard\\\": \\\"1.19.0\\\", \\\"azureml-telemetry\\\": \\\"1.19.0\\\", \\\"azureml-sdk\\\": \\\"1.19.0\\\", \\\"azureml-samples\\\": \\\"0+unknown\\\", \\\"azureml-pipeline\\\": \\\"1.19.0\\\", \\\"azureml-pipeline-steps\\\": \\\"1.19.0\\\", \\\"azureml-pipeline-core\\\": \\\"1.19.0\\\", \\\"azureml-opendatasets\\\": \\\"1.19.0\\\", \\\"azureml-model-management-sdk\\\": \\\"1.0.1b6.post1\\\", \\\"azureml-mlflow\\\": \\\"1.19.0\\\", \\\"azureml-interpret\\\": \\\"1.19.0\\\", \\\"azureml-explain-model\\\": \\\"1.19.0\\\", \\\"azureml-defaults\\\": \\\"1.19.0\\\", \\\"azureml-dataset-runtime\\\": \\\"1.19.0\\\", \\\"azureml-dataprep\\\": \\\"2.6.1\\\", \\\"azureml-dataprep-rslex\\\": \\\"1.4.0\\\", \\\"azureml-dataprep-native\\\": \\\"26.0.0\\\", \\\"azureml-datadrift\\\": \\\"1.19.0\\\", \\\"azureml-core\\\": \\\"1.19.0\\\", \\\"azureml-contrib-services\\\": \\\"1.19.0\\\", \\\"azureml-contrib-server\\\": \\\"1.19.0\\\", \\\"azureml-contrib-reinforcementlearning\\\": \\\"1.19.0\\\", \\\"azureml-contrib-pipeline-steps\\\": \\\"1.19.0\\\", \\\"azureml-contrib-notebook\\\": \\\"1.19.0\\\", \\\"azureml-contrib-interpret\\\": \\\"1.19.0\\\", \\\"azureml-contrib-gbdt\\\": \\\"1.19.0\\\", \\\"azureml-contrib-fairness\\\": \\\"1.19.0\\\", \\\"azureml-contrib-dataset\\\": \\\"1.19.0\\\", \\\"azureml-cli-common\\\": \\\"1.19.0\\\", \\\"azureml-automl-runtime\\\": \\\"1.19.0\\\", \\\"azureml-automl-core\\\": \\\"1.19.0\\\", \\\"azureml-accel-models\\\": \\\"1.19.0\\\"}\", \"_aml_system_scenario_identification\": \"Remote.Parent\", \"ClientType\": \"SDK\", \"environment_cpu_name\": \"AzureML-AutoML\", \"environment_cpu_label\": \"prod\", \"environment_gpu_name\": \"AzureML-AutoML-GPU\", \"environment_gpu_label\": \"prod\", \"root_attribution\": \"automl\", \"attribution\": \"AutoML\", \"Orchestrator\": \"AutoML\", \"CancelUri\": \"https://southcentralus.experiments.azureml.net/jasmine/v1.0/subscriptions/f5091c60-1c3c-430f-8d81-d802f6bf2414/resourceGroups/aml-quickstarts-134235/providers/Microsoft.MachineLearningServices/workspaces/quick-starts-ws-134235/experimentids/c2a02ca3-2ee6-40aa-ac46-240a3c390e16/cancel/AutoML_be5ab369-c90c-4152-9be0-56f27acb4912\", \"ClientSdkVersion\": \"1.19.0\", \"snapshotId\": \"00000000-0000-0000-0000-000000000000\", \"SetupRunId\": \"AutoML_be5ab369-c90c-4152-9be0-56f27acb4912_setup\", \"SetupRunContainerId\": \"dcid.AutoML_be5ab369-c90c-4152-9be0-56f27acb4912_setup\", \"FeaturizationRunJsonPath\": \"featurizer_container.json\", \"FeaturizationRunId\": \"AutoML_be5ab369-c90c-4152-9be0-56f27acb4912_featurize\", \"ProblemInfoJsonString\": \"{\\\"dataset_num_categorical\\\": 0, \\\"is_sparse\\\": true, \\\"subsampling\\\": false, \\\"dataset_classes\\\": 3, \\\"dataset_features\\\": 880403, \\\"dataset_samples\\\": 16392, \\\"single_frequency_class_detected\\\": false}\", \"ModelExplainRunId\": \"AutoML_be5ab369-c90c-4152-9be0-56f27acb4912_ModelExplain\"}, \"tags\": {\"model_explain_run\": \"best_run\", \"_aml_system_azureml.automlComponent\": \"AutoML\", \"pipeline_id\": \"\", \"score\": \"\", \"predicted_cost\": \"\", \"fit_time\": \"\", \"training_percent\": \"\", \"iteration\": \"\", \"run_preprocessor\": \"\", \"run_algorithm\": \"\", \"automl_best_child_run_id\": \"AutoML_be5ab369-c90c-4152-9be0-56f27acb4912_2\", \"model_explain_best_run_child_id\": \"AutoML_be5ab369-c90c-4152-9be0-56f27acb4912_2\"}, \"end_time_utc\": \"2021-01-10T17:00:07.502883Z\", \"status\": \"Completed\", \"log_files\": {}, \"log_groups\": [], \"run_duration\": \"0:44:04\"}, \"child_runs\": [{\"run_id\": \"AutoML_be5ab369-c90c-4152-9be0-56f27acb4912_3\", \"run_number\": 5, \"metric\": null, \"status\": \"Completed\", \"run_type\": \"azureml.scriptrun\", \"training_percent\": \"100\", \"start_time\": \"2021-01-10T16:38:51.876825Z\", \"end_time\": \"2021-01-10T16:43:08.468121Z\", \"created_time\": \"2021-01-10T16:34:45.782822Z\", \"created_time_dt\": \"2021-01-10T16:34:45.782822Z\", \"duration\": \"0:08:22\", \"iteration\": \"3\", \"goal\": \"accuracy_max\", \"run_name\": \"MaxAbsScaler, RandomForest\", \"run_properties\": \"copy=True\", \"primary_metric\": 0.73517643, \"best_metric\": 0.73517643}, {\"run_id\": \"AutoML_be5ab369-c90c-4152-9be0-56f27acb4912_0\", \"run_number\": 6, \"metric\": null, \"status\": \"Canceled\", \"run_type\": \"azureml.scriptrun\", \"training_percent\": \"100\", \"start_time\": \"2021-01-10T16:34:56.477138Z\", \"end_time\": \"2021-01-10T16:56:16.275167Z\", \"created_time\": \"2021-01-10T16:34:45.795363Z\", \"created_time_dt\": \"2021-01-10T16:34:45.795363Z\", \"duration\": \"0:21:30\", \"iteration\": \"0\", \"goal\": null, \"run_name\": \"MaxAbsScaler, LightGBM\", \"run_properties\": null}, {\"run_id\": \"AutoML_be5ab369-c90c-4152-9be0-56f27acb4912_2\", \"run_number\": 7, \"metric\": null, \"status\": \"Completed\", \"run_type\": \"azureml.scriptrun\", \"training_percent\": \"100\", \"start_time\": \"2021-01-10T16:38:50.614237Z\", \"end_time\": \"2021-01-10T16:42:58.288959Z\", \"created_time\": \"2021-01-10T16:34:45.837455Z\", \"created_time_dt\": \"2021-01-10T16:34:45.837455Z\", \"duration\": \"0:08:12\", \"iteration\": \"2\", \"goal\": \"accuracy_max\", \"run_name\": \"MaxAbsScaler, RandomForest\", \"run_properties\": \"copy=True\", \"primary_metric\": 0.73517643, \"best_metric\": 0.73517643}, {\"run_id\": \"AutoML_be5ab369-c90c-4152-9be0-56f27acb4912_1\", \"run_number\": 8, \"metric\": null, \"status\": \"Canceled\", \"run_type\": \"azureml.scriptrun\", \"training_percent\": \"100\", \"start_time\": \"2021-01-10T16:38:49.353615Z\", \"end_time\": \"2021-01-10T16:56:18.005114Z\", \"created_time\": \"2021-01-10T16:34:46.172462Z\", \"created_time_dt\": \"2021-01-10T16:34:46.172462Z\", \"duration\": \"0:21:31\", \"iteration\": \"1\", \"goal\": null, \"run_name\": \"MaxAbsScaler, XGBoostClassifier\", \"run_properties\": null}, {\"run_id\": \"AutoML_be5ab369-c90c-4152-9be0-56f27acb4912_4\", \"run_number\": 9, \"metric\": null, \"status\": \"Completed\", \"run_type\": \"azureml.scriptrun\", \"training_percent\": \"100\", \"start_time\": \"2021-01-10T16:43:18.605076Z\", \"end_time\": \"2021-01-10T16:44:44.499852Z\", \"created_time\": \"2021-01-10T16:43:05.601826Z\", \"created_time_dt\": \"2021-01-10T16:43:05.601826Z\", \"duration\": \"0:01:38\", \"iteration\": \"4\", \"goal\": \"accuracy_max\", \"run_name\": \"MaxAbsScaler, RandomForest\", \"run_properties\": \"copy=True\", \"primary_metric\": 0.35388607, \"best_metric\": 0.73517643}, {\"run_id\": \"AutoML_be5ab369-c90c-4152-9be0-56f27acb4912_5\", \"run_number\": 10, \"metric\": null, \"status\": \"Completed\", \"run_type\": \"azureml.scriptrun\", \"training_percent\": \"100\", \"start_time\": \"2021-01-10T16:43:24.547969Z\", \"end_time\": \"2021-01-10T16:44:41.64886Z\", \"created_time\": \"2021-01-10T16:43:12.479025Z\", \"created_time_dt\": \"2021-01-10T16:43:12.479025Z\", \"duration\": \"0:01:29\", \"iteration\": \"5\", \"goal\": \"accuracy_max\", \"run_name\": \"MaxAbsScaler, RandomForest\", \"run_properties\": \"copy=True\", \"primary_metric\": 0.59541462, \"best_metric\": 0.73517643}, {\"run_id\": \"AutoML_be5ab369-c90c-4152-9be0-56f27acb4912_6\", \"run_number\": 11, \"metric\": null, \"status\": \"Canceled\", \"run_type\": \"azureml.scriptrun\", \"training_percent\": \"100\", \"start_time\": \"2021-01-10T16:44:56.636924Z\", \"end_time\": \"2021-01-10T16:56:19.741713Z\", \"created_time\": \"2021-01-10T16:44:44.211095Z\", \"created_time_dt\": \"2021-01-10T16:44:44.211095Z\", \"duration\": \"0:11:35\", \"iteration\": \"6\", \"goal\": null, \"run_name\": \"SparseNormalizer, XGBoostClassifier\", \"run_properties\": null}, {\"run_id\": \"AutoML_be5ab369-c90c-4152-9be0-56f27acb4912_7\", \"run_number\": 12, \"metric\": null, \"status\": \"Canceled\", \"run_type\": \"azureml.scriptrun\", \"training_percent\": \"100\", \"start_time\": \"2021-01-10T16:45:00.462819Z\", \"end_time\": \"2021-01-10T16:56:16.631232Z\", \"created_time\": \"2021-01-10T16:44:48.685309Z\", \"created_time_dt\": \"2021-01-10T16:44:48.685309Z\", \"duration\": \"0:11:27\", \"iteration\": \"7\", \"goal\": null, \"run_name\": \"StandardScalerWrapper, LightGBM\", \"run_properties\": null}, {\"run_id\": \"AutoML_be5ab369-c90c-4152-9be0-56f27acb4912_8\", \"run_number\": 13, \"metric\": null, \"status\": \"Completed\", \"run_type\": \"azureml.scriptrun\", \"training_percent\": \"100\", \"start_time\": \"2021-01-10T16:57:56.079075Z\", \"end_time\": \"2021-01-10T16:59:56.679876Z\", \"created_time\": \"2021-01-10T16:56:20.734065Z\", \"created_time_dt\": \"2021-01-10T16:56:20.734065Z\", \"duration\": \"0:03:35\", \"iteration\": \"8\", \"goal\": \"accuracy_max\", \"run_name\": \"VotingEnsemble\", \"run_properties\": \"classification_labels=None,\\n                              estimators=[('3',\\n                                           Pipeline(memory=None,\\n                                                    steps=[('maxabsscaler',\\n                                                            MaxAbsScaler(copy=True\", \"primary_metric\": 0.73517643, \"best_metric\": 0.73517643}, {\"run_id\": \"AutoML_be5ab369-c90c-4152-9be0-56f27acb4912_9\", \"run_number\": 14, \"metric\": null, \"status\": \"Failed\", \"run_type\": null, \"training_percent\": \"100\", \"start_time\": \"2021-01-10T16:56:20.783023Z\", \"end_time\": \"2021-01-10T16:56:28.491318Z\", \"created_time\": \"2021-01-10T16:56:20.783023Z\", \"created_time_dt\": \"2021-01-10T16:56:20.783023Z\", \"duration\": \"0:00:07\", \"iteration\": \"9\", \"goal\": null, \"run_name\": \"Failed\", \"run_properties\": null}], \"children_metrics\": {\"categories\": [0], \"series\": {\"f1_score_weighted\": [{\"categories\": [\"2\", \"3\", \"4\", \"5\", \"8\"], \"mode\": \"markers\", \"name\": \"f1_score_weighted\", \"stepped\": false, \"type\": \"scatter\", \"data\": [0.6229914167681883, 0.6229914167681883, 0.2722456779039825, 0.6321250138699923, 0.6229914167681883]}, {\"categories\": [\"2\", \"3\", \"4\", \"5\", \"8\"], \"mode\": \"lines\", \"name\": \"f1_score_weighted_max\", \"stepped\": true, \"type\": \"scatter\", \"data\": [0.6229914167681883, 0.6229914167681883, 0.6229914167681883, 0.6321250138699923, 0.6321250138699923]}], \"AUC_weighted\": [{\"categories\": [\"2\", \"3\", \"4\", \"5\", \"8\"], \"mode\": \"markers\", \"name\": \"AUC_weighted\", \"stepped\": false, \"type\": \"scatter\", \"data\": [0.7753820281917249, 0.7030716811241859, 0.5225739218231846, 0.7390356296568978, 0.7848917289108296]}, {\"categories\": [\"2\", \"3\", \"4\", \"5\", \"8\"], \"mode\": \"lines\", \"name\": \"AUC_weighted_max\", \"stepped\": true, \"type\": \"scatter\", \"data\": [0.7753820281917249, 0.7753820281917249, 0.7753820281917249, 0.7753820281917249, 0.7848917289108296]}], \"log_loss\": [{\"categories\": [\"2\", \"3\", \"4\", \"5\", \"8\"], \"mode\": \"markers\", \"name\": \"log_loss\", \"stepped\": false, \"type\": \"scatter\", \"data\": [0.7055442253741472, 0.7370768090586985, 1.0986330664934667, 1.0407973729056654, 0.7198316341422389]}, {\"categories\": [\"2\", \"3\", \"4\", \"5\", \"8\"], \"mode\": \"lines\", \"name\": \"log_loss_min\", \"stepped\": true, \"type\": \"scatter\", \"data\": [0.7055442253741472, 0.7055442253741472, 0.7055442253741472, 0.7055442253741472, 0.7055442253741472]}], \"precision_score_micro\": [{\"categories\": [\"2\", \"3\", \"4\", \"5\", \"8\"], \"mode\": \"markers\", \"name\": \"precision_score_micro\", \"stepped\": false, \"type\": \"scatter\", \"data\": [0.7351764263908047, 0.7351764263908047, 0.3538860733184587, 0.5954146238352628, 0.7351764263908047]}, {\"categories\": [\"2\", \"3\", \"4\", \"5\", \"8\"], \"mode\": \"lines\", \"name\": \"precision_score_micro_max\", \"stepped\": true, \"type\": \"scatter\", \"data\": [0.7351764263908047, 0.7351764263908047, 0.7351764263908047, 0.7351764263908047, 0.7351764263908047]}], \"matthews_correlation\": [{\"categories\": [\"2\", \"3\", \"4\", \"5\", \"8\"], \"mode\": \"markers\", \"name\": \"matthews_correlation\", \"stepped\": false, \"type\": \"scatter\", \"data\": [0.0, 0.0, 0.015239985150472294, 0.2709190870402221, 0.0]}, {\"categories\": [\"2\", \"3\", \"4\", \"5\", \"8\"], \"mode\": \"lines\", \"name\": \"matthews_correlation_max\", \"stepped\": true, \"type\": \"scatter\", \"data\": [0.0, 0.0, 0.015239985150472294, 0.2709190870402221, 0.2709190870402221]}], \"AUC_macro\": [{\"categories\": [\"2\", \"3\", \"4\", \"5\", \"8\"], \"mode\": \"markers\", \"name\": \"AUC_macro\", \"stepped\": false, \"type\": \"scatter\", \"data\": [0.7544775170402401, 0.685012721195945, 0.5228780465970779, 0.7108587694754013, 0.763744064805686]}, {\"categories\": [\"2\", \"3\", \"4\", \"5\", \"8\"], \"mode\": \"lines\", \"name\": \"AUC_macro_max\", \"stepped\": true, \"type\": \"scatter\", \"data\": [0.7544775170402401, 0.7544775170402401, 0.7544775170402401, 0.7544775170402401, 0.763744064805686]}], \"recall_score_weighted\": [{\"categories\": [\"2\", \"3\", \"4\", \"5\", \"8\"], \"mode\": \"markers\", \"name\": \"recall_score_weighted\", \"stepped\": false, \"type\": \"scatter\", \"data\": [0.7351764263908047, 0.7351764263908047, 0.3538860733184587, 0.5954146238352628, 0.7351764263908047]}, {\"categories\": [\"2\", \"3\", \"4\", \"5\", \"8\"], \"mode\": \"lines\", \"name\": \"recall_score_weighted_max\", \"stepped\": true, \"type\": \"scatter\", \"data\": [0.7351764263908047, 0.7351764263908047, 0.7351764263908047, 0.7351764263908047, 0.7351764263908047]}], \"f1_score_micro\": [{\"categories\": [\"2\", \"3\", \"4\", \"5\", \"8\"], \"mode\": \"markers\", \"name\": \"f1_score_micro\", \"stepped\": false, \"type\": \"scatter\", \"data\": [0.7351764263908047, 0.7351764263908047, 0.3538860733184587, 0.5954146238352628, 0.7351764263908047]}, {\"categories\": [\"2\", \"3\", \"4\", \"5\", \"8\"], \"mode\": \"lines\", \"name\": \"f1_score_micro_max\", \"stepped\": true, \"type\": \"scatter\", \"data\": [0.7351764263908047, 0.7351764263908047, 0.7351764263908047, 0.7351764263908047, 0.7351764263908047]}], \"average_precision_score_micro\": [{\"categories\": [\"2\", \"3\", \"4\", \"5\", \"8\"], \"mode\": \"markers\", \"name\": \"average_precision_score_micro\", \"stepped\": false, \"type\": \"scatter\", \"data\": [0.8167971439299683, 0.7810618144381829, 0.4344513009263138, 0.6423933378969432, 0.8190822512076549]}, {\"categories\": [\"2\", \"3\", \"4\", \"5\", \"8\"], \"mode\": \"lines\", \"name\": \"average_precision_score_micro_max\", \"stepped\": true, \"type\": \"scatter\", \"data\": [0.8167971439299683, 0.8167971439299683, 0.8167971439299683, 0.8167971439299683, 0.8190822512076549]}], \"weighted_accuracy\": [{\"categories\": [\"2\", \"3\", \"4\", \"5\", \"8\"], \"mode\": \"markers\", \"name\": \"weighted_accuracy\", \"stepped\": false, \"type\": \"scatter\", \"data\": [0.936838133009552, 0.936838133009552, 0.3714108980391515, 0.6280949604658103, 0.936838133009552]}, {\"categories\": [\"2\", \"3\", \"4\", \"5\", \"8\"], \"mode\": \"lines\", \"name\": \"weighted_accuracy_max\", \"stepped\": true, \"type\": \"scatter\", \"data\": [0.936838133009552, 0.936838133009552, 0.936838133009552, 0.936838133009552, 0.936838133009552]}], \"precision_score_weighted\": [{\"categories\": [\"2\", \"3\", \"4\", \"5\", \"8\"], \"mode\": \"markers\", \"name\": \"precision_score_weighted\", \"stepped\": false, \"type\": \"scatter\", \"data\": [0.5405312607985668, 0.5405312607985668, 0.34454389127551405, 0.7118418874620934, 0.5405312607985668]}, {\"categories\": [\"2\", \"3\", \"4\", \"5\", \"8\"], \"mode\": \"lines\", \"name\": \"precision_score_weighted_max\", \"stepped\": true, \"type\": \"scatter\", \"data\": [0.5405312607985668, 0.5405312607985668, 0.5405312607985668, 0.7118418874620934, 0.7118418874620934]}], \"average_precision_score_weighted\": [{\"categories\": [\"2\", \"3\", \"4\", \"5\", \"8\"], \"mode\": \"markers\", \"name\": \"average_precision_score_weighted\", \"stepped\": false, \"type\": \"scatter\", \"data\": [0.7574518391447689, 0.7064903623482596, 0.5873919683390877, 0.732933860438037, 0.7634886733309316]}, {\"categories\": [\"2\", \"3\", \"4\", \"5\", \"8\"], \"mode\": \"lines\", \"name\": \"average_precision_score_weighted_max\", \"stepped\": true, \"type\": \"scatter\", \"data\": [0.7574518391447689, 0.7574518391447689, 0.7574518391447689, 0.7574518391447689, 0.7634886733309316]}], \"recall_score_micro\": [{\"categories\": [\"2\", \"3\", \"4\", \"5\", \"8\"], \"mode\": \"markers\", \"name\": \"recall_score_micro\", \"stepped\": false, \"type\": \"scatter\", \"data\": [0.7351764263908047, 0.7351764263908047, 0.3538860733184587, 0.5954146238352628, 0.7351764263908047]}, {\"categories\": [\"2\", \"3\", \"4\", \"5\", \"8\"], \"mode\": \"lines\", \"name\": \"recall_score_micro_max\", \"stepped\": true, \"type\": \"scatter\", \"data\": [0.7351764263908047, 0.7351764263908047, 0.7351764263908047, 0.7351764263908047, 0.7351764263908047]}], \"accuracy\": [{\"categories\": [\"2\", \"3\", \"4\", \"5\", \"8\"], \"mode\": \"markers\", \"name\": \"accuracy\", \"stepped\": false, \"type\": \"scatter\", \"data\": [0.7351764263908047, 0.7351764263908047, 0.3538860733184587, 0.5954146238352628, 0.7351764263908047]}, {\"categories\": [\"2\", \"3\", \"4\", \"5\", \"8\"], \"mode\": \"lines\", \"name\": \"accuracy_max\", \"stepped\": true, \"type\": \"scatter\", \"data\": [0.7351764263908047, 0.7351764263908047, 0.7351764263908047, 0.7351764263908047, 0.7351764263908047]}], \"balanced_accuracy\": [{\"categories\": [\"2\", \"3\", \"4\", \"5\", \"8\"], \"mode\": \"markers\", \"name\": \"balanced_accuracy\", \"stepped\": false, \"type\": \"scatter\", \"data\": [0.3333333333333333, 0.3333333333333333, 0.3425524758465476, 0.5118837043503814, 0.3333333333333333]}, {\"categories\": [\"2\", \"3\", \"4\", \"5\", \"8\"], \"mode\": \"lines\", \"name\": \"balanced_accuracy_max\", \"stepped\": true, \"type\": \"scatter\", \"data\": [0.3333333333333333, 0.3333333333333333, 0.3425524758465476, 0.5118837043503814, 0.5118837043503814]}], \"average_precision_score_macro\": [{\"categories\": [\"2\", \"3\", \"4\", \"5\", \"8\"], \"mode\": \"markers\", \"name\": \"average_precision_score_macro\", \"stepped\": false, \"type\": \"scatter\", \"data\": [0.5159527272900497, 0.4504543258521675, 0.3427866316109184, 0.48223887349770456, 0.5221325641886033]}, {\"categories\": [\"2\", \"3\", \"4\", \"5\", \"8\"], \"mode\": \"lines\", \"name\": \"average_precision_score_macro_max\", \"stepped\": true, \"type\": \"scatter\", \"data\": [0.5159527272900497, 0.5159527272900497, 0.5159527272900497, 0.5159527272900497, 0.5221325641886033]}], \"recall_score_macro\": [{\"categories\": [\"2\", \"3\", \"4\", \"5\", \"8\"], \"mode\": \"markers\", \"name\": \"recall_score_macro\", \"stepped\": false, \"type\": \"scatter\", \"data\": [0.3333333333333333, 0.3333333333333333, 0.3425524758465476, 0.5118837043503814, 0.3333333333333333]}, {\"categories\": [\"2\", \"3\", \"4\", \"5\", \"8\"], \"mode\": \"lines\", \"name\": \"recall_score_macro_max\", \"stepped\": true, \"type\": \"scatter\", \"data\": [0.3333333333333333, 0.3333333333333333, 0.3425524758465476, 0.5118837043503814, 0.5118837043503814]}], \"AUC_micro\": [{\"categories\": [\"2\", \"3\", \"4\", \"5\", \"8\"], \"mode\": \"markers\", \"name\": \"AUC_micro\", \"stepped\": false, \"type\": \"scatter\", \"data\": [0.8777027805219355, 0.8557173675702225, 0.5061026055338658, 0.7462174348154551, 0.8739753700889754]}, {\"categories\": [\"2\", \"3\", \"4\", \"5\", \"8\"], \"mode\": \"lines\", \"name\": \"AUC_micro_max\", \"stepped\": true, \"type\": \"scatter\", \"data\": [0.8777027805219355, 0.8777027805219355, 0.8777027805219355, 0.8777027805219355, 0.8777027805219355]}], \"norm_macro_recall\": [{\"categories\": [\"2\", \"3\", \"4\", \"5\", \"8\"], \"mode\": \"markers\", \"name\": \"norm_macro_recall\", \"stepped\": false, \"type\": \"scatter\", \"data\": [0.0, 0.0, 0.013828713769821342, 0.26782555652557216, 0.0]}, {\"categories\": [\"2\", \"3\", \"4\", \"5\", \"8\"], \"mode\": \"lines\", \"name\": \"norm_macro_recall_max\", \"stepped\": true, \"type\": \"scatter\", \"data\": [0.0, 0.0, 0.013828713769821342, 0.26782555652557216, 0.26782555652557216]}], \"precision_score_macro\": [{\"categories\": [\"2\", \"3\", \"4\", \"5\", \"8\"], \"mode\": \"markers\", \"name\": \"precision_score_macro\", \"stepped\": false, \"type\": \"scatter\", \"data\": [0.2450588087969349, 0.2450588087969349, 0.22715274464614083, 0.46099125868392, 0.2450588087969349]}, {\"categories\": [\"2\", \"3\", \"4\", \"5\", \"8\"], \"mode\": \"lines\", \"name\": \"precision_score_macro_max\", \"stepped\": true, \"type\": \"scatter\", \"data\": [0.2450588087969349, 0.2450588087969349, 0.2450588087969349, 0.46099125868392, 0.46099125868392]}], \"f1_score_macro\": [{\"categories\": [\"2\", \"3\", \"4\", \"5\", \"8\"], \"mode\": \"markers\", \"name\": \"f1_score_macro\", \"stepped\": false, \"type\": \"scatter\", \"data\": [0.2824538120044736, 0.2824538120044736, 0.18452030185973678, 0.462168883750801, 0.2824538120044736]}, {\"categories\": [\"2\", \"3\", \"4\", \"5\", \"8\"], \"mode\": \"lines\", \"name\": \"f1_score_macro_max\", \"stepped\": true, \"type\": \"scatter\", \"data\": [0.2824538120044736, 0.2824538120044736, 0.2824538120044736, 0.462168883750801, 0.462168883750801]}]}, \"metricName\": null, \"primaryMetricName\": \"accuracy\", \"showLegend\": false}, \"run_metrics\": [{\"name\": \"experiment_status\", \"run_id\": \"AutoML_be5ab369-c90c-4152-9be0-56f27acb4912\", \"categories\": [0, 1, 2, 3, 4, 5, 6, 7, 8, 9, 10, 11, 12, 13, 14], \"series\": [{\"data\": [\"DatasetEvaluation\", \"FeaturesGeneration\", \"DatasetFeaturization\", \"DatasetFeaturizationCompleted\", \"DatasetBalancing\", \"DatasetCrossValidationSplit\", \"ModelSelection\", \"BestRunExplainModel\", \"ModelExplanationDataSetSetup\", \"PickSurrogateModel\", \"EngineeredFeatureExplanations\", \"EngineeredFeatureExplanations\", \"RawFeaturesExplanations\", \"RawFeaturesExplanations\", \"BestRunExplainModel\"]}]}, {\"name\": \"experiment_status_description\", \"run_id\": \"AutoML_be5ab369-c90c-4152-9be0-56f27acb4912\", \"categories\": [0, 1, 2, 3, 4, 5, 6, 7, 8, 9, 10, 11, 12, 13, 14], \"series\": [{\"data\": [\"Gathering dataset statistics.\", \"Generating features for the dataset.\", \"Beginning to fit featurizers and featurize the dataset.\", \"Completed fit featurizers and featurizing the dataset.\", \"Performing class balancing sweeping\", \"Generating individually featurized CV splits.\", \"Beginning model selection.\", \"Best run model explanations started\", \"Model explanations data setup completed\", \"Choosing LinearModel as the surrogate model for explanations\", \"Computation of engineered features started\", \"Computation of engineered features completed\", \"Computation of raw features started\", \"Computation of raw features completed\", \"Best run model explanations completed\"]}]}], \"run_logs\": \"\\nRun is completed.\", \"graph\": {}, \"widget_settings\": {\"childWidgetDisplay\": \"popup\", \"send_telemetry\": false, \"log_level\": \"INFO\", \"sdk_version\": \"1.19.0\"}, \"loading\": false}"
     },
     "metadata": {},
     "output_type": "display_data"
    },
    {
     "data": {
      "application/vnd.jupyter.widget-view+json": {
       "model_id": "",
       "version_major": 2,
       "version_minor": 0
      },
      "text/plain": [
       "_UserRunWidget(widget_settings={'childWidgetDisplay': 'popup', 'send_telemetry': False, 'log_level': 'INFO', '…"
      ]
     },
     "metadata": {},
     "output_type": "display_data"
    },
    {
     "data": {
      "application/aml.mini.widget.v1": "{\"loading\": true}"
     },
     "metadata": {},
     "output_type": "display_data"
    },
    {
     "data": {
      "application/vnd.jupyter.widget-view+json": {
       "model_id": "8ed7661376014baf83729c5dd01343bb",
       "version_major": 2,
       "version_minor": 0
      },
      "text/plain": [
       "_UserRunWidget(widget_settings={'childWidgetDisplay': 'popup', 'send_telemetry': False, 'log_level': 'INFO', '…"
      ]
     },
     "metadata": {},
     "output_type": "display_data"
    },
    {
     "data": {
      "application/aml.mini.widget.v1": "{\"loading\": true}"
     },
     "metadata": {},
     "output_type": "display_data"
    }
   ],
   "source": [
    "from azureml.widgets import RunDetails\n",
    "RunDetails(automl_run ).show()"
   ]
  },
  {
   "cell_type": "code",
   "execution_count": 32,
   "metadata": {
    "gather": {
     "logged": 1598431121770
    },
    "jupyter": {
     "outputs_hidden": false,
     "source_hidden": false
    },
    "nteract": {
     "transient": {
      "deleting": false
     }
    }
   },
   "outputs": [
    {
     "name": "stdout",
     "output_type": "stream",
     "text": [
      "\n",
      "Current status: FeaturesGeneration. Generating features for the dataset.\n",
      "Current status: DatasetFeaturization. Beginning to fit featurizers and featurize the dataset.\n",
      "Current status: DatasetBalancing. Performing class balancing sweeping\n",
      "Current status: DatasetCrossValidationSplit. Generating individually featurized CV splits.\n",
      "Current status: ModelSelection. Beginning model selection.\n",
      "\n",
      "****************************************************************************************************\n",
      "DATA GUARDRAILS: \n",
      "\n",
      "TYPE:         Class balancing detection\n",
      "STATUS:       ALERTED\n",
      "DESCRIPTION:  To decrease model bias, please cancel the current run and fix balancing problem.\n",
      "              Learn more about imbalanced data: https://aka.ms/AutomatedMLImbalancedData\n",
      "DETAILS:      Imbalanced data can lead to a falsely perceived positive effect of a model's accuracy because the input data has bias towards one class.\n",
      "+---------------------------------+---------------------------------+--------------------------------------+\n",
      "|Size of the smallest class       |Name/Label of the smallest class |Number of samples in the training data|\n",
      "+=================================+=================================+======================================+\n",
      "|1752                             |1                                |16392                                 |\n",
      "+---------------------------------+---------------------------------+--------------------------------------+\n",
      "\n",
      "****************************************************************************************************\n",
      "\n",
      "TYPE:         Missing feature values imputation\n",
      "STATUS:       PASSED\n",
      "DESCRIPTION:  No feature missing values were detected in the training data.\n",
      "              Learn more about missing value imputation: https://aka.ms/AutomatedMLFeaturization\n",
      "\n",
      "****************************************************************************************************\n",
      "\n",
      "TYPE:         High cardinality feature detection\n",
      "STATUS:       DONE\n",
      "DESCRIPTION:  High cardinality features were detected in your inputs and handled.\n",
      "              Learn more about high cardinality feature handling: https://aka.ms/AutomatedMLFeaturization\n",
      "DETAILS:      High cardinality features refer to columns that contain a large percentage of unique values.\n",
      "+---------------------------------+---------------------------------+\n",
      "|Column name                      |Column Content Type              |\n",
      "+=================================+=================================+\n",
      "|text                             |text                             |\n",
      "+---------------------------------+---------------------------------+\n",
      "\n",
      "****************************************************************************************************\n",
      "\n",
      "****************************************************************************************************\n",
      "ITERATION: The iteration being evaluated.\n",
      "PIPELINE: A summary description of the pipeline being evaluated.\n",
      "DURATION: Time taken for the current iteration.\n",
      "METRIC: The result of computing score on the fitted pipeline.\n",
      "BEST: The best observed score thus far.\n",
      "****************************************************************************************************\n",
      "\n",
      " ITERATION   PIPELINE                                       DURATION      METRIC      BEST\n",
      "         2   MaxAbsScaler RandomForest                      0:04:08       0.7352    0.7352\n",
      "         3   MaxAbsScaler RandomForest                      0:04:17       0.7352    0.7352\n",
      "         4   MaxAbsScaler RandomForest                      0:01:26       0.3539    0.7352\n",
      "         5   MaxAbsScaler RandomForest                      0:01:17       0.5954    0.7352\n",
      "         0   MaxAbsScaler LightGBM                          0:21:20          nan    0.7352\n",
      "         1   MaxAbsScaler XGBoostClassifier                 0:17:29          nan    0.7352\n",
      "         6   SparseNormalizer XGBoostClassifier             0:11:23          nan    0.7352\n",
      "         7   StandardScalerWrapper LightGBM                 0:11:16          nan    0.7352\n",
      "         9                                                  0:00:08          nan    0.7352\n",
      "         8    VotingEnsemble                                0:02:01       0.7352    0.7352\n"
     ]
    },
    {
     "data": {
      "text/plain": [
       "{'runId': 'AutoML_be5ab369-c90c-4152-9be0-56f27acb4912',\n",
       " 'target': 'cpu-cluster-1',\n",
       " 'status': 'Completed',\n",
       " 'startTimeUtc': '2021-01-10T16:16:18.403651Z',\n",
       " 'endTimeUtc': '2021-01-10T17:00:07.502883Z',\n",
       " 'properties': {'num_iterations': '1000',\n",
       "  'training_type': 'TrainFull',\n",
       "  'acquisition_function': 'EI',\n",
       "  'primary_metric': 'accuracy',\n",
       "  'train_split': '0',\n",
       "  'acquisition_parameter': '0',\n",
       "  'num_cross_validation': '5',\n",
       "  'target': 'cpu-cluster-1',\n",
       "  'AMLSettingsJsonString': '{\"path\":null,\"name\":\"automl_review_classifier\",\"subscription_id\":\"f5091c60-1c3c-430f-8d81-d802f6bf2414\",\"resource_group\":\"aml-quickstarts-134235\",\"workspace_name\":\"quick-starts-ws-134235\",\"region\":\"southcentralus\",\"compute_target\":\"cpu-cluster-1\",\"spark_service\":null,\"azure_service\":\"remote\",\"many_models\":false,\"pipeline_fetch_max_batch_size\":1,\"iterations\":1000,\"primary_metric\":\"accuracy\",\"task_type\":\"classification\",\"data_script\":null,\"validation_size\":0.0,\"n_cross_validations\":5,\"y_min\":null,\"y_max\":null,\"num_classes\":null,\"featurization\":\"auto\",\"_ignore_package_version_incompatibilities\":false,\"is_timeseries\":false,\"max_cores_per_iteration\":1,\"max_concurrent_iterations\":4,\"iteration_timeout_minutes\":null,\"mem_in_mb\":null,\"enforce_time_on_windows\":false,\"experiment_timeout_minutes\":20,\"experiment_exit_score\":null,\"whitelist_models\":null,\"blacklist_algos\":[\"TensorFlowLinearClassifier\",\"TensorFlowDNN\"],\"supported_models\":[\"SVM\",\"LogisticRegression\",\"KNN\",\"XGBoostClassifier\",\"ExtremeRandomTrees\",\"MultinomialNaiveBayes\",\"LightGBM\",\"BernoulliNaiveBayes\",\"GradientBoosting\",\"RandomForest\",\"TensorFlowLinearClassifier\",\"AveragedPerceptronClassifier\",\"SGD\",\"LinearSVM\",\"DecisionTree\",\"TensorFlowDNN\"],\"auto_blacklist\":true,\"blacklist_samples_reached\":false,\"exclude_nan_labels\":true,\"verbosity\":20,\"_debug_log\":\"azureml_automl.log\",\"show_warnings\":false,\"model_explainability\":true,\"service_url\":null,\"sdk_url\":null,\"sdk_packages\":null,\"enable_onnx_compatible_models\":false,\"enable_split_onnx_featurizer_estimator_models\":false,\"vm_type\":\"STANDARD_D2_V2\",\"telemetry_verbosity\":20,\"send_telemetry\":true,\"enable_dnn\":false,\"scenario\":\"SDK-1.13.0\",\"environment_label\":null,\"force_text_dnn\":false,\"enable_feature_sweeping\":true,\"enable_early_stopping\":true,\"early_stopping_n_iters\":10,\"metrics\":null,\"enable_ensembling\":true,\"enable_stack_ensembling\":true,\"ensemble_iterations\":15,\"enable_tf\":false,\"enable_subsampling\":null,\"subsample_seed\":null,\"enable_nimbusml\":false,\"enable_streaming\":false,\"force_streaming\":false,\"track_child_runs\":true,\"allowed_private_models\":[],\"label_column_name\":\"norm_rating\",\"weight_column_name\":null,\"cv_split_column_names\":null,\"enable_local_managed\":false,\"_local_managed_run_id\":null,\"cost_mode\":1,\"lag_length\":0,\"metric_operation\":\"maximize\",\"preprocess\":true}',\n",
       "  'DataPrepJsonString': '{\\\\\"training_data\\\\\": \\\\\"{\\\\\\\\\\\\\"blocks\\\\\\\\\\\\\": [{\\\\\\\\\\\\\"id\\\\\\\\\\\\\": \\\\\\\\\\\\\"618d86d7-a6cf-47a4-93fa-ae7c360924a6\\\\\\\\\\\\\", \\\\\\\\\\\\\"type\\\\\\\\\\\\\": \\\\\\\\\\\\\"Microsoft.DPrep.GetDatastoreFilesBlock\\\\\\\\\\\\\", \\\\\\\\\\\\\"arguments\\\\\\\\\\\\\": {\\\\\\\\\\\\\"datastores\\\\\\\\\\\\\": [{\\\\\\\\\\\\\"datastoreName\\\\\\\\\\\\\": \\\\\\\\\\\\\"workspaceblobstore\\\\\\\\\\\\\", \\\\\\\\\\\\\"path\\\\\\\\\\\\\": \\\\\\\\\\\\\"data/train_set_automl_clean.csv\\\\\\\\\\\\\", \\\\\\\\\\\\\"resourceGroup\\\\\\\\\\\\\": \\\\\\\\\\\\\"aml-quickstarts-134235\\\\\\\\\\\\\", \\\\\\\\\\\\\"subscription\\\\\\\\\\\\\": \\\\\\\\\\\\\"f5091c60-1c3c-430f-8d81-d802f6bf2414\\\\\\\\\\\\\", \\\\\\\\\\\\\"workspaceName\\\\\\\\\\\\\": \\\\\\\\\\\\\"quick-starts-ws-134235\\\\\\\\\\\\\"}]}, \\\\\\\\\\\\\"localData\\\\\\\\\\\\\": {}, \\\\\\\\\\\\\"isEnabled\\\\\\\\\\\\\": true, \\\\\\\\\\\\\"name\\\\\\\\\\\\\": null, \\\\\\\\\\\\\"annotation\\\\\\\\\\\\\": null}, {\\\\\\\\\\\\\"id\\\\\\\\\\\\\": \\\\\\\\\\\\\"ad9ad209-af7f-41c3-b67d-b68ed9f74048\\\\\\\\\\\\\", \\\\\\\\\\\\\"type\\\\\\\\\\\\\": \\\\\\\\\\\\\"Microsoft.DPrep.ParseDelimitedBlock\\\\\\\\\\\\\", \\\\\\\\\\\\\"arguments\\\\\\\\\\\\\": {\\\\\\\\\\\\\"columnHeadersMode\\\\\\\\\\\\\": 3, \\\\\\\\\\\\\"fileEncoding\\\\\\\\\\\\\": 0, \\\\\\\\\\\\\"handleQuotedLineBreaks\\\\\\\\\\\\\": false, \\\\\\\\\\\\\"preview\\\\\\\\\\\\\": false, \\\\\\\\\\\\\"separator\\\\\\\\\\\\\": \\\\\\\\\\\\\",\\\\\\\\\\\\\", \\\\\\\\\\\\\"skipRows\\\\\\\\\\\\\": 0, \\\\\\\\\\\\\"skipRowsMode\\\\\\\\\\\\\": 0}, \\\\\\\\\\\\\"localData\\\\\\\\\\\\\": {}, \\\\\\\\\\\\\"isEnabled\\\\\\\\\\\\\": true, \\\\\\\\\\\\\"name\\\\\\\\\\\\\": null, \\\\\\\\\\\\\"annotation\\\\\\\\\\\\\": null}, {\\\\\\\\\\\\\"id\\\\\\\\\\\\\": \\\\\\\\\\\\\"3d748fcd-7f46-42f3-bc6b-f58bf031d845\\\\\\\\\\\\\", \\\\\\\\\\\\\"type\\\\\\\\\\\\\": \\\\\\\\\\\\\"Microsoft.DPrep.DropColumnsBlock\\\\\\\\\\\\\", \\\\\\\\\\\\\"arguments\\\\\\\\\\\\\": {\\\\\\\\\\\\\"columns\\\\\\\\\\\\\": {\\\\\\\\\\\\\"type\\\\\\\\\\\\\": 0, \\\\\\\\\\\\\"details\\\\\\\\\\\\\": {\\\\\\\\\\\\\"selectedColumns\\\\\\\\\\\\\": [\\\\\\\\\\\\\"Path\\\\\\\\\\\\\"]}}}, \\\\\\\\\\\\\"localData\\\\\\\\\\\\\": {}, \\\\\\\\\\\\\"isEnabled\\\\\\\\\\\\\": true, \\\\\\\\\\\\\"name\\\\\\\\\\\\\": null, \\\\\\\\\\\\\"annotation\\\\\\\\\\\\\": null}, {\\\\\\\\\\\\\"id\\\\\\\\\\\\\": \\\\\\\\\\\\\"0ce94676-8888-4df0-a9aa-0141a6c5c17e\\\\\\\\\\\\\", \\\\\\\\\\\\\"type\\\\\\\\\\\\\": \\\\\\\\\\\\\"Microsoft.DPrep.SetColumnTypesBlock\\\\\\\\\\\\\", \\\\\\\\\\\\\"arguments\\\\\\\\\\\\\": {\\\\\\\\\\\\\"columnConversion\\\\\\\\\\\\\": [{\\\\\\\\\\\\\"column\\\\\\\\\\\\\": {\\\\\\\\\\\\\"type\\\\\\\\\\\\\": 2, \\\\\\\\\\\\\"details\\\\\\\\\\\\\": {\\\\\\\\\\\\\"selectedColumn\\\\\\\\\\\\\": \\\\\\\\\\\\\"text\\\\\\\\\\\\\"}}, \\\\\\\\\\\\\"typeProperty\\\\\\\\\\\\\": 0}, {\\\\\\\\\\\\\"column\\\\\\\\\\\\\": {\\\\\\\\\\\\\"type\\\\\\\\\\\\\": 2, \\\\\\\\\\\\\"details\\\\\\\\\\\\\": {\\\\\\\\\\\\\"selectedColumn\\\\\\\\\\\\\": \\\\\\\\\\\\\"norm_rating\\\\\\\\\\\\\"}}, \\\\\\\\\\\\\"typeProperty\\\\\\\\\\\\\": 2}]}, \\\\\\\\\\\\\"localData\\\\\\\\\\\\\": {}, \\\\\\\\\\\\\"isEnabled\\\\\\\\\\\\\": true, \\\\\\\\\\\\\"name\\\\\\\\\\\\\": null, \\\\\\\\\\\\\"annotation\\\\\\\\\\\\\": null}], \\\\\\\\\\\\\"inspectors\\\\\\\\\\\\\": [], \\\\\\\\\\\\\"meta\\\\\\\\\\\\\": {\\\\\\\\\\\\\"steps_added\\\\\\\\\\\\\": \\\\\\\\\\\\\"4\\\\\\\\\\\\\"}}\\\\\", \\\\\"activities\\\\\": 0}',\n",
       "  'EnableSubsampling': None,\n",
       "  'runTemplate': 'AutoML',\n",
       "  'azureml.runsource': 'automl',\n",
       "  'display_task_type': 'classification',\n",
       "  'dependencies_versions': '{\"azureml-widgets\": \"1.19.0\", \"azureml-train\": \"1.19.0\", \"azureml-train-restclients-hyperdrive\": \"1.19.0\", \"azureml-train-core\": \"1.19.0\", \"azureml-train-automl\": \"1.19.0\", \"azureml-train-automl-runtime\": \"1.19.0\", \"azureml-train-automl-client\": \"1.19.0\", \"azureml-tensorboard\": \"1.19.0\", \"azureml-telemetry\": \"1.19.0\", \"azureml-sdk\": \"1.19.0\", \"azureml-samples\": \"0+unknown\", \"azureml-pipeline\": \"1.19.0\", \"azureml-pipeline-steps\": \"1.19.0\", \"azureml-pipeline-core\": \"1.19.0\", \"azureml-opendatasets\": \"1.19.0\", \"azureml-model-management-sdk\": \"1.0.1b6.post1\", \"azureml-mlflow\": \"1.19.0\", \"azureml-interpret\": \"1.19.0\", \"azureml-explain-model\": \"1.19.0\", \"azureml-defaults\": \"1.19.0\", \"azureml-dataset-runtime\": \"1.19.0\", \"azureml-dataprep\": \"2.6.1\", \"azureml-dataprep-rslex\": \"1.4.0\", \"azureml-dataprep-native\": \"26.0.0\", \"azureml-datadrift\": \"1.19.0\", \"azureml-core\": \"1.19.0\", \"azureml-contrib-services\": \"1.19.0\", \"azureml-contrib-server\": \"1.19.0\", \"azureml-contrib-reinforcementlearning\": \"1.19.0\", \"azureml-contrib-pipeline-steps\": \"1.19.0\", \"azureml-contrib-notebook\": \"1.19.0\", \"azureml-contrib-interpret\": \"1.19.0\", \"azureml-contrib-gbdt\": \"1.19.0\", \"azureml-contrib-fairness\": \"1.19.0\", \"azureml-contrib-dataset\": \"1.19.0\", \"azureml-cli-common\": \"1.19.0\", \"azureml-automl-runtime\": \"1.19.0\", \"azureml-automl-core\": \"1.19.0\", \"azureml-accel-models\": \"1.19.0\"}',\n",
       "  '_aml_system_scenario_identification': 'Remote.Parent',\n",
       "  'ClientType': 'SDK',\n",
       "  'environment_cpu_name': 'AzureML-AutoML',\n",
       "  'environment_cpu_label': 'prod',\n",
       "  'environment_gpu_name': 'AzureML-AutoML-GPU',\n",
       "  'environment_gpu_label': 'prod',\n",
       "  'root_attribution': 'automl',\n",
       "  'attribution': 'AutoML',\n",
       "  'Orchestrator': 'AutoML',\n",
       "  'CancelUri': 'https://southcentralus.experiments.azureml.net/jasmine/v1.0/subscriptions/f5091c60-1c3c-430f-8d81-d802f6bf2414/resourceGroups/aml-quickstarts-134235/providers/Microsoft.MachineLearningServices/workspaces/quick-starts-ws-134235/experimentids/c2a02ca3-2ee6-40aa-ac46-240a3c390e16/cancel/AutoML_be5ab369-c90c-4152-9be0-56f27acb4912',\n",
       "  'ClientSdkVersion': '1.19.0',\n",
       "  'snapshotId': '00000000-0000-0000-0000-000000000000',\n",
       "  'SetupRunId': 'AutoML_be5ab369-c90c-4152-9be0-56f27acb4912_setup',\n",
       "  'SetupRunContainerId': 'dcid.AutoML_be5ab369-c90c-4152-9be0-56f27acb4912_setup',\n",
       "  'FeaturizationRunJsonPath': 'featurizer_container.json',\n",
       "  'FeaturizationRunId': 'AutoML_be5ab369-c90c-4152-9be0-56f27acb4912_featurize',\n",
       "  'ProblemInfoJsonString': '{\"dataset_num_categorical\": 0, \"is_sparse\": true, \"subsampling\": false, \"dataset_classes\": 3, \"dataset_features\": 880403, \"dataset_samples\": 16392, \"single_frequency_class_detected\": false}',\n",
       "  'ModelExplainRunId': 'AutoML_be5ab369-c90c-4152-9be0-56f27acb4912_ModelExplain'},\n",
       " 'inputDatasets': [],\n",
       " 'outputDatasets': [],\n",
       " 'logFiles': {}}"
      ]
     },
     "execution_count": 32,
     "metadata": {},
     "output_type": "execute_result"
    }
   ],
   "source": [
    "automl_run.wait_for_completion(show_output=True)"
   ]
  },
  {
   "cell_type": "markdown",
   "metadata": {},
   "source": [
    "## Performance metrics and Best Model\n",
    "\n",
    "TODO: In the cell below, get the best model from the automl experiments and display all the properties of the model.\n"
   ]
  },
  {
   "cell_type": "markdown",
   "metadata": {},
   "source": [
    "### Get the best model and the best run"
   ]
  },
  {
   "cell_type": "code",
   "execution_count": 33,
   "metadata": {},
   "outputs": [
    {
     "name": "stdout",
     "output_type": "stream",
     "text": [
      "['accuracy_table', 'automl_driver.py', 'azureml-logs/55_azureml-execution-tvmps_52ef5815b4caba43af4aea90e4bf9ef0f86937fa40694d33fb75e1570561053b_d.txt', 'azureml-logs/65_job_prep-tvmps_52ef5815b4caba43af4aea90e4bf9ef0f86937fa40694d33fb75e1570561053b_d.txt', 'azureml-logs/70_driver_log.txt', 'azureml-logs/75_job_post-tvmps_52ef5815b4caba43af4aea90e4bf9ef0f86937fa40694d33fb75e1570561053b_d.txt', 'azureml-logs/process_info.json', 'azureml-logs/process_status.json', 'confusion_matrix', 'logs/azureml/100_azureml.log', 'logs/azureml/azureml_automl.log', 'logs/azureml/dataprep/python_span_9e6880b5-e3b9-4a1c-a434-7d3fb61b30e7.jsonl', 'logs/azureml/dataprep/python_span_e302c4e4-16b3-41e3-808e-a63855dc8277.jsonl', 'logs/azureml/job_prep_azureml.log', 'logs/azureml/job_release_azureml.log', 'outputs/conda_env_v_1_0_0.yml', 'outputs/env_dependencies.json', 'outputs/internal_cross_validated_models.pkl', 'outputs/model.pkl', 'outputs/pipeline_graph.json', 'outputs/scoring_file_v_1_0_0.py']\n"
     ]
    }
   ],
   "source": [
    "best_child = automl_run.get_best_child()\n",
    "print(best_child.get_file_names())"
   ]
  },
  {
   "cell_type": "code",
   "execution_count": 34,
   "metadata": {},
   "outputs": [],
   "source": [
    "best_model = best_child.register_model(model_name=\"best-automl-model\", model_path=\"outputs/model.pkl\")"
   ]
  },
  {
   "cell_type": "markdown",
   "metadata": {},
   "source": [
    "## Model Deployment\n",
    "\n",
    "In the cell below, register the model, create an inference config and deploy the model as a web service."
   ]
  },
  {
   "cell_type": "code",
   "execution_count": 35,
   "metadata": {},
   "outputs": [],
   "source": [
    "from azureml.core.environment import Environment\n",
    "from azureml.core.model import Model\n",
    "from azureml.core.conda_dependencies import CondaDependencies\n",
    "from azureml.core.model import InferenceConfig\n",
    "from azureml.core.webservice import AciWebservice\n",
    "\n",
    "# Create the environment\n",
    "myenv = Environment(name=\"myenv\")\n",
    "conda_dep = CondaDependencies()\n",
    "\n",
    "# Define the packages needed by the model and scripts\n",
    "conda_dep.add_conda_package(\"pandas\")\n",
    "conda_dep.add_conda_package(\"numpy\")\n",
    "conda_dep.add_conda_package(\"scikit-learn\")\n",
    "conda_dep.add_conda_package(\"xgboost\")\n",
    "# You must list azureml-defaults as a pip dependency\n",
    "conda_dep.add_pip_package(\"azureml-defaults\")\n",
    "\n",
    "# Adds dependencies to PythonSection of myenv\n",
    "myenv.python.conda_dependencies=conda_dep\n",
    "\n",
    "inference_config = InferenceConfig(entry_script=\"automl_score.py\",\n",
    "                                   environment=myenv)"
   ]
  },
  {
   "cell_type": "code",
   "execution_count": 36,
   "metadata": {},
   "outputs": [
    {
     "name": "stdout",
     "output_type": "stream",
     "text": [
      "Tips: You can try get_logs(): https://aka.ms/debugimage#dockerlog or local deployment: https://aka.ms/debugimage#debug-locally to debug if deployment takes longer than 10 minutes.\n",
      "Running..........................................................................................................................................................................\n",
      "Failed\n"
     ]
    },
    {
     "name": "stderr",
     "output_type": "stream",
     "text": [
      "ERROR:azureml.core.webservice.webservice:Service deployment polling reached non-successful terminal state, current service state: Failed\n",
      "Operation ID: 54a3726a-1fb2-42c2-96ad-65cf4b6a6d0b\n",
      "More information can be found using '.get_logs()'\n",
      "Error:\n",
      "{\n",
      "  \"code\": \"AciDeploymentFailed\",\n",
      "  \"message\": \"Aci Deployment failed with exception: Your container application crashed. This may be caused by errors in your scoring file's init() function.\\nPlease check the logs for your container instance: automl-review-classification. From the AML SDK, you can run print(service.get_logs()) if you have service object to fetch the logs. \\nYou can interactively debug your scoring file locally. Please refer to https://docs.microsoft.com/azure/machine-learning/how-to-debug-visual-studio-code#debug-and-troubleshoot-deployments for more information.\\nYou can also try to run image c66572d0a081428b8a7f64d71fb77e6c.azurecr.io/azureml/azureml_50ad9199f6abe9333ff46bc0245c9350 locally. Please refer to https://aka.ms/debugimage#service-launch-fails for more information.\",\n",
      "  \"details\": [\n",
      "    {\n",
      "      \"code\": \"CrashLoopBackOff\",\n",
      "      \"message\": \"Your container application crashed. This may be caused by errors in your scoring file's init() function.\\nPlease check the logs for your container instance: automl-review-classification. From the AML SDK, you can run print(service.get_logs()) if you have service object to fetch the logs. \\nYou can interactively debug your scoring file locally. Please refer to https://docs.microsoft.com/azure/machine-learning/how-to-debug-visual-studio-code#debug-and-troubleshoot-deployments for more information.\\nYou can also try to run image c66572d0a081428b8a7f64d71fb77e6c.azurecr.io/azureml/azureml_50ad9199f6abe9333ff46bc0245c9350 locally. Please refer to https://aka.ms/debugimage#service-launch-fails for more information.\"\n",
      "    },\n",
      "    {\n",
      "      \"code\": \"AciDeploymentFailed\",\n",
      "      \"message\": \"Your container application crashed. Please follow the steps to debug:\\n1. From the AML SDK, you can run print(service.get_logs()) if you have service object to fetch the logs. Please refer to https://aka.ms/debugimage#dockerlog for more information.\\n2. If your container application crashed. This may be caused by errors in your scoring file's init() function. You can try debugging locally first. Please refer to https://aka.ms/debugimage#debug-locally for more information.\\n3. You can also interactively debug your scoring file locally. Please refer to https://docs.microsoft.com/azure/machine-learning/how-to-debug-visual-studio-code#debug-and-troubleshoot-deployments for more information.\\n4. View the diagnostic events to check status of container, it may help you to debug the issue. {\\\"restartCount\\\":5,\\\"currentState\\\":{\\\"state\\\":\\\"Waiting\\\",\\\"startTime\\\":null,\\\"exitCode\\\":null,\\\"finishTime\\\":null,\\\"detailStatus\\\":\\\"CrashLoopBackOff: Back-off restarting failed\\\"},\\\"previousState\\\":{\\\"state\\\":\\\"Terminated\\\",\\\"startTime\\\":\\\"2021-01-10T17:18:37.459Z\\\",\\\"exitCode\\\":111,\\\"finishTime\\\":\\\"2021-01-10T17:18:42.498Z\\\",\\\"detailStatus\\\":\\\"Error\\\"},\\\"events\\\":[{\\\"count\\\":2,\\\"firstTimestamp\\\":\\\"2021-01-10T17:11:12Z\\\",\\\"lastTimestamp\\\":\\\"2021-01-10T17:14:09Z\\\",\\\"name\\\":\\\"Pulling\\\",\\\"message\\\":\\\"pulling image \\\\\\\"c66572d0a081428b8a7f64d71fb77e6c.azurecr.io/azureml/azureml_50ad9199f6abe9333ff46bc0245c9350:latest\\\\\\\"\\\",\\\"type\\\":\\\"Normal\\\"},{\\\"count\\\":2,\\\"firstTimestamp\\\":\\\"2021-01-10T17:14:04Z\\\",\\\"lastTimestamp\\\":\\\"2021-01-10T17:14:12Z\\\",\\\"name\\\":\\\"Pulled\\\",\\\"message\\\":\\\"Successfully pulled image \\\\\\\"c66572d0a081428b8a7f64d71fb77e6c.azurecr.io/azureml/azureml_50ad9199f6abe9333ff46bc0245c9350:latest\\\\\\\"\\\",\\\"type\\\":\\\"Normal\\\"},{\\\"count\\\":6,\\\"firstTimestamp\\\":\\\"2021-01-10T17:14:39Z\\\",\\\"lastTimestamp\\\":\\\"2021-01-10T17:18:37Z\\\",\\\"name\\\":\\\"Started\\\",\\\"message\\\":\\\"Started container\\\",\\\"type\\\":\\\"Normal\\\"},{\\\"count\\\":5,\\\"firstTimestamp\\\":\\\"2021-01-10T17:14:47Z\\\",\\\"lastTimestamp\\\":\\\"2021-01-10T17:17:21Z\\\",\\\"name\\\":\\\"Killing\\\",\\\"message\\\":\\\"Killing container with id 9a3c46f0867399bec2ace8a06296be13c8d39a87fed1cfe1a753486991604c24.\\\",\\\"type\\\":\\\"Normal\\\"}]}\"\n",
      "    }\n",
      "  ]\n",
      "}\n",
      "\n"
     ]
    },
    {
     "ename": "WebserviceException",
     "evalue": "WebserviceException:\n\tMessage: Service deployment polling reached non-successful terminal state, current service state: Failed\nOperation ID: 54a3726a-1fb2-42c2-96ad-65cf4b6a6d0b\nMore information can be found using '.get_logs()'\nError:\n{\n  \"code\": \"AciDeploymentFailed\",\n  \"message\": \"Aci Deployment failed with exception: Your container application crashed. This may be caused by errors in your scoring file's init() function.\\nPlease check the logs for your container instance: automl-review-classification. From the AML SDK, you can run print(service.get_logs()) if you have service object to fetch the logs. \\nYou can interactively debug your scoring file locally. Please refer to https://docs.microsoft.com/azure/machine-learning/how-to-debug-visual-studio-code#debug-and-troubleshoot-deployments for more information.\\nYou can also try to run image c66572d0a081428b8a7f64d71fb77e6c.azurecr.io/azureml/azureml_50ad9199f6abe9333ff46bc0245c9350 locally. Please refer to https://aka.ms/debugimage#service-launch-fails for more information.\",\n  \"details\": [\n    {\n      \"code\": \"CrashLoopBackOff\",\n      \"message\": \"Your container application crashed. This may be caused by errors in your scoring file's init() function.\\nPlease check the logs for your container instance: automl-review-classification. From the AML SDK, you can run print(service.get_logs()) if you have service object to fetch the logs. \\nYou can interactively debug your scoring file locally. Please refer to https://docs.microsoft.com/azure/machine-learning/how-to-debug-visual-studio-code#debug-and-troubleshoot-deployments for more information.\\nYou can also try to run image c66572d0a081428b8a7f64d71fb77e6c.azurecr.io/azureml/azureml_50ad9199f6abe9333ff46bc0245c9350 locally. Please refer to https://aka.ms/debugimage#service-launch-fails for more information.\"\n    },\n    {\n      \"code\": \"AciDeploymentFailed\",\n      \"message\": \"Your container application crashed. Please follow the steps to debug:\\n1. From the AML SDK, you can run print(service.get_logs()) if you have service object to fetch the logs. Please refer to https://aka.ms/debugimage#dockerlog for more information.\\n2. If your container application crashed. This may be caused by errors in your scoring file's init() function. You can try debugging locally first. Please refer to https://aka.ms/debugimage#debug-locally for more information.\\n3. You can also interactively debug your scoring file locally. Please refer to https://docs.microsoft.com/azure/machine-learning/how-to-debug-visual-studio-code#debug-and-troubleshoot-deployments for more information.\\n4. View the diagnostic events to check status of container, it may help you to debug the issue. {\\\"restartCount\\\":5,\\\"currentState\\\":{\\\"state\\\":\\\"Waiting\\\",\\\"startTime\\\":null,\\\"exitCode\\\":null,\\\"finishTime\\\":null,\\\"detailStatus\\\":\\\"CrashLoopBackOff: Back-off restarting failed\\\"},\\\"previousState\\\":{\\\"state\\\":\\\"Terminated\\\",\\\"startTime\\\":\\\"2021-01-10T17:18:37.459Z\\\",\\\"exitCode\\\":111,\\\"finishTime\\\":\\\"2021-01-10T17:18:42.498Z\\\",\\\"detailStatus\\\":\\\"Error\\\"},\\\"events\\\":[{\\\"count\\\":2,\\\"firstTimestamp\\\":\\\"2021-01-10T17:11:12Z\\\",\\\"lastTimestamp\\\":\\\"2021-01-10T17:14:09Z\\\",\\\"name\\\":\\\"Pulling\\\",\\\"message\\\":\\\"pulling image \\\\\\\"c66572d0a081428b8a7f64d71fb77e6c.azurecr.io/azureml/azureml_50ad9199f6abe9333ff46bc0245c9350:latest\\\\\\\"\\\",\\\"type\\\":\\\"Normal\\\"},{\\\"count\\\":2,\\\"firstTimestamp\\\":\\\"2021-01-10T17:14:04Z\\\",\\\"lastTimestamp\\\":\\\"2021-01-10T17:14:12Z\\\",\\\"name\\\":\\\"Pulled\\\",\\\"message\\\":\\\"Successfully pulled image \\\\\\\"c66572d0a081428b8a7f64d71fb77e6c.azurecr.io/azureml/azureml_50ad9199f6abe9333ff46bc0245c9350:latest\\\\\\\"\\\",\\\"type\\\":\\\"Normal\\\"},{\\\"count\\\":6,\\\"firstTimestamp\\\":\\\"2021-01-10T17:14:39Z\\\",\\\"lastTimestamp\\\":\\\"2021-01-10T17:18:37Z\\\",\\\"name\\\":\\\"Started\\\",\\\"message\\\":\\\"Started container\\\",\\\"type\\\":\\\"Normal\\\"},{\\\"count\\\":5,\\\"firstTimestamp\\\":\\\"2021-01-10T17:14:47Z\\\",\\\"lastTimestamp\\\":\\\"2021-01-10T17:17:21Z\\\",\\\"name\\\":\\\"Killing\\\",\\\"message\\\":\\\"Killing container with id 9a3c46f0867399bec2ace8a06296be13c8d39a87fed1cfe1a753486991604c24.\\\",\\\"type\\\":\\\"Normal\\\"}]}\"\n    }\n  ]\n}\n\tInnerException None\n\tErrorResponse \n{\n    \"error\": {\n        \"message\": \"Service deployment polling reached non-successful terminal state, current service state: Failed\\nOperation ID: 54a3726a-1fb2-42c2-96ad-65cf4b6a6d0b\\nMore information can be found using '.get_logs()'\\nError:\\n{\\n  \\\"code\\\": \\\"AciDeploymentFailed\\\",\\n  \\\"message\\\": \\\"Aci Deployment failed with exception: Your container application crashed. This may be caused by errors in your scoring file's init() function.\\\\nPlease check the logs for your container instance: automl-review-classification. From the AML SDK, you can run print(service.get_logs()) if you have service object to fetch the logs. \\\\nYou can interactively debug your scoring file locally. Please refer to https://docs.microsoft.com/azure/machine-learning/how-to-debug-visual-studio-code#debug-and-troubleshoot-deployments for more information.\\\\nYou can also try to run image c66572d0a081428b8a7f64d71fb77e6c.azurecr.io/azureml/azureml_50ad9199f6abe9333ff46bc0245c9350 locally. Please refer to https://aka.ms/debugimage#service-launch-fails for more information.\\\",\\n  \\\"details\\\": [\\n    {\\n      \\\"code\\\": \\\"CrashLoopBackOff\\\",\\n      \\\"message\\\": \\\"Your container application crashed. This may be caused by errors in your scoring file's init() function.\\\\nPlease check the logs for your container instance: automl-review-classification. From the AML SDK, you can run print(service.get_logs()) if you have service object to fetch the logs. \\\\nYou can interactively debug your scoring file locally. Please refer to https://docs.microsoft.com/azure/machine-learning/how-to-debug-visual-studio-code#debug-and-troubleshoot-deployments for more information.\\\\nYou can also try to run image c66572d0a081428b8a7f64d71fb77e6c.azurecr.io/azureml/azureml_50ad9199f6abe9333ff46bc0245c9350 locally. Please refer to https://aka.ms/debugimage#service-launch-fails for more information.\\\"\\n    },\\n    {\\n      \\\"code\\\": \\\"AciDeploymentFailed\\\",\\n      \\\"message\\\": \\\"Your container application crashed. Please follow the steps to debug:\\\\n1. From the AML SDK, you can run print(service.get_logs()) if you have service object to fetch the logs. Please refer to https://aka.ms/debugimage#dockerlog for more information.\\\\n2. If your container application crashed. This may be caused by errors in your scoring file's init() function. You can try debugging locally first. Please refer to https://aka.ms/debugimage#debug-locally for more information.\\\\n3. You can also interactively debug your scoring file locally. Please refer to https://docs.microsoft.com/azure/machine-learning/how-to-debug-visual-studio-code#debug-and-troubleshoot-deployments for more information.\\\\n4. View the diagnostic events to check status of container, it may help you to debug the issue. {\\\\\\\"restartCount\\\\\\\":5,\\\\\\\"currentState\\\\\\\":{\\\\\\\"state\\\\\\\":\\\\\\\"Waiting\\\\\\\",\\\\\\\"startTime\\\\\\\":null,\\\\\\\"exitCode\\\\\\\":null,\\\\\\\"finishTime\\\\\\\":null,\\\\\\\"detailStatus\\\\\\\":\\\\\\\"CrashLoopBackOff: Back-off restarting failed\\\\\\\"},\\\\\\\"previousState\\\\\\\":{\\\\\\\"state\\\\\\\":\\\\\\\"Terminated\\\\\\\",\\\\\\\"startTime\\\\\\\":\\\\\\\"2021-01-10T17:18:37.459Z\\\\\\\",\\\\\\\"exitCode\\\\\\\":111,\\\\\\\"finishTime\\\\\\\":\\\\\\\"2021-01-10T17:18:42.498Z\\\\\\\",\\\\\\\"detailStatus\\\\\\\":\\\\\\\"Error\\\\\\\"},\\\\\\\"events\\\\\\\":[{\\\\\\\"count\\\\\\\":2,\\\\\\\"firstTimestamp\\\\\\\":\\\\\\\"2021-01-10T17:11:12Z\\\\\\\",\\\\\\\"lastTimestamp\\\\\\\":\\\\\\\"2021-01-10T17:14:09Z\\\\\\\",\\\\\\\"name\\\\\\\":\\\\\\\"Pulling\\\\\\\",\\\\\\\"message\\\\\\\":\\\\\\\"pulling image \\\\\\\\\\\\\\\"c66572d0a081428b8a7f64d71fb77e6c.azurecr.io/azureml/azureml_50ad9199f6abe9333ff46bc0245c9350:latest\\\\\\\\\\\\\\\"\\\\\\\",\\\\\\\"type\\\\\\\":\\\\\\\"Normal\\\\\\\"},{\\\\\\\"count\\\\\\\":2,\\\\\\\"firstTimestamp\\\\\\\":\\\\\\\"2021-01-10T17:14:04Z\\\\\\\",\\\\\\\"lastTimestamp\\\\\\\":\\\\\\\"2021-01-10T17:14:12Z\\\\\\\",\\\\\\\"name\\\\\\\":\\\\\\\"Pulled\\\\\\\",\\\\\\\"message\\\\\\\":\\\\\\\"Successfully pulled image \\\\\\\\\\\\\\\"c66572d0a081428b8a7f64d71fb77e6c.azurecr.io/azureml/azureml_50ad9199f6abe9333ff46bc0245c9350:latest\\\\\\\\\\\\\\\"\\\\\\\",\\\\\\\"type\\\\\\\":\\\\\\\"Normal\\\\\\\"},{\\\\\\\"count\\\\\\\":6,\\\\\\\"firstTimestamp\\\\\\\":\\\\\\\"2021-01-10T17:14:39Z\\\\\\\",\\\\\\\"lastTimestamp\\\\\\\":\\\\\\\"2021-01-10T17:18:37Z\\\\\\\",\\\\\\\"name\\\\\\\":\\\\\\\"Started\\\\\\\",\\\\\\\"message\\\\\\\":\\\\\\\"Started container\\\\\\\",\\\\\\\"type\\\\\\\":\\\\\\\"Normal\\\\\\\"},{\\\\\\\"count\\\\\\\":5,\\\\\\\"firstTimestamp\\\\\\\":\\\\\\\"2021-01-10T17:14:47Z\\\\\\\",\\\\\\\"lastTimestamp\\\\\\\":\\\\\\\"2021-01-10T17:17:21Z\\\\\\\",\\\\\\\"name\\\\\\\":\\\\\\\"Killing\\\\\\\",\\\\\\\"message\\\\\\\":\\\\\\\"Killing container with id 9a3c46f0867399bec2ace8a06296be13c8d39a87fed1cfe1a753486991604c24.\\\\\\\",\\\\\\\"type\\\\\\\":\\\\\\\"Normal\\\\\\\"}]}\\\"\\n    }\\n  ]\\n}\"\n    }\n}",
     "output_type": "error",
     "traceback": [
      "\u001b[0;31m---------------------------------------------------------------------------\u001b[0m",
      "\u001b[0;31mWebserviceException\u001b[0m                       Traceback (most recent call last)",
      "\u001b[0;32m<ipython-input-36-520a0bb74d0c>\u001b[0m in \u001b[0;36m<module>\u001b[0;34m\u001b[0m\n\u001b[1;32m      8\u001b[0m                        \u001b[0mdeployment_config\u001b[0m\u001b[0;34m=\u001b[0m\u001b[0maci_config\u001b[0m\u001b[0;34m,\u001b[0m\u001b[0;34m\u001b[0m\u001b[0;34m\u001b[0m\u001b[0m\n\u001b[1;32m      9\u001b[0m                        overwrite=True)\n\u001b[0;32m---> 10\u001b[0;31m \u001b[0mservice\u001b[0m\u001b[0;34m.\u001b[0m\u001b[0mwait_for_deployment\u001b[0m\u001b[0;34m(\u001b[0m\u001b[0mshow_output\u001b[0m\u001b[0;34m=\u001b[0m\u001b[0;32mTrue\u001b[0m\u001b[0;34m)\u001b[0m\u001b[0;34m\u001b[0m\u001b[0;34m\u001b[0m\u001b[0m\n\u001b[0m\u001b[1;32m     11\u001b[0m \u001b[0mprint\u001b[0m\u001b[0;34m(\u001b[0m\u001b[0;34m\"scoring URI: \"\u001b[0m \u001b[0;34m+\u001b[0m \u001b[0mservice\u001b[0m\u001b[0;34m.\u001b[0m\u001b[0mscoring_uri\u001b[0m\u001b[0;34m)\u001b[0m\u001b[0;34m\u001b[0m\u001b[0;34m\u001b[0m\u001b[0m\n",
      "\u001b[0;32m/anaconda/envs/azureml_py36/lib/python3.6/site-packages/azureml/core/webservice/webservice.py\u001b[0m in \u001b[0;36mwait_for_deployment\u001b[0;34m(self, show_output, timeout_sec)\u001b[0m\n\u001b[1;32m    913\u001b[0m                                           \u001b[0;34m'Error:\\n'\u001b[0m\u001b[0;34m\u001b[0m\u001b[0;34m\u001b[0m\u001b[0m\n\u001b[1;32m    914\u001b[0m                                           '{}'.format(self.state, self._operation_endpoint.split('/')[-1],\n\u001b[0;32m--> 915\u001b[0;31m                                                       logs_response, error_response), logger=module_logger)\n\u001b[0m\u001b[1;32m    916\u001b[0m             print('{} service creation operation finished, operation \"{}\"'.format(self._webservice_type,\n\u001b[1;32m    917\u001b[0m                                                                                   operation_state))\n",
      "\u001b[0;31mWebserviceException\u001b[0m: WebserviceException:\n\tMessage: Service deployment polling reached non-successful terminal state, current service state: Failed\nOperation ID: 54a3726a-1fb2-42c2-96ad-65cf4b6a6d0b\nMore information can be found using '.get_logs()'\nError:\n{\n  \"code\": \"AciDeploymentFailed\",\n  \"message\": \"Aci Deployment failed with exception: Your container application crashed. This may be caused by errors in your scoring file's init() function.\\nPlease check the logs for your container instance: automl-review-classification. From the AML SDK, you can run print(service.get_logs()) if you have service object to fetch the logs. \\nYou can interactively debug your scoring file locally. Please refer to https://docs.microsoft.com/azure/machine-learning/how-to-debug-visual-studio-code#debug-and-troubleshoot-deployments for more information.\\nYou can also try to run image c66572d0a081428b8a7f64d71fb77e6c.azurecr.io/azureml/azureml_50ad9199f6abe9333ff46bc0245c9350 locally. Please refer to https://aka.ms/debugimage#service-launch-fails for more information.\",\n  \"details\": [\n    {\n      \"code\": \"CrashLoopBackOff\",\n      \"message\": \"Your container application crashed. This may be caused by errors in your scoring file's init() function.\\nPlease check the logs for your container instance: automl-review-classification. From the AML SDK, you can run print(service.get_logs()) if you have service object to fetch the logs. \\nYou can interactively debug your scoring file locally. Please refer to https://docs.microsoft.com/azure/machine-learning/how-to-debug-visual-studio-code#debug-and-troubleshoot-deployments for more information.\\nYou can also try to run image c66572d0a081428b8a7f64d71fb77e6c.azurecr.io/azureml/azureml_50ad9199f6abe9333ff46bc0245c9350 locally. Please refer to https://aka.ms/debugimage#service-launch-fails for more information.\"\n    },\n    {\n      \"code\": \"AciDeploymentFailed\",\n      \"message\": \"Your container application crashed. Please follow the steps to debug:\\n1. From the AML SDK, you can run print(service.get_logs()) if you have service object to fetch the logs. Please refer to https://aka.ms/debugimage#dockerlog for more information.\\n2. If your container application crashed. This may be caused by errors in your scoring file's init() function. You can try debugging locally first. Please refer to https://aka.ms/debugimage#debug-locally for more information.\\n3. You can also interactively debug your scoring file locally. Please refer to https://docs.microsoft.com/azure/machine-learning/how-to-debug-visual-studio-code#debug-and-troubleshoot-deployments for more information.\\n4. View the diagnostic events to check status of container, it may help you to debug the issue. {\\\"restartCount\\\":5,\\\"currentState\\\":{\\\"state\\\":\\\"Waiting\\\",\\\"startTime\\\":null,\\\"exitCode\\\":null,\\\"finishTime\\\":null,\\\"detailStatus\\\":\\\"CrashLoopBackOff: Back-off restarting failed\\\"},\\\"previousState\\\":{\\\"state\\\":\\\"Terminated\\\",\\\"startTime\\\":\\\"2021-01-10T17:18:37.459Z\\\",\\\"exitCode\\\":111,\\\"finishTime\\\":\\\"2021-01-10T17:18:42.498Z\\\",\\\"detailStatus\\\":\\\"Error\\\"},\\\"events\\\":[{\\\"count\\\":2,\\\"firstTimestamp\\\":\\\"2021-01-10T17:11:12Z\\\",\\\"lastTimestamp\\\":\\\"2021-01-10T17:14:09Z\\\",\\\"name\\\":\\\"Pulling\\\",\\\"message\\\":\\\"pulling image \\\\\\\"c66572d0a081428b8a7f64d71fb77e6c.azurecr.io/azureml/azureml_50ad9199f6abe9333ff46bc0245c9350:latest\\\\\\\"\\\",\\\"type\\\":\\\"Normal\\\"},{\\\"count\\\":2,\\\"firstTimestamp\\\":\\\"2021-01-10T17:14:04Z\\\",\\\"lastTimestamp\\\":\\\"2021-01-10T17:14:12Z\\\",\\\"name\\\":\\\"Pulled\\\",\\\"message\\\":\\\"Successfully pulled image \\\\\\\"c66572d0a081428b8a7f64d71fb77e6c.azurecr.io/azureml/azureml_50ad9199f6abe9333ff46bc0245c9350:latest\\\\\\\"\\\",\\\"type\\\":\\\"Normal\\\"},{\\\"count\\\":6,\\\"firstTimestamp\\\":\\\"2021-01-10T17:14:39Z\\\",\\\"lastTimestamp\\\":\\\"2021-01-10T17:18:37Z\\\",\\\"name\\\":\\\"Started\\\",\\\"message\\\":\\\"Started container\\\",\\\"type\\\":\\\"Normal\\\"},{\\\"count\\\":5,\\\"firstTimestamp\\\":\\\"2021-01-10T17:14:47Z\\\",\\\"lastTimestamp\\\":\\\"2021-01-10T17:17:21Z\\\",\\\"name\\\":\\\"Killing\\\",\\\"message\\\":\\\"Killing container with id 9a3c46f0867399bec2ace8a06296be13c8d39a87fed1cfe1a753486991604c24.\\\",\\\"type\\\":\\\"Normal\\\"}]}\"\n    }\n  ]\n}\n\tInnerException None\n\tErrorResponse \n{\n    \"error\": {\n        \"message\": \"Service deployment polling reached non-successful terminal state, current service state: Failed\\nOperation ID: 54a3726a-1fb2-42c2-96ad-65cf4b6a6d0b\\nMore information can be found using '.get_logs()'\\nError:\\n{\\n  \\\"code\\\": \\\"AciDeploymentFailed\\\",\\n  \\\"message\\\": \\\"Aci Deployment failed with exception: Your container application crashed. This may be caused by errors in your scoring file's init() function.\\\\nPlease check the logs for your container instance: automl-review-classification. From the AML SDK, you can run print(service.get_logs()) if you have service object to fetch the logs. \\\\nYou can interactively debug your scoring file locally. Please refer to https://docs.microsoft.com/azure/machine-learning/how-to-debug-visual-studio-code#debug-and-troubleshoot-deployments for more information.\\\\nYou can also try to run image c66572d0a081428b8a7f64d71fb77e6c.azurecr.io/azureml/azureml_50ad9199f6abe9333ff46bc0245c9350 locally. Please refer to https://aka.ms/debugimage#service-launch-fails for more information.\\\",\\n  \\\"details\\\": [\\n    {\\n      \\\"code\\\": \\\"CrashLoopBackOff\\\",\\n      \\\"message\\\": \\\"Your container application crashed. This may be caused by errors in your scoring file's init() function.\\\\nPlease check the logs for your container instance: automl-review-classification. From the AML SDK, you can run print(service.get_logs()) if you have service object to fetch the logs. \\\\nYou can interactively debug your scoring file locally. Please refer to https://docs.microsoft.com/azure/machine-learning/how-to-debug-visual-studio-code#debug-and-troubleshoot-deployments for more information.\\\\nYou can also try to run image c66572d0a081428b8a7f64d71fb77e6c.azurecr.io/azureml/azureml_50ad9199f6abe9333ff46bc0245c9350 locally. Please refer to https://aka.ms/debugimage#service-launch-fails for more information.\\\"\\n    },\\n    {\\n      \\\"code\\\": \\\"AciDeploymentFailed\\\",\\n      \\\"message\\\": \\\"Your container application crashed. Please follow the steps to debug:\\\\n1. From the AML SDK, you can run print(service.get_logs()) if you have service object to fetch the logs. Please refer to https://aka.ms/debugimage#dockerlog for more information.\\\\n2. If your container application crashed. This may be caused by errors in your scoring file's init() function. You can try debugging locally first. Please refer to https://aka.ms/debugimage#debug-locally for more information.\\\\n3. You can also interactively debug your scoring file locally. Please refer to https://docs.microsoft.com/azure/machine-learning/how-to-debug-visual-studio-code#debug-and-troubleshoot-deployments for more information.\\\\n4. View the diagnostic events to check status of container, it may help you to debug the issue. {\\\\\\\"restartCount\\\\\\\":5,\\\\\\\"currentState\\\\\\\":{\\\\\\\"state\\\\\\\":\\\\\\\"Waiting\\\\\\\",\\\\\\\"startTime\\\\\\\":null,\\\\\\\"exitCode\\\\\\\":null,\\\\\\\"finishTime\\\\\\\":null,\\\\\\\"detailStatus\\\\\\\":\\\\\\\"CrashLoopBackOff: Back-off restarting failed\\\\\\\"},\\\\\\\"previousState\\\\\\\":{\\\\\\\"state\\\\\\\":\\\\\\\"Terminated\\\\\\\",\\\\\\\"startTime\\\\\\\":\\\\\\\"2021-01-10T17:18:37.459Z\\\\\\\",\\\\\\\"exitCode\\\\\\\":111,\\\\\\\"finishTime\\\\\\\":\\\\\\\"2021-01-10T17:18:42.498Z\\\\\\\",\\\\\\\"detailStatus\\\\\\\":\\\\\\\"Error\\\\\\\"},\\\\\\\"events\\\\\\\":[{\\\\\\\"count\\\\\\\":2,\\\\\\\"firstTimestamp\\\\\\\":\\\\\\\"2021-01-10T17:11:12Z\\\\\\\",\\\\\\\"lastTimestamp\\\\\\\":\\\\\\\"2021-01-10T17:14:09Z\\\\\\\",\\\\\\\"name\\\\\\\":\\\\\\\"Pulling\\\\\\\",\\\\\\\"message\\\\\\\":\\\\\\\"pulling image \\\\\\\\\\\\\\\"c66572d0a081428b8a7f64d71fb77e6c.azurecr.io/azureml/azureml_50ad9199f6abe9333ff46bc0245c9350:latest\\\\\\\\\\\\\\\"\\\\\\\",\\\\\\\"type\\\\\\\":\\\\\\\"Normal\\\\\\\"},{\\\\\\\"count\\\\\\\":2,\\\\\\\"firstTimestamp\\\\\\\":\\\\\\\"2021-01-10T17:14:04Z\\\\\\\",\\\\\\\"lastTimestamp\\\\\\\":\\\\\\\"2021-01-10T17:14:12Z\\\\\\\",\\\\\\\"name\\\\\\\":\\\\\\\"Pulled\\\\\\\",\\\\\\\"message\\\\\\\":\\\\\\\"Successfully pulled image \\\\\\\\\\\\\\\"c66572d0a081428b8a7f64d71fb77e6c.azurecr.io/azureml/azureml_50ad9199f6abe9333ff46bc0245c9350:latest\\\\\\\\\\\\\\\"\\\\\\\",\\\\\\\"type\\\\\\\":\\\\\\\"Normal\\\\\\\"},{\\\\\\\"count\\\\\\\":6,\\\\\\\"firstTimestamp\\\\\\\":\\\\\\\"2021-01-10T17:14:39Z\\\\\\\",\\\\\\\"lastTimestamp\\\\\\\":\\\\\\\"2021-01-10T17:18:37Z\\\\\\\",\\\\\\\"name\\\\\\\":\\\\\\\"Started\\\\\\\",\\\\\\\"message\\\\\\\":\\\\\\\"Started container\\\\\\\",\\\\\\\"type\\\\\\\":\\\\\\\"Normal\\\\\\\"},{\\\\\\\"count\\\\\\\":5,\\\\\\\"firstTimestamp\\\\\\\":\\\\\\\"2021-01-10T17:14:47Z\\\\\\\",\\\\\\\"lastTimestamp\\\\\\\":\\\\\\\"2021-01-10T17:17:21Z\\\\\\\",\\\\\\\"name\\\\\\\":\\\\\\\"Killing\\\\\\\",\\\\\\\"message\\\\\\\":\\\\\\\"Killing container with id 9a3c46f0867399bec2ace8a06296be13c8d39a87fed1cfe1a753486991604c24.\\\\\\\",\\\\\\\"type\\\\\\\":\\\\\\\"Normal\\\\\\\"}]}\\\"\\n    }\\n  ]\\n}\"\n    }\n}"
     ]
    }
   ],
   "source": [
    "service_name = 'automl-review-classification'\n",
    "aci_config = AciWebservice.deploy_configuration(cpu_cores=1, memory_gb=1)\n",
    "\n",
    "service = Model.deploy(workspace=ws,\n",
    "                       name=service_name,\n",
    "                       models=[best_model],\n",
    "                       inference_config=inference_config,\n",
    "                       deployment_config=aci_config,\n",
    "                       overwrite=True)\n",
    "service.wait_for_deployment(show_output=True)\n",
    "print(\"scoring URI: \" + service.scoring_uri)"
   ]
  },
  {
   "cell_type": "markdown",
   "metadata": {},
   "source": [
    "### Safely enter the API key via getpass so it is not shown in plain text"
   ]
  },
  {
   "cell_type": "code",
   "execution_count": 45,
   "metadata": {},
   "outputs": [
    {
     "name": "stdout",
     "output_type": "stream",
     "text": [
      "Enter the API Key of the endpoint········\n"
     ]
    }
   ],
   "source": [
    "import getpass\n",
    "key = getpass.getpass(\"Enter the API Key of the endpoint\")"
   ]
  },
  {
   "cell_type": "code",
   "execution_count": 60,
   "metadata": {
    "gather": {
     "logged": 1598432707604
    },
    "jupyter": {
     "outputs_hidden": false,
     "source_hidden": false
    },
    "nteract": {
     "transient": {
      "deleting": false
     }
    }
   },
   "outputs": [
    {
     "name": "stdout",
     "output_type": "stream",
     "text": [
      "Prediction for hotel review: \n",
      "\n",
      "outstanding cleanliness value location wanted stay central location london luna simone hotels fell search area checked reviews trip advisor decided book certainly not dissapointed location ideal short walk transit important sight seeing locations absolutely cleanest hotels stayed breakfast good served management gives chance talk owners management staff outstanding friendly assist site seeing plans no additional charge fact probably save money got london bus tour tickets hotel vendor rate thinking trip uk europe luna simone london hotel staying going london reccomend luna simone\n",
      "\n",
      "It is a: Positive hotel review!\n"
     ]
    }
   ],
   "source": [
    "import requests\n",
    "import json\n",
    "\n",
    "# Get an example text from the test set pandas dataframe and create a HTTP request payload\n",
    "example_text = pandas_df.iloc[0, 0]\n",
    "data = json.dumps({\"data\": [{'text': example_text}]})\n",
    "input_data = bytes(data, encoding=\"utf-8\")\n",
    "\n",
    "# Set the content type\n",
    "headers = {'Content-Type': 'application/json'}\n",
    "# authentication is enabled, so we set the authorization header\n",
    "headers['Authorization'] = f'Bearer {key}'\n",
    "\n",
    "scoring_uri = \"http://824c9ffc-835d-4d97-990f-692ecc24aae0.southcentralus.azurecontainer.io/score\"\n",
    "\n",
    "mapping_dict = {0: \"Negative\", 1: \"Neutral\", 2: \"Positive\"}\n",
    "# Make the request  and display the classification results\n",
    "response = requests.post(scoring_uri, input_data, headers=headers)\n",
    "print(f\"Prediction for hotel review: \\n\\n{example_text}\\n\")\n",
    "print(f\"It is a: {mapping_dict[json.loads(response.json())['result'][0]]} hotel review!\")"
   ]
  },
  {
   "cell_type": "markdown",
   "metadata": {
    "collapsed": true,
    "gather": {
     "logged": 1598432765711
    },
    "jupyter": {
     "outputs_hidden": false,
     "source_hidden": false
    },
    "nteract": {
     "transient": {
      "deleting": false
     }
    }
   },
   "source": [
    "### Print the logs of the webservice"
   ]
  },
  {
   "cell_type": "code",
   "execution_count": null,
   "metadata": {
    "jupyter": {
     "outputs_hidden": false,
     "source_hidden": false
    },
    "nteract": {
     "transient": {
      "deleting": false
     }
    }
   },
   "outputs": [],
   "source": [
    "print(service.get_logs())"
   ]
  },
  {
   "cell_type": "markdown",
   "metadata": {},
   "source": [
    "### Delete the webservice"
   ]
  },
  {
   "cell_type": "code",
   "execution_count": null,
   "metadata": {},
   "outputs": [],
   "source": [
    "service.delete()"
   ]
  }
 ],
 "metadata": {
  "kernel_info": {
   "name": "python3-azureml"
  },
  "kernelspec": {
   "display_name": "Python 3",
   "language": "python",
   "name": "python3"
  },
  "language_info": {
   "codemirror_mode": {
    "name": "ipython",
    "version": 3
   },
   "file_extension": ".py",
   "mimetype": "text/x-python",
   "name": "python",
   "nbconvert_exporter": "python",
   "pygments_lexer": "ipython3",
   "version": "3.6.9"
  },
  "nteract": {
   "version": "nteract-front-end@1.0.0"
  }
 },
 "nbformat": 4,
 "nbformat_minor": 2
}
