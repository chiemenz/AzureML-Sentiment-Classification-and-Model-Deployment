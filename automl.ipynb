{
 "cells": [
  {
   "cell_type": "markdown",
   "metadata": {},
   "source": [
    "#  Automated ML with azureml\n",
    "\n",
    "The dependencies are imported"
   ]
  },
  {
   "cell_type": "code",
   "execution_count": 1,
   "metadata": {
    "gather": {
     "logged": 1598423888013
    },
    "jupyter": {
     "outputs_hidden": false,
     "source_hidden": false
    },
    "nteract": {
     "transient": {
      "deleting": false
     }
    }
   },
   "outputs": [],
   "source": [
    "import os\n",
    "import pandas as pd\n",
    "from azureml.core import Dataset, Datastore, Workspace, Experiment\n",
    "# from azureml.train.automl import AutoMLConfig\n",
    "from azureml.widgets import RunDetails"
   ]
  },
  {
   "cell_type": "markdown",
   "metadata": {},
   "source": [
    "## Dataset\n",
    "\n",
    "### Overview\n",
    "\n",
    "We will try to predict the rating of modified version of the **Kaggle Trip advisor dataset**.\n",
    "\n",
    "The Dataset contains a Trip Advisor hotel review text column as well as a Rating column with Ratings from 0 - 5 stars. \n",
    "\n",
    "> The Tripadvisor Hotel Review Dataset file, is derived from the publication: \n",
    ">\n",
    ">_Alam, M. H., Ryu, W.-J., Lee, S., 2016. Joint multi-grain topic senti- ment: modeling semantic aspects for online >reviews. Information Sciences 339, 206–223._ \n",
    ">\n",
    "> You can download the Dataset with the link:\n",
    "> [trip-advisor-hotel-reviews](https://www.kaggle.com/andrewmvd/trip-advisor-hotel-reviews)\n",
    "\n",
    "In the original Dataset the target **Rating** column contains the values 0* - 5*.\n",
    "\n",
    "In a modified version of the dataset we will try to predict the **norm_rating** column based on the **Review** text column as a **classification task** with:\n",
    "\n",
    "* class 0 - Negative reviews (1* & 2* rating)\n",
    "* class 1 - Neutral reviews (3* rating)\n",
    "* class 2 - Positive reviews (4* & 5* rating)\n"
   ]
  },
  {
   "cell_type": "markdown",
   "metadata": {},
   "source": [
    "## Initialize the Workspace and create an Experiment"
   ]
  },
  {
   "cell_type": "code",
   "execution_count": 2,
   "metadata": {
    "gather": {
     "logged": 1598423890461
    },
    "jupyter": {
     "outputs_hidden": false,
     "source_hidden": false
    },
    "nteract": {
     "transient": {
      "deleting": false
     }
    }
   },
   "outputs": [
    {
     "data": {
      "text/html": [
       "<table style=\"width:100%\"><tr><th>Name</th><th>Workspace</th><th>Report Page</th><th>Docs Page</th></tr><tr><td>automl_review_classifier</td><td>quick-starts-ws-134076</td><td><a href=\"https://ml.azure.com/experiments/automl_review_classifier?wsid=/subscriptions/f9d5a085-54dc-4215-9ba6-dad5d86e60a0/resourcegroups/aml-quickstarts-134076/workspaces/quick-starts-ws-134076\" target=\"_blank\" rel=\"noopener\">Link to Azure Machine Learning studio</a></td><td><a href=\"https://docs.microsoft.com/en-us/python/api/azureml-core/azureml.core.experiment.Experiment?view=azure-ml-py\" target=\"_blank\" rel=\"noopener\">Link to Documentation</a></td></tr></table>"
      ],
      "text/plain": [
       "Experiment(Name: automl_review_classifier,\n",
       "Workspace: quick-starts-ws-134076)"
      ]
     },
     "execution_count": 2,
     "metadata": {},
     "output_type": "execute_result"
    }
   ],
   "source": [
    "ws = Workspace.from_config()\n",
    "\n",
    "# choose a name for experiment\n",
    "experiment_name = 'automl_review_classifier'\n",
    "\n",
    "experiment=Experiment(ws, experiment_name)\n",
    "experiment"
   ]
  },
  {
   "cell_type": "code",
   "execution_count": 3,
   "metadata": {},
   "outputs": [
    {
     "name": "stdout",
     "output_type": "stream",
     "text": [
      "subscription key f9d5a085-54dc-4215-9ba6-dad5d86e60a0\n",
      "resource group aml-quickstarts-134076\n",
      "workspace name quick-starts-ws-134076\n"
     ]
    }
   ],
   "source": [
    "print(f\"subscription key {ws.subscription_id}\")\n",
    "print(f\"resource group {ws.resource_group}\")\n",
    "print(f\"workspace name {ws.name}\")"
   ]
  },
  {
   "cell_type": "markdown",
   "metadata": {},
   "source": [
    "## Load the Dataset and perform a train test split"
   ]
  },
  {
   "cell_type": "code",
   "execution_count": 4,
   "metadata": {},
   "outputs": [],
   "source": [
    "import pandas as pd\n",
    "from sklearn.model_selection import train_test_split\n",
    "\n",
    "filepath_2_dataset = r\"hotel_reviews_featurized_roberta.csv\"\n",
    "# Read the Dataset as a pandas dataframe\n",
    "hotel_review_dataset = pd.read_csv(filepath_2_dataset)"
   ]
  },
  {
   "cell_type": "code",
   "execution_count": 5,
   "metadata": {},
   "outputs": [
    {
     "name": "stdout",
     "output_type": "stream",
     "text": [
      "Dataset Shape: (20491, 808)\n"
     ]
    },
    {
     "data": {
      "text/html": [
       "<div>\n",
       "<style scoped>\n",
       "    .dataframe tbody tr th:only-of-type {\n",
       "        vertical-align: middle;\n",
       "    }\n",
       "\n",
       "    .dataframe tbody tr th {\n",
       "        vertical-align: top;\n",
       "    }\n",
       "\n",
       "    .dataframe thead th {\n",
       "        text-align: right;\n",
       "    }\n",
       "</style>\n",
       "<table border=\"1\" class=\"dataframe\">\n",
       "  <thead>\n",
       "    <tr style=\"text-align: right;\">\n",
       "      <th></th>\n",
       "      <th>topic_0</th>\n",
       "      <th>topic_1</th>\n",
       "      <th>topic_2</th>\n",
       "      <th>topic_3</th>\n",
       "      <th>topic_4</th>\n",
       "      <th>topic_5</th>\n",
       "      <th>topic_6</th>\n",
       "      <th>topic_7</th>\n",
       "      <th>topic_8</th>\n",
       "      <th>topic_9</th>\n",
       "      <th>...</th>\n",
       "      <th>dim_758</th>\n",
       "      <th>dim_759</th>\n",
       "      <th>dim_760</th>\n",
       "      <th>dim_761</th>\n",
       "      <th>dim_762</th>\n",
       "      <th>dim_763</th>\n",
       "      <th>dim_764</th>\n",
       "      <th>dim_765</th>\n",
       "      <th>dim_766</th>\n",
       "      <th>dim_767</th>\n",
       "    </tr>\n",
       "  </thead>\n",
       "  <tbody>\n",
       "    <tr>\n",
       "      <th>count</th>\n",
       "      <td>20491.000000</td>\n",
       "      <td>20491.000000</td>\n",
       "      <td>20491.000000</td>\n",
       "      <td>20491.000000</td>\n",
       "      <td>20491.000000</td>\n",
       "      <td>20491.000000</td>\n",
       "      <td>20491.000000</td>\n",
       "      <td>20491.000000</td>\n",
       "      <td>20491.000000</td>\n",
       "      <td>20491.000000</td>\n",
       "      <td>...</td>\n",
       "      <td>20491.000000</td>\n",
       "      <td>20491.000000</td>\n",
       "      <td>20491.000000</td>\n",
       "      <td>20491.000000</td>\n",
       "      <td>20491.000000</td>\n",
       "      <td>20491.000000</td>\n",
       "      <td>20491.000000</td>\n",
       "      <td>20491.000000</td>\n",
       "      <td>20491.000000</td>\n",
       "      <td>20491.000000</td>\n",
       "    </tr>\n",
       "    <tr>\n",
       "      <th>mean</th>\n",
       "      <td>0.001939</td>\n",
       "      <td>0.004714</td>\n",
       "      <td>0.011617</td>\n",
       "      <td>0.001034</td>\n",
       "      <td>0.001708</td>\n",
       "      <td>0.010981</td>\n",
       "      <td>0.003340</td>\n",
       "      <td>0.033029</td>\n",
       "      <td>0.001340</td>\n",
       "      <td>0.019453</td>\n",
       "      <td>...</td>\n",
       "      <td>-0.027524</td>\n",
       "      <td>0.003075</td>\n",
       "      <td>-0.156707</td>\n",
       "      <td>0.102556</td>\n",
       "      <td>-0.103847</td>\n",
       "      <td>-0.022158</td>\n",
       "      <td>0.124463</td>\n",
       "      <td>-0.329340</td>\n",
       "      <td>0.020014</td>\n",
       "      <td>0.032116</td>\n",
       "    </tr>\n",
       "    <tr>\n",
       "      <th>std</th>\n",
       "      <td>0.004887</td>\n",
       "      <td>0.007468</td>\n",
       "      <td>0.006196</td>\n",
       "      <td>0.003457</td>\n",
       "      <td>0.004591</td>\n",
       "      <td>0.006425</td>\n",
       "      <td>0.006819</td>\n",
       "      <td>0.008321</td>\n",
       "      <td>0.003971</td>\n",
       "      <td>0.005330</td>\n",
       "      <td>...</td>\n",
       "      <td>0.060321</td>\n",
       "      <td>0.047068</td>\n",
       "      <td>0.076493</td>\n",
       "      <td>0.050610</td>\n",
       "      <td>0.063625</td>\n",
       "      <td>0.048991</td>\n",
       "      <td>0.128676</td>\n",
       "      <td>0.105728</td>\n",
       "      <td>0.040554</td>\n",
       "      <td>0.058754</td>\n",
       "    </tr>\n",
       "    <tr>\n",
       "      <th>min</th>\n",
       "      <td>0.000000</td>\n",
       "      <td>0.000000</td>\n",
       "      <td>0.000000</td>\n",
       "      <td>0.000000</td>\n",
       "      <td>0.000000</td>\n",
       "      <td>0.000000</td>\n",
       "      <td>0.000000</td>\n",
       "      <td>0.014800</td>\n",
       "      <td>0.000000</td>\n",
       "      <td>0.000000</td>\n",
       "      <td>...</td>\n",
       "      <td>-0.283000</td>\n",
       "      <td>-0.307900</td>\n",
       "      <td>-0.484000</td>\n",
       "      <td>-0.252400</td>\n",
       "      <td>-0.386300</td>\n",
       "      <td>-0.254700</td>\n",
       "      <td>-0.367400</td>\n",
       "      <td>-1.016800</td>\n",
       "      <td>-0.184600</td>\n",
       "      <td>-0.216600</td>\n",
       "    </tr>\n",
       "    <tr>\n",
       "      <th>25%</th>\n",
       "      <td>0.000000</td>\n",
       "      <td>0.000000</td>\n",
       "      <td>0.010600</td>\n",
       "      <td>0.000000</td>\n",
       "      <td>0.000000</td>\n",
       "      <td>0.010300</td>\n",
       "      <td>0.000000</td>\n",
       "      <td>0.028100</td>\n",
       "      <td>0.000000</td>\n",
       "      <td>0.016300</td>\n",
       "      <td>...</td>\n",
       "      <td>-0.066900</td>\n",
       "      <td>-0.027800</td>\n",
       "      <td>-0.207700</td>\n",
       "      <td>0.071000</td>\n",
       "      <td>-0.144750</td>\n",
       "      <td>-0.055500</td>\n",
       "      <td>0.035850</td>\n",
       "      <td>-0.399500</td>\n",
       "      <td>-0.006100</td>\n",
       "      <td>-0.006500</td>\n",
       "    </tr>\n",
       "    <tr>\n",
       "      <th>50%</th>\n",
       "      <td>0.000000</td>\n",
       "      <td>0.000000</td>\n",
       "      <td>0.011500</td>\n",
       "      <td>0.000000</td>\n",
       "      <td>0.000000</td>\n",
       "      <td>0.011200</td>\n",
       "      <td>0.000000</td>\n",
       "      <td>0.030300</td>\n",
       "      <td>0.000000</td>\n",
       "      <td>0.017600</td>\n",
       "      <td>...</td>\n",
       "      <td>-0.027700</td>\n",
       "      <td>0.002500</td>\n",
       "      <td>-0.155100</td>\n",
       "      <td>0.103900</td>\n",
       "      <td>-0.103100</td>\n",
       "      <td>-0.023900</td>\n",
       "      <td>0.114200</td>\n",
       "      <td>-0.333100</td>\n",
       "      <td>0.019800</td>\n",
       "      <td>0.030300</td>\n",
       "    </tr>\n",
       "    <tr>\n",
       "      <th>75%</th>\n",
       "      <td>0.000000</td>\n",
       "      <td>0.010400</td>\n",
       "      <td>0.014100</td>\n",
       "      <td>0.000000</td>\n",
       "      <td>0.000000</td>\n",
       "      <td>0.014000</td>\n",
       "      <td>0.000000</td>\n",
       "      <td>0.036000</td>\n",
       "      <td>0.000000</td>\n",
       "      <td>0.022200</td>\n",
       "      <td>...</td>\n",
       "      <td>0.011600</td>\n",
       "      <td>0.033800</td>\n",
       "      <td>-0.104400</td>\n",
       "      <td>0.135650</td>\n",
       "      <td>-0.062200</td>\n",
       "      <td>0.008400</td>\n",
       "      <td>0.203700</td>\n",
       "      <td>-0.264400</td>\n",
       "      <td>0.046200</td>\n",
       "      <td>0.068550</td>\n",
       "    </tr>\n",
       "    <tr>\n",
       "      <th>max</th>\n",
       "      <td>0.056800</td>\n",
       "      <td>0.073000</td>\n",
       "      <td>0.048400</td>\n",
       "      <td>0.042000</td>\n",
       "      <td>0.055900</td>\n",
       "      <td>0.080800</td>\n",
       "      <td>0.056300</td>\n",
       "      <td>0.145500</td>\n",
       "      <td>0.033300</td>\n",
       "      <td>0.082900</td>\n",
       "      <td>...</td>\n",
       "      <td>0.262500</td>\n",
       "      <td>0.231900</td>\n",
       "      <td>0.158700</td>\n",
       "      <td>0.322100</td>\n",
       "      <td>0.171700</td>\n",
       "      <td>0.243300</td>\n",
       "      <td>0.908800</td>\n",
       "      <td>0.152800</td>\n",
       "      <td>0.200600</td>\n",
       "      <td>0.370700</td>\n",
       "    </tr>\n",
       "  </tbody>\n",
       "</table>\n",
       "<p>8 rows × 807 columns</p>\n",
       "</div>"
      ],
      "text/plain": [
       "            topic_0       topic_1       topic_2       topic_3       topic_4  \\\n",
       "count  20491.000000  20491.000000  20491.000000  20491.000000  20491.000000   \n",
       "mean       0.001939      0.004714      0.011617      0.001034      0.001708   \n",
       "std        0.004887      0.007468      0.006196      0.003457      0.004591   \n",
       "min        0.000000      0.000000      0.000000      0.000000      0.000000   \n",
       "25%        0.000000      0.000000      0.010600      0.000000      0.000000   \n",
       "50%        0.000000      0.000000      0.011500      0.000000      0.000000   \n",
       "75%        0.000000      0.010400      0.014100      0.000000      0.000000   \n",
       "max        0.056800      0.073000      0.048400      0.042000      0.055900   \n",
       "\n",
       "            topic_5       topic_6       topic_7       topic_8       topic_9  \\\n",
       "count  20491.000000  20491.000000  20491.000000  20491.000000  20491.000000   \n",
       "mean       0.010981      0.003340      0.033029      0.001340      0.019453   \n",
       "std        0.006425      0.006819      0.008321      0.003971      0.005330   \n",
       "min        0.000000      0.000000      0.014800      0.000000      0.000000   \n",
       "25%        0.010300      0.000000      0.028100      0.000000      0.016300   \n",
       "50%        0.011200      0.000000      0.030300      0.000000      0.017600   \n",
       "75%        0.014000      0.000000      0.036000      0.000000      0.022200   \n",
       "max        0.080800      0.056300      0.145500      0.033300      0.082900   \n",
       "\n",
       "       ...       dim_758       dim_759       dim_760       dim_761  \\\n",
       "count  ...  20491.000000  20491.000000  20491.000000  20491.000000   \n",
       "mean   ...     -0.027524      0.003075     -0.156707      0.102556   \n",
       "std    ...      0.060321      0.047068      0.076493      0.050610   \n",
       "min    ...     -0.283000     -0.307900     -0.484000     -0.252400   \n",
       "25%    ...     -0.066900     -0.027800     -0.207700      0.071000   \n",
       "50%    ...     -0.027700      0.002500     -0.155100      0.103900   \n",
       "75%    ...      0.011600      0.033800     -0.104400      0.135650   \n",
       "max    ...      0.262500      0.231900      0.158700      0.322100   \n",
       "\n",
       "            dim_762       dim_763       dim_764       dim_765       dim_766  \\\n",
       "count  20491.000000  20491.000000  20491.000000  20491.000000  20491.000000   \n",
       "mean      -0.103847     -0.022158      0.124463     -0.329340      0.020014   \n",
       "std        0.063625      0.048991      0.128676      0.105728      0.040554   \n",
       "min       -0.386300     -0.254700     -0.367400     -1.016800     -0.184600   \n",
       "25%       -0.144750     -0.055500      0.035850     -0.399500     -0.006100   \n",
       "50%       -0.103100     -0.023900      0.114200     -0.333100      0.019800   \n",
       "75%       -0.062200      0.008400      0.203700     -0.264400      0.046200   \n",
       "max        0.171700      0.243300      0.908800      0.152800      0.200600   \n",
       "\n",
       "            dim_767  \n",
       "count  20491.000000  \n",
       "mean       0.032116  \n",
       "std        0.058754  \n",
       "min       -0.216600  \n",
       "25%       -0.006500  \n",
       "50%        0.030300  \n",
       "75%        0.068550  \n",
       "max        0.370700  \n",
       "\n",
       "[8 rows x 807 columns]"
      ]
     },
     "execution_count": 5,
     "metadata": {},
     "output_type": "execute_result"
    }
   ],
   "source": [
    "print(f\"Dataset Shape: {hotel_review_dataset.shape}\")\n",
    "hotel_review_dataset.describe()"
   ]
  },
  {
   "cell_type": "markdown",
   "metadata": {},
   "source": [
    "### First the same train test split is performed for the Dataset to make it available to both AutoML and Hyperdrive"
   ]
  },
  {
   "cell_type": "code",
   "execution_count": 7,
   "metadata": {},
   "outputs": [
    {
     "name": "stdout",
     "output_type": "stream",
     "text": [
      "X_train: (16392, 808)\n",
      "X_test: (4099, 808)\n",
      "y_train: 16392\n",
      "y_test: 4099\n"
     ]
    }
   ],
   "source": [
    "# Get hotel review text and normalized rating\n",
    "X = hotel_review_dataset.drop(columns=['norm_rating'])\n",
    "y = list(hotel_review_dataset.norm_rating)\n",
    "X_train, X_test, y_train, y_test = train_test_split(hotel_review_dataset, y, test_size=0.2, random_state=42)\n",
    "print(f\"X_train: {X_train.shape}\\nX_test: {X_test.shape}\\ny_train: {len(y_train)}\\ny_test: {len(y_test)}\")"
   ]
  },
  {
   "cell_type": "markdown",
   "metadata": {},
   "source": [
    "### The training set and test sets will be registered separately to ensure strict separation"
   ]
  },
  {
   "cell_type": "code",
   "execution_count": 8,
   "metadata": {},
   "outputs": [
    {
     "name": "stderr",
     "output_type": "stream",
     "text": [
      "/anaconda/envs/azureml_py36/lib/python3.6/site-packages/ipykernel_launcher.py:1: SettingWithCopyWarning: \n",
      "A value is trying to be set on a copy of a slice from a DataFrame.\n",
      "Try using .loc[row_indexer,col_indexer] = value instead\n",
      "\n",
      "See the caveats in the documentation: http://pandas.pydata.org/pandas-docs/stable/user_guide/indexing.html#returning-a-view-versus-a-copy\n",
      "  \"\"\"Entry point for launching an IPython kernel.\n",
      "/anaconda/envs/azureml_py36/lib/python3.6/site-packages/ipykernel_launcher.py:2: SettingWithCopyWarning: \n",
      "A value is trying to be set on a copy of a slice from a DataFrame.\n",
      "Try using .loc[row_indexer,col_indexer] = value instead\n",
      "\n",
      "See the caveats in the documentation: http://pandas.pydata.org/pandas-docs/stable/user_guide/indexing.html#returning-a-view-versus-a-copy\n",
      "  \n"
     ]
    }
   ],
   "source": [
    "X_train['norm_rating'] = y_train\n",
    "X_test['norm_rating'] = y_test "
   ]
  },
  {
   "cell_type": "code",
   "execution_count": 9,
   "metadata": {},
   "outputs": [
    {
     "name": "stdout",
     "output_type": "stream",
     "text": [
      "(16392, 808)\n",
      "(4099, 808)\n"
     ]
    }
   ],
   "source": [
    "print(X_train.shape)\n",
    "print(X_test.shape)"
   ]
  },
  {
   "cell_type": "markdown",
   "metadata": {},
   "source": [
    "### The AutoML train/testsets should contain just the text column and norm rating column (no feature engineering)"
   ]
  },
  {
   "cell_type": "markdown",
   "metadata": {},
   "source": [
    "#### Upload the different train/test sets"
   ]
  },
  {
   "cell_type": "code",
   "execution_count": 12,
   "metadata": {},
   "outputs": [
    {
     "name": "stdout",
     "output_type": "stream",
     "text": [
      "Uploading an estimated of 4 files\n",
      "Uploading data/test_set_automl.csv\n",
      "Uploaded data/test_set_automl.csv, 1 files out of an estimated total of 4\n",
      "Uploading data/train_set_automl.csv\n",
      "Uploaded data/train_set_automl.csv, 2 files out of an estimated total of 4\n",
      "Uploading data/test_set_hyper.csv\n",
      "Uploaded data/test_set_hyper.csv, 3 files out of an estimated total of 4\n",
      "Uploading data/train_set_hyper.csv\n",
      "Uploaded data/train_set_hyper.csv, 4 files out of an estimated total of 4\n",
      "Uploaded 4 files\n"
     ]
    },
    {
     "data": {
      "text/plain": [
       "$AZUREML_DATAREFERENCE_c3faa4c3234246f59fe09397b7fd5fbf"
      ]
     },
     "execution_count": 12,
     "metadata": {},
     "output_type": "execute_result"
    }
   ],
   "source": [
    "X_train_automl = X_train.loc[:, ['text', 'norm_rating']]\n",
    "X_test_automl = X_test.loc[:, ['text', 'norm_rating']]\n",
    "\n",
    "os.makedirs(\"data\", exist_ok=True)\n",
    "# Upload the training/test data in the default datastore\n",
    "train_dataset_path_automl = \"data/train_set_automl.csv\"\n",
    "X_train_automl.to_csv(train_dataset_path_automl)\n",
    "test_dataset_path_automl = \"data/test_set_automl.csv\"\n",
    "X_test_automl.to_csv(test_dataset_path_automl)\n",
    "\n",
    "X_train_hyper = X_train.drop(columns =[\"text\"])\n",
    "X_test_hyper = X_test.drop(columns = [\"text\"])\n",
    "\n",
    "train_dataset_path = \"data/train_set_hyper.csv\"\n",
    "X_train_hyper.to_csv(train_dataset_path)\n",
    "test_dataset_path = \"data/test_set_hyper.csv\"\n",
    "X_test_hyper.to_csv(test_dataset_path)\n",
    "\n",
    "datastore = ws.get_default_datastore()\n",
    "datastore.upload(src_dir=\"data\", target_path=\"data\")"
   ]
  },
  {
   "cell_type": "markdown",
   "metadata": {},
   "source": [
    "### Load the training and test Datasets and register them"
   ]
  },
  {
   "cell_type": "code",
   "execution_count": 15,
   "metadata": {},
   "outputs": [],
   "source": [
    "dataset_training = Dataset.Tabular.from_delimited_files(path = [(datastore, (\"data/train_set_automl.csv\"))])\n",
    "dataset_training = dataset_training.register(workspace=ws, name=\"auto-ml-training-data\", description=\"Hotel Review AutoML Training Data\")\n",
    "\n",
    "dataset_test =  Dataset.Tabular.from_delimited_files(path = [(datastore, (\"data/test_set_automl.csv\"))])\n",
    "dataset_test = dataset_training.register(workspace=ws, name=\"auto-ml-test-data\", description=\"Hotel Review AutoML Test Data\")"
   ]
  },
  {
   "cell_type": "markdown",
   "metadata": {},
   "source": [
    "## Define a Compute Target for AutoML"
   ]
  },
  {
   "cell_type": "code",
   "execution_count": 16,
   "metadata": {},
   "outputs": [
    {
     "name": "stdout",
     "output_type": "stream",
     "text": [
      "Found existing Compute Target\n",
      "Succeeded\n",
      "AmlCompute wait for completion finished\n",
      "\n",
      "Minimum number of nodes requested have been provisioned\n"
     ]
    }
   ],
   "source": [
    "## Define a Compute Target for AutoML\n",
    "from azureml.core.compute import ComputeTarget, AmlCompute\n",
    "from azureml.core.compute_target import ComputeTargetException\n",
    "\n",
    "cpu_cluster_name = \"cpu-cluster-1\"\n",
    "try:\n",
    "    compute_target = ComputeTarget(workspace=ws, name=cpu_cluster_name)\n",
    "    print(\"Found existing Compute Target\")\n",
    "except ComputeTargetException:\n",
    "    compute_config = AmlCompute.provisioning_configuration(vm_size = \"Standard_D2_V2\", max_nodes=4)\n",
    "    compute_target = ComputeTarget.create(ws, cpu_cluster_name, compute_config)\n",
    "\n",
    "compute_target.wait_for_completion(show_output=True)"
   ]
  },
  {
   "cell_type": "markdown",
   "metadata": {},
   "source": [
    "## AutoML Configuration\n",
    "\n",
    "* _experiment_timeout_minutes_: was set to prevent the experiment from running for long timer periods with high cost\n",
    "* _max_concurrent_iterations_: was set to 4 since only 4 compute target nodes are available for paralle child runs\n",
    "* _primary_metric_: was set to AUC_weighted since this includes a balance between false positive and true positive rate\n",
    "* _n_cross_validations_: 5 crossvalidations were selected, since this results in a more robust mean/std estimation for each model\n",
    "\n",
    "* _enable_early_stopping_: to prevent unproductive runs which lead to no improvement and costs\n",
    "* _compute_target_: needs to be define to perform the AutoML computations\n",
    "* _task_: needs to be classification since the label column is defining separate classes\n",
    "* _training_data_: corresponds to the training set\n",
    "* _label_column_: corresponds to the target/label column defining the separate classes\n",
    "* _debug_log_: defined to enable detailed logging of automl errors"
   ]
  },
  {
   "cell_type": "code",
   "execution_count": 17,
   "metadata": {},
   "outputs": [],
   "source": [
    "from azureml.train.automl.automlconfig import AutoMLConfig"
   ]
  },
  {
   "cell_type": "code",
   "execution_count": 22,
   "metadata": {
    "gather": {
     "logged": 1598429217746
    },
    "jupyter": {
     "outputs_hidden": false,
     "source_hidden": false
    },
    "nteract": {
     "transient": {
      "deleting": false
     }
    }
   },
   "outputs": [],
   "source": [
    "## Define key AutoML Settings\n",
    "automl_settings = {\n",
    "    \"experiment_timeout_minutes\": 20,\n",
    "    \"max_concurrent_iterations\": 4,\n",
    "    \"primary_metric\": \"f1_score_weighted\",\n",
    "    \"n_cross_validations\": 5\n",
    "}\n",
    "\n",
    "## Setup an AutoMLConfig object\n",
    "automl_config = AutoMLConfig(\n",
    "    compute_target=compute_target,\n",
    "    task=\"classification\",\n",
    "    training_data=dataset_training,\n",
    "    label_column_name=\"norm_rating\",\n",
    "    enable_early_stopping=True,\n",
    "    debug_log=\"automl_errors.log\",\n",
    "    **automl_settings\n",
    ")"
   ]
  },
  {
   "cell_type": "code",
   "execution_count": 23,
   "metadata": {
    "gather": {
     "logged": 1598431107951
    },
    "jupyter": {
     "outputs_hidden": false,
     "source_hidden": false
    },
    "nteract": {
     "transient": {
      "deleting": false
     }
    }
   },
   "outputs": [
    {
     "name": "stdout",
     "output_type": "stream",
     "text": [
      "Running on remote.\n"
     ]
    }
   ],
   "source": [
    "# The Experiment needs to be submitted in order to execute the AutoML run\n",
    "automl_run = experiment.submit(automl_config)"
   ]
  },
  {
   "cell_type": "markdown",
   "metadata": {},
   "source": [
    "## Run Details\n",
    "\n",
    "Write about the different models trained and their performance. Why do you think some models did better than others?"
   ]
  },
  {
   "cell_type": "code",
   "execution_count": 24,
   "metadata": {},
   "outputs": [
    {
     "data": {
      "application/vnd.jupyter.widget-view+json": {
       "model_id": "16247b5a8dee47aaafb1535a5e9d1f38",
       "version_major": 2,
       "version_minor": 0
      },
      "text/plain": [
       "_AutoMLWidget(widget_settings={'childWidgetDisplay': 'popup', 'send_telemetry': False, 'log_level': 'INFO', 's…"
      ]
     },
     "metadata": {},
     "output_type": "display_data"
    },
    {
     "data": {
      "application/aml.mini.widget.v1": "{\"status\": \"Completed\", \"workbench_run_details_uri\": \"https://ml.azure.com/experiments/automl_review_classifier/runs/AutoML_4f1c1746-a2b1-43c7-b465-6cbe3ef014af?wsid=/subscriptions/f9d5a085-54dc-4215-9ba6-dad5d86e60a0/resourcegroups/aml-quickstarts-134076/workspaces/quick-starts-ws-134076\", \"run_id\": \"AutoML_4f1c1746-a2b1-43c7-b465-6cbe3ef014af\", \"run_properties\": {\"run_id\": \"AutoML_4f1c1746-a2b1-43c7-b465-6cbe3ef014af\", \"created_utc\": \"2021-01-09T13:06:31.845905Z\", \"properties\": {\"num_iterations\": \"1000\", \"training_type\": \"TrainFull\", \"acquisition_function\": \"EI\", \"primary_metric\": \"accuracy\", \"train_split\": \"0\", \"acquisition_parameter\": \"0\", \"num_cross_validation\": \"5\", \"target\": \"cpu-cluster-1\", \"AMLSettingsJsonString\": \"{\\\"path\\\":null,\\\"name\\\":\\\"automl_review_classifier\\\",\\\"subscription_id\\\":\\\"f9d5a085-54dc-4215-9ba6-dad5d86e60a0\\\",\\\"resource_group\\\":\\\"aml-quickstarts-134076\\\",\\\"workspace_name\\\":\\\"quick-starts-ws-134076\\\",\\\"region\\\":\\\"southcentralus\\\",\\\"compute_target\\\":\\\"cpu-cluster-1\\\",\\\"spark_service\\\":null,\\\"azure_service\\\":\\\"remote\\\",\\\"many_models\\\":false,\\\"pipeline_fetch_max_batch_size\\\":1,\\\"iterations\\\":1000,\\\"primary_metric\\\":\\\"accuracy\\\",\\\"task_type\\\":\\\"classification\\\",\\\"data_script\\\":null,\\\"validation_size\\\":0.0,\\\"n_cross_validations\\\":5,\\\"y_min\\\":null,\\\"y_max\\\":null,\\\"num_classes\\\":null,\\\"featurization\\\":\\\"auto\\\",\\\"_ignore_package_version_incompatibilities\\\":false,\\\"is_timeseries\\\":false,\\\"max_cores_per_iteration\\\":1,\\\"max_concurrent_iterations\\\":4,\\\"iteration_timeout_minutes\\\":null,\\\"mem_in_mb\\\":null,\\\"enforce_time_on_windows\\\":false,\\\"experiment_timeout_minutes\\\":20,\\\"experiment_exit_score\\\":null,\\\"whitelist_models\\\":null,\\\"blacklist_algos\\\":[\\\"TensorFlowLinearClassifier\\\",\\\"TensorFlowDNN\\\"],\\\"supported_models\\\":[\\\"GradientBoosting\\\",\\\"DecisionTree\\\",\\\"LogisticRegression\\\",\\\"XGBoostClassifier\\\",\\\"SVM\\\",\\\"SGD\\\",\\\"LinearSVM\\\",\\\"BernoulliNaiveBayes\\\",\\\"RandomForest\\\",\\\"KNN\\\",\\\"ExtremeRandomTrees\\\",\\\"TensorFlowDNN\\\",\\\"AveragedPerceptronClassifier\\\",\\\"LightGBM\\\",\\\"MultinomialNaiveBayes\\\",\\\"TensorFlowLinearClassifier\\\"],\\\"auto_blacklist\\\":true,\\\"blacklist_samples_reached\\\":false,\\\"exclude_nan_labels\\\":true,\\\"verbosity\\\":20,\\\"_debug_log\\\":\\\"azureml_automl.log\\\",\\\"show_warnings\\\":false,\\\"model_explainability\\\":true,\\\"service_url\\\":null,\\\"sdk_url\\\":null,\\\"sdk_packages\\\":null,\\\"enable_onnx_compatible_models\\\":false,\\\"enable_split_onnx_featurizer_estimator_models\\\":false,\\\"vm_type\\\":\\\"STANDARD_D2_V2\\\",\\\"telemetry_verbosity\\\":20,\\\"send_telemetry\\\":true,\\\"enable_dnn\\\":false,\\\"scenario\\\":\\\"SDK-1.13.0\\\",\\\"environment_label\\\":null,\\\"force_text_dnn\\\":false,\\\"enable_feature_sweeping\\\":true,\\\"enable_early_stopping\\\":true,\\\"early_stopping_n_iters\\\":10,\\\"metrics\\\":null,\\\"enable_ensembling\\\":true,\\\"enable_stack_ensembling\\\":true,\\\"ensemble_iterations\\\":15,\\\"enable_tf\\\":false,\\\"enable_subsampling\\\":null,\\\"subsample_seed\\\":null,\\\"enable_nimbusml\\\":false,\\\"enable_streaming\\\":false,\\\"force_streaming\\\":false,\\\"track_child_runs\\\":true,\\\"allowed_private_models\\\":[],\\\"label_column_name\\\":\\\"norm_rating\\\",\\\"weight_column_name\\\":null,\\\"cv_split_column_names\\\":null,\\\"enable_local_managed\\\":false,\\\"_local_managed_run_id\\\":null,\\\"cost_mode\\\":1,\\\"lag_length\\\":0,\\\"metric_operation\\\":\\\"maximize\\\",\\\"preprocess\\\":true}\", \"DataPrepJsonString\": \"{\\\\\\\"training_data\\\\\\\": \\\\\\\"{\\\\\\\\\\\\\\\"blocks\\\\\\\\\\\\\\\": [{\\\\\\\\\\\\\\\"id\\\\\\\\\\\\\\\": \\\\\\\\\\\\\\\"7053849c-a6f9-416c-ac1d-2b34fd270a0c\\\\\\\\\\\\\\\", \\\\\\\\\\\\\\\"type\\\\\\\\\\\\\\\": \\\\\\\\\\\\\\\"Microsoft.DPrep.GetDatastoreFilesBlock\\\\\\\\\\\\\\\", \\\\\\\\\\\\\\\"arguments\\\\\\\\\\\\\\\": {\\\\\\\\\\\\\\\"datastores\\\\\\\\\\\\\\\": [{\\\\\\\\\\\\\\\"datastoreName\\\\\\\\\\\\\\\": \\\\\\\\\\\\\\\"workspaceblobstore\\\\\\\\\\\\\\\", \\\\\\\\\\\\\\\"path\\\\\\\\\\\\\\\": \\\\\\\\\\\\\\\"data/train_set_automl.csv\\\\\\\\\\\\\\\", \\\\\\\\\\\\\\\"resourceGroup\\\\\\\\\\\\\\\": \\\\\\\\\\\\\\\"aml-quickstarts-134076\\\\\\\\\\\\\\\", \\\\\\\\\\\\\\\"subscription\\\\\\\\\\\\\\\": \\\\\\\\\\\\\\\"f9d5a085-54dc-4215-9ba6-dad5d86e60a0\\\\\\\\\\\\\\\", \\\\\\\\\\\\\\\"workspaceName\\\\\\\\\\\\\\\": \\\\\\\\\\\\\\\"quick-starts-ws-134076\\\\\\\\\\\\\\\"}]}, \\\\\\\\\\\\\\\"localData\\\\\\\\\\\\\\\": {}, \\\\\\\\\\\\\\\"isEnabled\\\\\\\\\\\\\\\": true, \\\\\\\\\\\\\\\"name\\\\\\\\\\\\\\\": null, \\\\\\\\\\\\\\\"annotation\\\\\\\\\\\\\\\": null}, {\\\\\\\\\\\\\\\"id\\\\\\\\\\\\\\\": \\\\\\\\\\\\\\\"8e2f9194-2894-4bac-b89c-3e8c7096021e\\\\\\\\\\\\\\\", \\\\\\\\\\\\\\\"type\\\\\\\\\\\\\\\": \\\\\\\\\\\\\\\"Microsoft.DPrep.ParseDelimitedBlock\\\\\\\\\\\\\\\", \\\\\\\\\\\\\\\"arguments\\\\\\\\\\\\\\\": {\\\\\\\\\\\\\\\"columnHeadersMode\\\\\\\\\\\\\\\": 3, \\\\\\\\\\\\\\\"fileEncoding\\\\\\\\\\\\\\\": 0, \\\\\\\\\\\\\\\"handleQuotedLineBreaks\\\\\\\\\\\\\\\": false, \\\\\\\\\\\\\\\"preview\\\\\\\\\\\\\\\": false, \\\\\\\\\\\\\\\"separator\\\\\\\\\\\\\\\": \\\\\\\\\\\\\\\",\\\\\\\\\\\\\\\", \\\\\\\\\\\\\\\"skipRows\\\\\\\\\\\\\\\": 0, \\\\\\\\\\\\\\\"skipRowsMode\\\\\\\\\\\\\\\": 0}, \\\\\\\\\\\\\\\"localData\\\\\\\\\\\\\\\": {}, \\\\\\\\\\\\\\\"isEnabled\\\\\\\\\\\\\\\": true, \\\\\\\\\\\\\\\"name\\\\\\\\\\\\\\\": null, \\\\\\\\\\\\\\\"annotation\\\\\\\\\\\\\\\": null}, {\\\\\\\\\\\\\\\"id\\\\\\\\\\\\\\\": \\\\\\\\\\\\\\\"5872be21-597e-4c33-a69b-e5b4f1cd9ba2\\\\\\\\\\\\\\\", \\\\\\\\\\\\\\\"type\\\\\\\\\\\\\\\": \\\\\\\\\\\\\\\"Microsoft.DPrep.DropColumnsBlock\\\\\\\\\\\\\\\", \\\\\\\\\\\\\\\"arguments\\\\\\\\\\\\\\\": {\\\\\\\\\\\\\\\"columns\\\\\\\\\\\\\\\": {\\\\\\\\\\\\\\\"type\\\\\\\\\\\\\\\": 0, \\\\\\\\\\\\\\\"details\\\\\\\\\\\\\\\": {\\\\\\\\\\\\\\\"selectedColumns\\\\\\\\\\\\\\\": [\\\\\\\\\\\\\\\"Path\\\\\\\\\\\\\\\"]}}}, \\\\\\\\\\\\\\\"localData\\\\\\\\\\\\\\\": {}, \\\\\\\\\\\\\\\"isEnabled\\\\\\\\\\\\\\\": true, \\\\\\\\\\\\\\\"name\\\\\\\\\\\\\\\": null, \\\\\\\\\\\\\\\"annotation\\\\\\\\\\\\\\\": null}, {\\\\\\\\\\\\\\\"id\\\\\\\\\\\\\\\": \\\\\\\\\\\\\\\"2e27fbcb-13f7-4408-bd04-b8c39b595c66\\\\\\\\\\\\\\\", \\\\\\\\\\\\\\\"type\\\\\\\\\\\\\\\": \\\\\\\\\\\\\\\"Microsoft.DPrep.SetColumnTypesBlock\\\\\\\\\\\\\\\", \\\\\\\\\\\\\\\"arguments\\\\\\\\\\\\\\\": {\\\\\\\\\\\\\\\"columnConversion\\\\\\\\\\\\\\\": [{\\\\\\\\\\\\\\\"column\\\\\\\\\\\\\\\": {\\\\\\\\\\\\\\\"type\\\\\\\\\\\\\\\": 2, \\\\\\\\\\\\\\\"details\\\\\\\\\\\\\\\": {\\\\\\\\\\\\\\\"selectedColumn\\\\\\\\\\\\\\\": \\\\\\\\\\\\\\\"Column1\\\\\\\\\\\\\\\"}}, \\\\\\\\\\\\\\\"typeProperty\\\\\\\\\\\\\\\": 2}, {\\\\\\\\\\\\\\\"column\\\\\\\\\\\\\\\": {\\\\\\\\\\\\\\\"type\\\\\\\\\\\\\\\": 2, \\\\\\\\\\\\\\\"details\\\\\\\\\\\\\\\": {\\\\\\\\\\\\\\\"selectedColumn\\\\\\\\\\\\\\\": \\\\\\\\\\\\\\\"text\\\\\\\\\\\\\\\"}}, \\\\\\\\\\\\\\\"typeProperty\\\\\\\\\\\\\\\": 0}, {\\\\\\\\\\\\\\\"column\\\\\\\\\\\\\\\": {\\\\\\\\\\\\\\\"type\\\\\\\\\\\\\\\": 2, \\\\\\\\\\\\\\\"details\\\\\\\\\\\\\\\": {\\\\\\\\\\\\\\\"selectedColumn\\\\\\\\\\\\\\\": \\\\\\\\\\\\\\\"norm_rating\\\\\\\\\\\\\\\"}}, \\\\\\\\\\\\\\\"typeProperty\\\\\\\\\\\\\\\": 2}]}, \\\\\\\\\\\\\\\"localData\\\\\\\\\\\\\\\": {}, \\\\\\\\\\\\\\\"isEnabled\\\\\\\\\\\\\\\": true, \\\\\\\\\\\\\\\"name\\\\\\\\\\\\\\\": null, \\\\\\\\\\\\\\\"annotation\\\\\\\\\\\\\\\": null}], \\\\\\\\\\\\\\\"inspectors\\\\\\\\\\\\\\\": [], \\\\\\\\\\\\\\\"meta\\\\\\\\\\\\\\\": {\\\\\\\\\\\\\\\"steps_added\\\\\\\\\\\\\\\": \\\\\\\\\\\\\\\"4\\\\\\\\\\\\\\\"}}\\\\\\\", \\\\\\\"activities\\\\\\\": 0}\", \"EnableSubsampling\": null, \"runTemplate\": \"AutoML\", \"azureml.runsource\": \"automl\", \"display_task_type\": \"classification\", \"dependencies_versions\": \"{\\\"azureml-widgets\\\": \\\"1.19.0\\\", \\\"azureml-train\\\": \\\"1.19.0\\\", \\\"azureml-train-restclients-hyperdrive\\\": \\\"1.19.0\\\", \\\"azureml-train-core\\\": \\\"1.19.0\\\", \\\"azureml-train-automl\\\": \\\"1.19.0\\\", \\\"azureml-train-automl-runtime\\\": \\\"1.19.0\\\", \\\"azureml-train-automl-client\\\": \\\"1.19.0\\\", \\\"azureml-tensorboard\\\": \\\"1.19.0\\\", \\\"azureml-telemetry\\\": \\\"1.19.0\\\", \\\"azureml-sdk\\\": \\\"1.19.0\\\", \\\"azureml-samples\\\": \\\"0+unknown\\\", \\\"azureml-pipeline\\\": \\\"1.19.0\\\", \\\"azureml-pipeline-steps\\\": \\\"1.19.0\\\", \\\"azureml-pipeline-core\\\": \\\"1.19.0\\\", \\\"azureml-opendatasets\\\": \\\"1.19.0\\\", \\\"azureml-model-management-sdk\\\": \\\"1.0.1b6.post1\\\", \\\"azureml-mlflow\\\": \\\"1.19.0\\\", \\\"azureml-interpret\\\": \\\"1.19.0\\\", \\\"azureml-explain-model\\\": \\\"1.19.0\\\", \\\"azureml-defaults\\\": \\\"1.19.0\\\", \\\"azureml-dataset-runtime\\\": \\\"1.19.0\\\", \\\"azureml-dataprep\\\": \\\"2.6.1\\\", \\\"azureml-dataprep-rslex\\\": \\\"1.4.0\\\", \\\"azureml-dataprep-native\\\": \\\"26.0.0\\\", \\\"azureml-datadrift\\\": \\\"1.19.0\\\", \\\"azureml-core\\\": \\\"1.19.0\\\", \\\"azureml-contrib-services\\\": \\\"1.19.0\\\", \\\"azureml-contrib-server\\\": \\\"1.19.0\\\", \\\"azureml-contrib-reinforcementlearning\\\": \\\"1.19.0\\\", \\\"azureml-contrib-pipeline-steps\\\": \\\"1.19.0\\\", \\\"azureml-contrib-notebook\\\": \\\"1.19.0\\\", \\\"azureml-contrib-interpret\\\": \\\"1.19.0\\\", \\\"azureml-contrib-gbdt\\\": \\\"1.19.0\\\", \\\"azureml-contrib-fairness\\\": \\\"1.19.0\\\", \\\"azureml-contrib-dataset\\\": \\\"1.19.0\\\", \\\"azureml-cli-common\\\": \\\"1.19.0\\\", \\\"azureml-automl-runtime\\\": \\\"1.19.0\\\", \\\"azureml-automl-core\\\": \\\"1.19.0\\\", \\\"azureml-accel-models\\\": \\\"1.19.0\\\"}\", \"_aml_system_scenario_identification\": \"Remote.Parent\", \"ClientType\": \"SDK\", \"environment_cpu_name\": \"AzureML-AutoML\", \"environment_cpu_label\": \"prod\", \"environment_gpu_name\": \"AzureML-AutoML-GPU\", \"environment_gpu_label\": \"prod\", \"root_attribution\": \"automl\", \"attribution\": \"AutoML\", \"Orchestrator\": \"AutoML\", \"CancelUri\": \"https://southcentralus.experiments.azureml.net/jasmine/v1.0/subscriptions/f9d5a085-54dc-4215-9ba6-dad5d86e60a0/resourceGroups/aml-quickstarts-134076/providers/Microsoft.MachineLearningServices/workspaces/quick-starts-ws-134076/experimentids/cfa51c6d-3dff-4535-8538-8e8bda33d59e/cancel/AutoML_4f1c1746-a2b1-43c7-b465-6cbe3ef014af\", \"ClientSdkVersion\": \"1.19.0\", \"snapshotId\": \"00000000-0000-0000-0000-000000000000\", \"SetupRunId\": \"AutoML_4f1c1746-a2b1-43c7-b465-6cbe3ef014af_setup\", \"SetupRunContainerId\": \"dcid.AutoML_4f1c1746-a2b1-43c7-b465-6cbe3ef014af_setup\", \"FeaturizationRunJsonPath\": \"featurizer_container.json\", \"FeaturizationRunId\": \"AutoML_4f1c1746-a2b1-43c7-b465-6cbe3ef014af_featurize\", \"ProblemInfoJsonString\": \"{\\\"dataset_num_categorical\\\": 0, \\\"is_sparse\\\": true, \\\"subsampling\\\": false, \\\"dataset_classes\\\": 3, \\\"dataset_features\\\": 880404, \\\"dataset_samples\\\": 16392, \\\"single_frequency_class_detected\\\": false}\", \"ModelExplainRunId\": \"AutoML_4f1c1746-a2b1-43c7-b465-6cbe3ef014af_ModelExplain\"}, \"tags\": {\"model_explain_run\": \"best_run\", \"_aml_system_azureml.automlComponent\": \"AutoML\", \"pipeline_id\": \"\", \"score\": \"\", \"predicted_cost\": \"\", \"fit_time\": \"\", \"training_percent\": \"\", \"iteration\": \"\", \"run_preprocessor\": \"\", \"run_algorithm\": \"\", \"automl_best_child_run_id\": \"AutoML_4f1c1746-a2b1-43c7-b465-6cbe3ef014af_9\", \"model_explain_best_run_child_id\": \"AutoML_4f1c1746-a2b1-43c7-b465-6cbe3ef014af_9\"}, \"end_time_utc\": \"2021-01-09T13:40:40.939213Z\", \"status\": \"Completed\", \"log_files\": {}, \"log_groups\": [], \"run_duration\": \"0:34:09\"}, \"child_runs\": [{\"run_id\": \"AutoML_4f1c1746-a2b1-43c7-b465-6cbe3ef014af_0\", \"run_number\": 24, \"metric\": null, \"status\": \"Canceled\", \"run_type\": \"azureml.scriptrun\", \"training_percent\": \"100\", \"start_time\": \"2021-01-09T13:15:11.64303Z\", \"end_time\": \"2021-01-09T13:36:56.907938Z\", \"created_time\": \"2021-01-09T13:14:58.586974Z\", \"created_time_dt\": \"2021-01-09T13:14:58.586974Z\", \"duration\": \"0:21:58\", \"iteration\": \"0\", \"goal\": null, \"run_name\": \"MaxAbsScaler, LightGBM\", \"run_properties\": null}, {\"run_id\": \"AutoML_4f1c1746-a2b1-43c7-b465-6cbe3ef014af_3\", \"run_number\": 25, \"metric\": null, \"status\": \"Completed\", \"run_type\": \"azureml.scriptrun\", \"training_percent\": \"100\", \"start_time\": \"2021-01-09T13:15:12.577667Z\", \"end_time\": \"2021-01-09T13:16:44.012867Z\", \"created_time\": \"2021-01-09T13:14:58.609022Z\", \"created_time_dt\": \"2021-01-09T13:14:58.609022Z\", \"duration\": \"0:01:45\", \"iteration\": \"3\", \"goal\": \"accuracy_max\", \"run_name\": \"MaxAbsScaler, RandomForest\", \"run_properties\": \"copy=True\", \"primary_metric\": 0.73517643, \"best_metric\": 0.73517643}, {\"run_id\": \"AutoML_4f1c1746-a2b1-43c7-b465-6cbe3ef014af_2\", \"run_number\": 26, \"metric\": null, \"status\": \"Completed\", \"run_type\": \"azureml.scriptrun\", \"training_percent\": \"100\", \"start_time\": \"2021-01-09T13:16:51.003269Z\", \"end_time\": \"2021-01-09T13:18:25.27023Z\", \"created_time\": \"2021-01-09T13:14:58.621154Z\", \"created_time_dt\": \"2021-01-09T13:14:58.621154Z\", \"duration\": \"0:03:26\", \"iteration\": \"2\", \"goal\": \"accuracy_max\", \"run_name\": \"MaxAbsScaler, RandomForest\", \"run_properties\": \"copy=True\", \"primary_metric\": 0.73517643, \"best_metric\": 0.73517643}, {\"run_id\": \"AutoML_4f1c1746-a2b1-43c7-b465-6cbe3ef014af_1\", \"run_number\": 27, \"metric\": null, \"status\": \"Canceled\", \"run_type\": \"azureml.scriptrun\", \"training_percent\": \"100\", \"start_time\": \"2021-01-09T13:15:11.054518Z\", \"end_time\": \"2021-01-09T13:36:50.802945Z\", \"created_time\": \"2021-01-09T13:14:58.637604Z\", \"created_time_dt\": \"2021-01-09T13:14:58.637604Z\", \"duration\": \"0:21:52\", \"iteration\": \"1\", \"goal\": null, \"run_name\": \"MaxAbsScaler, XGBoostClassifier\", \"run_properties\": null}, {\"run_id\": \"AutoML_4f1c1746-a2b1-43c7-b465-6cbe3ef014af_4\", \"run_number\": 28, \"metric\": null, \"status\": \"Completed\", \"run_type\": \"azureml.scriptrun\", \"training_percent\": \"100\", \"start_time\": \"2021-01-09T13:18:10.672252Z\", \"end_time\": \"2021-01-09T13:22:26.652551Z\", \"created_time\": \"2021-01-09T13:16:48.35586Z\", \"created_time_dt\": \"2021-01-09T13:16:48.35586Z\", \"duration\": \"0:05:38\", \"iteration\": \"4\", \"goal\": \"accuracy_max\", \"run_name\": \"MaxAbsScaler, RandomForest\", \"run_properties\": \"copy=True\", \"primary_metric\": 0.32537813, \"best_metric\": 0.73517643}, {\"run_id\": \"AutoML_4f1c1746-a2b1-43c7-b465-6cbe3ef014af_5\", \"run_number\": 29, \"metric\": null, \"status\": \"Completed\", \"run_type\": \"azureml.scriptrun\", \"training_percent\": \"100\", \"start_time\": \"2021-01-09T13:18:41.891701Z\", \"end_time\": \"2021-01-09T13:20:14.820626Z\", \"created_time\": \"2021-01-09T13:18:28.582073Z\", \"created_time_dt\": \"2021-01-09T13:18:28.582073Z\", \"duration\": \"0:01:46\", \"iteration\": \"5\", \"goal\": \"accuracy_max\", \"run_name\": \"MaxAbsScaler, RandomForest\", \"run_properties\": \"copy=True\", \"primary_metric\": 0.59083848, \"best_metric\": 0.73517643}, {\"run_id\": \"AutoML_4f1c1746-a2b1-43c7-b465-6cbe3ef014af_6\", \"run_number\": 30, \"metric\": null, \"status\": \"Canceled\", \"run_type\": \"azureml.scriptrun\", \"training_percent\": \"100\", \"start_time\": \"2021-01-09T13:20:32.563359Z\", \"end_time\": \"2021-01-09T13:36:50.168899Z\", \"created_time\": \"2021-01-09T13:20:17.894718Z\", \"created_time_dt\": \"2021-01-09T13:20:17.894718Z\", \"duration\": \"0:16:32\", \"iteration\": \"6\", \"goal\": null, \"run_name\": \"SparseNormalizer, XGBoostClassifier\", \"run_properties\": null}, {\"run_id\": \"AutoML_4f1c1746-a2b1-43c7-b465-6cbe3ef014af_7\", \"run_number\": 31, \"metric\": null, \"status\": \"Canceled\", \"run_type\": \"azureml.scriptrun\", \"training_percent\": \"100\", \"start_time\": \"2021-01-09T13:22:40.82505Z\", \"end_time\": \"2021-01-09T13:36:45.190042Z\", \"created_time\": \"2021-01-09T13:22:28.307897Z\", \"created_time_dt\": \"2021-01-09T13:22:28.307897Z\", \"duration\": \"0:14:16\", \"iteration\": \"7\", \"goal\": \"accuracy_max\", \"run_name\": \"StandardScalerWrapper, LightGBM\", \"run_properties\": \"<azureml.automl.runtime.shared.model_wrappers.StandardScalerWrapper object at 0x7f0e88471630\", \"primary_metric\": 0.84315617, \"best_metric\": 0.84315617}, {\"run_id\": \"AutoML_4f1c1746-a2b1-43c7-b465-6cbe3ef014af_9\", \"run_number\": 32, \"metric\": null, \"status\": \"Completed\", \"run_type\": \"azureml.scriptrun\", \"training_percent\": \"100\", \"start_time\": \"2021-01-09T13:37:08.872385Z\", \"end_time\": \"2021-01-09T13:40:29.882312Z\", \"created_time\": \"2021-01-09T13:36:59.050268Z\", \"created_time_dt\": \"2021-01-09T13:36:59.050268Z\", \"duration\": \"0:03:30\", \"iteration\": \"9\", \"goal\": \"accuracy_max\", \"run_name\": \"StackEnsemble\", \"run_properties\": \"base_learners=[('7',\\n                                        Pipeline(memory=None,\\n                                                 steps=[('standardscalerwrapper',\\n                                                         <azureml.automl.runtime.shared.model_wrappers.StandardScalerWrapper object at 0x7f00d3859518>\", \"primary_metric\": 0.84443726, \"best_metric\": 0.84443726}, {\"run_id\": \"AutoML_4f1c1746-a2b1-43c7-b465-6cbe3ef014af_8\", \"run_number\": 33, \"metric\": null, \"status\": \"Completed\", \"run_type\": \"azureml.scriptrun\", \"training_percent\": \"100\", \"start_time\": \"2021-01-09T13:37:10.620267Z\", \"end_time\": \"2021-01-09T13:39:33.24989Z\", \"created_time\": \"2021-01-09T13:36:59.1573Z\", \"created_time_dt\": \"2021-01-09T13:36:59.1573Z\", \"duration\": \"0:02:34\", \"iteration\": \"8\", \"goal\": \"accuracy_max\", \"run_name\": \"VotingEnsemble\", \"run_properties\": \"classification_labels=None,\\n                              estimators=[('7',\\n                                           Pipeline(memory=None,\\n                                                    steps=[('standardscalerwrapper',\\n                                                            <azureml.automl.runtime.shared.model_wrappers.StandardScalerWrapper object at 0x7fddbdfbfb70>\", \"primary_metric\": 0.84346124, \"best_metric\": 0.84346124}], \"children_metrics\": {\"categories\": [0], \"series\": {\"precision_score_macro\": [{\"categories\": [\"2\", \"3\", \"4\", \"5\", \"7\", \"8\", \"9\"], \"mode\": \"markers\", \"name\": \"precision_score_macro\", \"stepped\": false, \"type\": \"scatter\", \"data\": [0.2450588087969349, 0.2450588087969349, 0.23752874877418853, 0.46662677819740184, 0.6956214752094938, 0.6959125705732558, 0.6951603108973017]}, {\"categories\": [\"2\", \"3\", \"4\", \"5\", \"7\", \"8\", \"9\"], \"mode\": \"lines\", \"name\": \"precision_score_macro_max\", \"stepped\": true, \"type\": \"scatter\", \"data\": [0.2450588087969349, 0.2450588087969349, 0.2450588087969349, 0.46662677819740184, 0.6956214752094938, 0.6959125705732558, 0.6959125705732558]}], \"recall_score_micro\": [{\"categories\": [\"2\", \"3\", \"4\", \"5\", \"7\", \"8\", \"9\"], \"mode\": \"markers\", \"name\": \"recall_score_micro\", \"stepped\": false, \"type\": \"scatter\", \"data\": [0.7351764263908047, 0.7351764263908047, 0.3253781296512036, 0.590838476812061, 0.8431561728908481, 0.8434612369543014, 0.8444372558859502]}, {\"categories\": [\"2\", \"3\", \"4\", \"5\", \"7\", \"8\", \"9\"], \"mode\": \"lines\", \"name\": \"recall_score_micro_max\", \"stepped\": true, \"type\": \"scatter\", \"data\": [0.7351764263908047, 0.7351764263908047, 0.7351764263908047, 0.7351764263908047, 0.8431561728908481, 0.8434612369543014, 0.8444372558859502]}], \"recall_score_weighted\": [{\"categories\": [\"2\", \"3\", \"4\", \"5\", \"7\", \"8\", \"9\"], \"mode\": \"markers\", \"name\": \"recall_score_weighted\", \"stepped\": false, \"type\": \"scatter\", \"data\": [0.7351764263908047, 0.7351764263908047, 0.3253781296512036, 0.590838476812061, 0.8431561728908481, 0.8434612369543014, 0.8444372558859502]}, {\"categories\": [\"2\", \"3\", \"4\", \"5\", \"7\", \"8\", \"9\"], \"mode\": \"lines\", \"name\": \"recall_score_weighted_max\", \"stepped\": true, \"type\": \"scatter\", \"data\": [0.7351764263908047, 0.7351764263908047, 0.7351764263908047, 0.7351764263908047, 0.8431561728908481, 0.8434612369543014, 0.8444372558859502]}], \"norm_macro_recall\": [{\"categories\": [\"2\", \"3\", \"4\", \"5\", \"7\", \"8\", \"9\"], \"mode\": \"markers\", \"name\": \"norm_macro_recall\", \"stepped\": false, \"type\": \"scatter\", \"data\": [0.0, 0.0, 0.03434633390309489, 0.28121166970690253, 0.4347861983819475, 0.43581712450587035, 0.4425734997463119]}, {\"categories\": [\"2\", \"3\", \"4\", \"5\", \"7\", \"8\", \"9\"], \"mode\": \"lines\", \"name\": \"norm_macro_recall_max\", \"stepped\": true, \"type\": \"scatter\", \"data\": [0.0, 0.0, 0.03434633390309489, 0.28121166970690253, 0.4347861983819475, 0.43581712450587035, 0.4425734997463119]}], \"AUC_micro\": [{\"categories\": [\"2\", \"3\", \"4\", \"5\", \"7\", \"8\", \"9\"], \"mode\": \"markers\", \"name\": \"AUC_micro\", \"stepped\": false, \"type\": \"scatter\", \"data\": [0.8816387608863143, 0.8572055187398142, 0.562384418687609, 0.7431305812805732, 0.9559737092652977, 0.955982473460012, 0.9557243127422275]}, {\"categories\": [\"2\", \"3\", \"4\", \"5\", \"7\", \"8\", \"9\"], \"mode\": \"lines\", \"name\": \"AUC_micro_max\", \"stepped\": true, \"type\": \"scatter\", \"data\": [0.8816387608863143, 0.8816387608863143, 0.8816387608863143, 0.8816387608863143, 0.9559737092652977, 0.955982473460012, 0.955982473460012]}], \"f1_score_weighted\": [{\"categories\": [\"2\", \"3\", \"4\", \"5\", \"7\", \"8\", \"9\"], \"mode\": \"markers\", \"name\": \"f1_score_weighted\", \"stepped\": false, \"type\": \"scatter\", \"data\": [0.6229914167681883, 0.6229914167681883, 0.27503893117840394, 0.6301761351042586, 0.8204942230744281, 0.8209052421369023, 0.8218040142838406]}, {\"categories\": [\"2\", \"3\", \"4\", \"5\", \"7\", \"8\", \"9\"], \"mode\": \"lines\", \"name\": \"f1_score_weighted_max\", \"stepped\": true, \"type\": \"scatter\", \"data\": [0.6229914167681883, 0.6229914167681883, 0.6229914167681883, 0.6301761351042586, 0.8204942230744281, 0.8209052421369023, 0.8218040142838406]}], \"accuracy\": [{\"categories\": [\"2\", \"3\", \"4\", \"5\", \"7\", \"8\", \"9\"], \"mode\": \"markers\", \"name\": \"accuracy\", \"stepped\": false, \"type\": \"scatter\", \"data\": [0.7351764263908047, 0.7351764263908047, 0.3253781296512036, 0.590838476812061, 0.8431561728908481, 0.8434612369543014, 0.8444372558859502]}, {\"categories\": [\"2\", \"3\", \"4\", \"5\", \"7\", \"8\", \"9\"], \"mode\": \"lines\", \"name\": \"accuracy_max\", \"stepped\": true, \"type\": \"scatter\", \"data\": [0.7351764263908047, 0.7351764263908047, 0.7351764263908047, 0.7351764263908047, 0.8431561728908481, 0.8434612369543014, 0.8444372558859502]}], \"AUC_macro\": [{\"categories\": [\"2\", \"3\", \"4\", \"5\", \"7\", \"8\", \"9\"], \"mode\": \"markers\", \"name\": \"AUC_macro\", \"stepped\": false, \"type\": \"scatter\", \"data\": [0.7689701953248635, 0.6927047159952618, 0.5343314995863082, 0.7170958868979351, 0.9030359097340712, 0.902874679421398, 0.9019094094328206]}, {\"categories\": [\"2\", \"3\", \"4\", \"5\", \"7\", \"8\", \"9\"], \"mode\": \"lines\", \"name\": \"AUC_macro_max\", \"stepped\": true, \"type\": \"scatter\", \"data\": [0.7689701953248635, 0.7689701953248635, 0.7689701953248635, 0.7689701953248635, 0.9030359097340712, 0.9030359097340712, 0.9030359097340712]}], \"f1_score_micro\": [{\"categories\": [\"2\", \"3\", \"4\", \"5\", \"7\", \"8\", \"9\"], \"mode\": \"markers\", \"name\": \"f1_score_micro\", \"stepped\": false, \"type\": \"scatter\", \"data\": [0.7351764263908047, 0.7351764263908047, 0.3253781296512036, 0.590838476812061, 0.8431561728908481, 0.8434612369543014, 0.8444372558859502]}, {\"categories\": [\"2\", \"3\", \"4\", \"5\", \"7\", \"8\", \"9\"], \"mode\": \"lines\", \"name\": \"f1_score_micro_max\", \"stepped\": true, \"type\": \"scatter\", \"data\": [0.7351764263908047, 0.7351764263908047, 0.7351764263908047, 0.7351764263908047, 0.8431561728908481, 0.8434612369543014, 0.8444372558859502]}], \"log_loss\": [{\"categories\": [\"2\", \"3\", \"4\", \"5\", \"7\", \"8\", \"9\"], \"mode\": \"markers\", \"name\": \"log_loss\", \"stepped\": false, \"type\": \"scatter\", \"data\": [0.7010331425551699, 0.7352820965799384, 1.0968634515384539, 1.0411096458651534, 0.4085001693750856, 0.45814842154542806, 0.41827691141302814]}, {\"categories\": [\"2\", \"3\", \"4\", \"5\", \"7\", \"8\", \"9\"], \"mode\": \"lines\", \"name\": \"log_loss_min\", \"stepped\": true, \"type\": \"scatter\", \"data\": [0.7010331425551699, 0.7010331425551699, 0.7010331425551699, 0.7010331425551699, 0.4085001693750856, 0.4085001693750856, 0.4085001693750856]}], \"balanced_accuracy\": [{\"categories\": [\"2\", \"3\", \"4\", \"5\", \"7\", \"8\", \"9\"], \"mode\": \"markers\", \"name\": \"balanced_accuracy\", \"stepped\": false, \"type\": \"scatter\", \"data\": [0.3333333333333333, 0.3333333333333333, 0.35592808368227585, 0.5208077798046017, 0.6231907989212984, 0.6238780830039136, 0.6283823331642079]}, {\"categories\": [\"2\", \"3\", \"4\", \"5\", \"7\", \"8\", \"9\"], \"mode\": \"lines\", \"name\": \"balanced_accuracy_max\", \"stepped\": true, \"type\": \"scatter\", \"data\": [0.3333333333333333, 0.3333333333333333, 0.35592808368227585, 0.5208077798046017, 0.6231907989212984, 0.6238780830039136, 0.6283823331642079]}], \"average_precision_score_weighted\": [{\"categories\": [\"2\", \"3\", \"4\", \"5\", \"7\", \"8\", \"9\"], \"mode\": \"markers\", \"name\": \"average_precision_score_weighted\", \"stepped\": false, \"type\": \"scatter\", \"data\": [0.765765992823617, 0.7080277894885906, 0.5939554203306808, 0.7363462925878899, 0.8823222814919406, 0.8821996811103257, 0.8816161815723413]}, {\"categories\": [\"2\", \"3\", \"4\", \"5\", \"7\", \"8\", \"9\"], \"mode\": \"lines\", \"name\": \"average_precision_score_weighted_max\", \"stepped\": true, \"type\": \"scatter\", \"data\": [0.765765992823617, 0.765765992823617, 0.765765992823617, 0.765765992823617, 0.8823222814919406, 0.8823222814919406, 0.8823222814919406]}], \"average_precision_score_macro\": [{\"categories\": [\"2\", \"3\", \"4\", \"5\", \"7\", \"8\", \"9\"], \"mode\": \"markers\", \"name\": \"average_precision_score_macro\", \"stepped\": false, \"type\": \"scatter\", \"data\": [0.5255877212973736, 0.4566982147825772, 0.346569960473759, 0.4916229465371359, 0.7133018710041557, 0.7133876181222538, 0.7121156672283635]}, {\"categories\": [\"2\", \"3\", \"4\", \"5\", \"7\", \"8\", \"9\"], \"mode\": \"lines\", \"name\": \"average_precision_score_macro_max\", \"stepped\": true, \"type\": \"scatter\", \"data\": [0.5255877212973736, 0.5255877212973736, 0.5255877212973736, 0.5255877212973736, 0.7133018710041557, 0.7133876181222538, 0.7133876181222538]}], \"weighted_accuracy\": [{\"categories\": [\"2\", \"3\", \"4\", \"5\", \"7\", \"8\", \"9\"], \"mode\": \"markers\", \"name\": \"weighted_accuracy\", \"stepped\": false, \"type\": \"scatter\", \"data\": [0.936838133009552, 0.936838133009552, 0.304079660326919, 0.6178181063734332, 0.9385996305819324, 0.938732578794033, 0.9373277178159432]}, {\"categories\": [\"2\", \"3\", \"4\", \"5\", \"7\", \"8\", \"9\"], \"mode\": \"lines\", \"name\": \"weighted_accuracy_max\", \"stepped\": true, \"type\": \"scatter\", \"data\": [0.936838133009552, 0.936838133009552, 0.936838133009552, 0.936838133009552, 0.9385996305819324, 0.938732578794033, 0.938732578794033]}], \"precision_score_weighted\": [{\"categories\": [\"2\", \"3\", \"4\", \"5\", \"7\", \"8\", \"9\"], \"mode\": \"markers\", \"name\": \"precision_score_weighted\", \"stepped\": false, \"type\": \"scatter\", \"data\": [0.5405312607985668, 0.5405312607985668, 0.39288951821346196, 0.7159064243824058, 0.8139164184883226, 0.8143187862461583, 0.8159026201515225]}, {\"categories\": [\"2\", \"3\", \"4\", \"5\", \"7\", \"8\", \"9\"], \"mode\": \"lines\", \"name\": \"precision_score_weighted_max\", \"stepped\": true, \"type\": \"scatter\", \"data\": [0.5405312607985668, 0.5405312607985668, 0.5405312607985668, 0.7159064243824058, 0.8139164184883226, 0.8143187862461583, 0.8159026201515225]}], \"matthews_correlation\": [{\"categories\": [\"2\", \"3\", \"4\", \"5\", \"7\", \"8\", \"9\"], \"mode\": \"markers\", \"name\": \"matthews_correlation\", \"stepped\": false, \"type\": \"scatter\", \"data\": [0.0, 0.0, 0.05531634400230662, 0.2751466784678685, 0.5980434377184735, 0.5990139834540926, 0.603876649748853]}, {\"categories\": [\"2\", \"3\", \"4\", \"5\", \"7\", \"8\", \"9\"], \"mode\": \"lines\", \"name\": \"matthews_correlation_max\", \"stepped\": true, \"type\": \"scatter\", \"data\": [0.0, 0.0, 0.05531634400230662, 0.2751466784678685, 0.5980434377184735, 0.5990139834540926, 0.603876649748853]}], \"average_precision_score_micro\": [{\"categories\": [\"2\", \"3\", \"4\", \"5\", \"7\", \"8\", \"9\"], \"mode\": \"markers\", \"name\": \"average_precision_score_micro\", \"stepped\": false, \"type\": \"scatter\", \"data\": [0.8236337395316351, 0.7801673007752647, 0.4564123985522383, 0.6413420697264236, 0.9270091234124707, 0.9269155117493486, 0.9267507747508338]}, {\"categories\": [\"2\", \"3\", \"4\", \"5\", \"7\", \"8\", \"9\"], \"mode\": \"lines\", \"name\": \"average_precision_score_micro_max\", \"stepped\": true, \"type\": \"scatter\", \"data\": [0.8236337395316351, 0.8236337395316351, 0.8236337395316351, 0.8236337395316351, 0.9270091234124707, 0.9270091234124707, 0.9270091234124707]}], \"recall_score_macro\": [{\"categories\": [\"2\", \"3\", \"4\", \"5\", \"7\", \"8\", \"9\"], \"mode\": \"markers\", \"name\": \"recall_score_macro\", \"stepped\": false, \"type\": \"scatter\", \"data\": [0.3333333333333333, 0.3333333333333333, 0.35592808368227585, 0.5208077798046017, 0.6231907989212984, 0.6238780830039136, 0.6283823331642079]}, {\"categories\": [\"2\", \"3\", \"4\", \"5\", \"7\", \"8\", \"9\"], \"mode\": \"lines\", \"name\": \"recall_score_macro_max\", \"stepped\": true, \"type\": \"scatter\", \"data\": [0.3333333333333333, 0.3333333333333333, 0.35592808368227585, 0.5208077798046017, 0.6231907989212984, 0.6238780830039136, 0.6283823331642079]}], \"AUC_weighted\": [{\"categories\": [\"2\", \"3\", \"4\", \"5\", \"7\", \"8\", \"9\"], \"mode\": \"markers\", \"name\": \"AUC_weighted\", \"stepped\": false, \"type\": \"scatter\", \"data\": [0.7903833432768594, 0.7097304556292684, 0.5388353832674088, 0.7425494655042644, 0.9244033412898072, 0.924213771021232, 0.9238131491913532]}, {\"categories\": [\"2\", \"3\", \"4\", \"5\", \"7\", \"8\", \"9\"], \"mode\": \"lines\", \"name\": \"AUC_weighted_max\", \"stepped\": true, \"type\": \"scatter\", \"data\": [0.7903833432768594, 0.7903833432768594, 0.7903833432768594, 0.7903833432768594, 0.9244033412898072, 0.9244033412898072, 0.9244033412898072]}], \"f1_score_macro\": [{\"categories\": [\"2\", \"3\", \"4\", \"5\", \"7\", \"8\", \"9\"], \"mode\": \"markers\", \"name\": \"f1_score_macro\", \"stepped\": false, \"type\": \"scatter\", \"data\": [0.2824538120044736, 0.2824538120044736, 0.19386942140771057, 0.46735401115899566, 0.6384126294173683, 0.6390371221907822, 0.6391682543082525]}, {\"categories\": [\"2\", \"3\", \"4\", \"5\", \"7\", \"8\", \"9\"], \"mode\": \"lines\", \"name\": \"f1_score_macro_max\", \"stepped\": true, \"type\": \"scatter\", \"data\": [0.2824538120044736, 0.2824538120044736, 0.2824538120044736, 0.46735401115899566, 0.6384126294173683, 0.6390371221907822, 0.6391682543082525]}], \"precision_score_micro\": [{\"categories\": [\"2\", \"3\", \"4\", \"5\", \"7\", \"8\", \"9\"], \"mode\": \"markers\", \"name\": \"precision_score_micro\", \"stepped\": false, \"type\": \"scatter\", \"data\": [0.7351764263908047, 0.7351764263908047, 0.3253781296512036, 0.590838476812061, 0.8431561728908481, 0.8434612369543014, 0.8444372558859502]}, {\"categories\": [\"2\", \"3\", \"4\", \"5\", \"7\", \"8\", \"9\"], \"mode\": \"lines\", \"name\": \"precision_score_micro_max\", \"stepped\": true, \"type\": \"scatter\", \"data\": [0.7351764263908047, 0.7351764263908047, 0.7351764263908047, 0.7351764263908047, 0.8431561728908481, 0.8434612369543014, 0.8444372558859502]}]}, \"metricName\": null, \"primaryMetricName\": \"accuracy\", \"showLegend\": false}, \"run_metrics\": [{\"name\": \"experiment_status\", \"run_id\": \"AutoML_4f1c1746-a2b1-43c7-b465-6cbe3ef014af\", \"categories\": [0, 1, 2, 3, 4, 5, 6, 7, 8, 9, 10, 11, 12, 13, 14], \"series\": [{\"data\": [\"DatasetEvaluation\", \"FeaturesGeneration\", \"DatasetFeaturization\", \"DatasetFeaturizationCompleted\", \"DatasetBalancing\", \"DatasetCrossValidationSplit\", \"ModelSelection\", \"BestRunExplainModel\", \"ModelExplanationDataSetSetup\", \"PickSurrogateModel\", \"EngineeredFeatureExplanations\", \"EngineeredFeatureExplanations\", \"RawFeaturesExplanations\", \"RawFeaturesExplanations\", \"BestRunExplainModel\"]}]}, {\"name\": \"experiment_status_description\", \"run_id\": \"AutoML_4f1c1746-a2b1-43c7-b465-6cbe3ef014af\", \"categories\": [0, 1, 2, 3, 4, 5, 6, 7, 8, 9, 10, 11, 12, 13, 14], \"series\": [{\"data\": [\"Gathering dataset statistics.\", \"Generating features for the dataset.\", \"Beginning to fit featurizers and featurize the dataset.\", \"Completed fit featurizers and featurizing the dataset.\", \"Performing class balancing sweeping\", \"Generating individually featurized CV splits.\", \"Beginning model selection.\", \"Best run model explanations started\", \"Model explanations data setup completed\", \"Choosing LinearModel as the surrogate model for explanations\", \"Computation of engineered features started\", \"Computation of engineered features completed\", \"Computation of raw features started\", \"Computation of raw features completed\", \"Best run model explanations completed\"]}]}, {\"name\": \"recall_score_micro\", \"run_id\": \"AutoML_4f1c1746-a2b1-43c7-b465-6cbe3ef014af\", \"categories\": [0], \"series\": [{\"data\": [0.8444372558859502]}]}, {\"name\": \"precision_score_weighted\", \"run_id\": \"AutoML_4f1c1746-a2b1-43c7-b465-6cbe3ef014af\", \"categories\": [0], \"series\": [{\"data\": [0.8159026201515225]}]}, {\"name\": \"AUC_micro\", \"run_id\": \"AutoML_4f1c1746-a2b1-43c7-b465-6cbe3ef014af\", \"categories\": [0], \"series\": [{\"data\": [0.9557243127422275]}]}, {\"name\": \"f1_score_macro\", \"run_id\": \"AutoML_4f1c1746-a2b1-43c7-b465-6cbe3ef014af\", \"categories\": [0], \"series\": [{\"data\": [0.6391682543082525]}]}, {\"name\": \"AUC_weighted\", \"run_id\": \"AutoML_4f1c1746-a2b1-43c7-b465-6cbe3ef014af\", \"categories\": [0], \"series\": [{\"data\": [0.9238131491913532]}]}, {\"name\": \"precision_score_micro\", \"run_id\": \"AutoML_4f1c1746-a2b1-43c7-b465-6cbe3ef014af\", \"categories\": [0], \"series\": [{\"data\": [0.8444372558859502]}]}, {\"name\": \"balanced_accuracy\", \"run_id\": \"AutoML_4f1c1746-a2b1-43c7-b465-6cbe3ef014af\", \"categories\": [0], \"series\": [{\"data\": [0.6283823331642079]}]}, {\"name\": \"log_loss\", \"run_id\": \"AutoML_4f1c1746-a2b1-43c7-b465-6cbe3ef014af\", \"categories\": [0], \"series\": [{\"data\": [0.41827691141302814]}]}, {\"name\": \"AUC_macro\", \"run_id\": \"AutoML_4f1c1746-a2b1-43c7-b465-6cbe3ef014af\", \"categories\": [0], \"series\": [{\"data\": [0.9019094094328206]}]}, {\"name\": \"average_precision_score_micro\", \"run_id\": \"AutoML_4f1c1746-a2b1-43c7-b465-6cbe3ef014af\", \"categories\": [0], \"series\": [{\"data\": [0.9267507747508338]}]}, {\"name\": \"average_precision_score_macro\", \"run_id\": \"AutoML_4f1c1746-a2b1-43c7-b465-6cbe3ef014af\", \"categories\": [0], \"series\": [{\"data\": [0.7121156672283635]}]}, {\"name\": \"f1_score_weighted\", \"run_id\": \"AutoML_4f1c1746-a2b1-43c7-b465-6cbe3ef014af\", \"categories\": [0], \"series\": [{\"data\": [0.8218040142838406]}]}, {\"name\": \"recall_score_weighted\", \"run_id\": \"AutoML_4f1c1746-a2b1-43c7-b465-6cbe3ef014af\", \"categories\": [0], \"series\": [{\"data\": [0.8444372558859502]}]}, {\"name\": \"average_precision_score_weighted\", \"run_id\": \"AutoML_4f1c1746-a2b1-43c7-b465-6cbe3ef014af\", \"categories\": [0], \"series\": [{\"data\": [0.8816161815723413]}]}, {\"name\": \"matthews_correlation\", \"run_id\": \"AutoML_4f1c1746-a2b1-43c7-b465-6cbe3ef014af\", \"categories\": [0], \"series\": [{\"data\": [0.603876649748853]}]}, {\"name\": \"weighted_accuracy\", \"run_id\": \"AutoML_4f1c1746-a2b1-43c7-b465-6cbe3ef014af\", \"categories\": [0], \"series\": [{\"data\": [0.9373277178159432]}]}, {\"name\": \"precision_score_macro\", \"run_id\": \"AutoML_4f1c1746-a2b1-43c7-b465-6cbe3ef014af\", \"categories\": [0], \"series\": [{\"data\": [0.6951603108973017]}]}, {\"name\": \"accuracy\", \"run_id\": \"AutoML_4f1c1746-a2b1-43c7-b465-6cbe3ef014af\", \"categories\": [0], \"series\": [{\"data\": [0.8444372558859502]}]}, {\"name\": \"norm_macro_recall\", \"run_id\": \"AutoML_4f1c1746-a2b1-43c7-b465-6cbe3ef014af\", \"categories\": [0], \"series\": [{\"data\": [0.4425734997463119]}]}, {\"name\": \"f1_score_micro\", \"run_id\": \"AutoML_4f1c1746-a2b1-43c7-b465-6cbe3ef014af\", \"categories\": [0], \"series\": [{\"data\": [0.8444372558859502]}]}, {\"name\": \"recall_score_macro\", \"run_id\": \"AutoML_4f1c1746-a2b1-43c7-b465-6cbe3ef014af\", \"categories\": [0], \"series\": [{\"data\": [0.6283823331642079]}]}], \"run_logs\": \"\\nRun is completed.\", \"graph\": {}, \"widget_settings\": {\"childWidgetDisplay\": \"popup\", \"send_telemetry\": false, \"log_level\": \"INFO\", \"sdk_version\": \"1.19.0\"}, \"loading\": false}"
     },
     "metadata": {},
     "output_type": "display_data"
    }
   ],
   "source": [
    "from azureml.widgets import RunDetails\n",
    "RunDetails(automl_run ).show()"
   ]
  },
  {
   "cell_type": "code",
   "execution_count": 25,
   "metadata": {
    "gather": {
     "logged": 1598431121770
    },
    "jupyter": {
     "outputs_hidden": false,
     "source_hidden": false
    },
    "nteract": {
     "transient": {
      "deleting": false
     }
    }
   },
   "outputs": [
    {
     "name": "stdout",
     "output_type": "stream",
     "text": [
      "\n",
      "Current status: FeaturesGeneration. Generating features for the dataset.\n",
      "Current status: DatasetFeaturization. Beginning to fit featurizers and featurize the dataset.\n",
      "Current status: DatasetBalancing. Performing class balancing sweeping\n",
      "Current status: DatasetCrossValidationSplit. Generating individually featurized CV splits.\n",
      "Current status: ModelSelection. Beginning model selection.\n",
      "\n",
      "****************************************************************************************************\n",
      "DATA GUARDRAILS: \n",
      "\n",
      "TYPE:         Class balancing detection\n",
      "STATUS:       ALERTED\n",
      "DESCRIPTION:  To decrease model bias, please cancel the current run and fix balancing problem.\n",
      "              Learn more about imbalanced data: https://aka.ms/AutomatedMLImbalancedData\n",
      "DETAILS:      Imbalanced data can lead to a falsely perceived positive effect of a model's accuracy because the input data has bias towards one class.\n",
      "+---------------------------------+---------------------------------+--------------------------------------+\n",
      "|Size of the smallest class       |Name/Label of the smallest class |Number of samples in the training data|\n",
      "+=================================+=================================+======================================+\n",
      "|1752                             |1                                |16392                                 |\n",
      "+---------------------------------+---------------------------------+--------------------------------------+\n",
      "\n",
      "****************************************************************************************************\n",
      "\n",
      "TYPE:         Missing feature values imputation\n",
      "STATUS:       PASSED\n",
      "DESCRIPTION:  No feature missing values were detected in the training data.\n",
      "              Learn more about missing value imputation: https://aka.ms/AutomatedMLFeaturization\n",
      "\n",
      "****************************************************************************************************\n",
      "\n",
      "TYPE:         High cardinality feature detection\n",
      "STATUS:       DONE\n",
      "DESCRIPTION:  High cardinality features were detected in your inputs and handled.\n",
      "              Learn more about high cardinality feature handling: https://aka.ms/AutomatedMLFeaturization\n",
      "DETAILS:      High cardinality features refer to columns that contain a large percentage of unique values.\n",
      "+---------------------------------+---------------------------------+\n",
      "|Column name                      |Column Content Type              |\n",
      "+=================================+=================================+\n",
      "|text                             |text                             |\n",
      "+---------------------------------+---------------------------------+\n",
      "\n",
      "****************************************************************************************************\n",
      "\n",
      "****************************************************************************************************\n",
      "ITERATION: The iteration being evaluated.\n",
      "PIPELINE: A summary description of the pipeline being evaluated.\n",
      "DURATION: Time taken for the current iteration.\n",
      "METRIC: The result of computing score on the fitted pipeline.\n",
      "BEST: The best observed score thus far.\n",
      "****************************************************************************************************\n",
      "\n",
      " ITERATION   PIPELINE                                       DURATION      METRIC      BEST\n",
      "         3   MaxAbsScaler RandomForest                      0:01:31       0.7352    0.7352\n",
      "         2   MaxAbsScaler RandomForest                      0:01:34       0.7352    0.7352\n",
      "         5   MaxAbsScaler RandomForest                      0:01:33       0.5908    0.7352\n",
      "         4   MaxAbsScaler RandomForest                      0:04:16       0.3254    0.7352\n",
      "         7   StandardScalerWrapper LightGBM                 0:14:04       0.8432    0.8432\n",
      "         0   MaxAbsScaler LightGBM                          0:21:45          nan    0.8432\n",
      "         1   MaxAbsScaler XGBoostClassifier                 0:21:40          nan    0.8432\n",
      "         6   SparseNormalizer XGBoostClassifier             0:16:18          nan    0.8432\n",
      "         8    VotingEnsemble                                0:02:23       0.8435    0.8435\n",
      "         9    StackEnsemble                                 0:03:21       0.8444    0.8444\n"
     ]
    },
    {
     "data": {
      "text/plain": [
       "{'runId': 'AutoML_4f1c1746-a2b1-43c7-b465-6cbe3ef014af',\n",
       " 'target': 'cpu-cluster-1',\n",
       " 'status': 'Completed',\n",
       " 'startTimeUtc': '2021-01-09T13:06:47.850464Z',\n",
       " 'endTimeUtc': '2021-01-09T13:40:40.939213Z',\n",
       " 'properties': {'num_iterations': '1000',\n",
       "  'training_type': 'TrainFull',\n",
       "  'acquisition_function': 'EI',\n",
       "  'primary_metric': 'accuracy',\n",
       "  'train_split': '0',\n",
       "  'acquisition_parameter': '0',\n",
       "  'num_cross_validation': '5',\n",
       "  'target': 'cpu-cluster-1',\n",
       "  'AMLSettingsJsonString': '{\"path\":null,\"name\":\"automl_review_classifier\",\"subscription_id\":\"f9d5a085-54dc-4215-9ba6-dad5d86e60a0\",\"resource_group\":\"aml-quickstarts-134076\",\"workspace_name\":\"quick-starts-ws-134076\",\"region\":\"southcentralus\",\"compute_target\":\"cpu-cluster-1\",\"spark_service\":null,\"azure_service\":\"remote\",\"many_models\":false,\"pipeline_fetch_max_batch_size\":1,\"iterations\":1000,\"primary_metric\":\"accuracy\",\"task_type\":\"classification\",\"data_script\":null,\"validation_size\":0.0,\"n_cross_validations\":5,\"y_min\":null,\"y_max\":null,\"num_classes\":null,\"featurization\":\"auto\",\"_ignore_package_version_incompatibilities\":false,\"is_timeseries\":false,\"max_cores_per_iteration\":1,\"max_concurrent_iterations\":4,\"iteration_timeout_minutes\":null,\"mem_in_mb\":null,\"enforce_time_on_windows\":false,\"experiment_timeout_minutes\":20,\"experiment_exit_score\":null,\"whitelist_models\":null,\"blacklist_algos\":[\"TensorFlowLinearClassifier\",\"TensorFlowDNN\"],\"supported_models\":[\"GradientBoosting\",\"DecisionTree\",\"LogisticRegression\",\"XGBoostClassifier\",\"SVM\",\"SGD\",\"LinearSVM\",\"BernoulliNaiveBayes\",\"RandomForest\",\"KNN\",\"ExtremeRandomTrees\",\"TensorFlowDNN\",\"AveragedPerceptronClassifier\",\"LightGBM\",\"MultinomialNaiveBayes\",\"TensorFlowLinearClassifier\"],\"auto_blacklist\":true,\"blacklist_samples_reached\":false,\"exclude_nan_labels\":true,\"verbosity\":20,\"_debug_log\":\"azureml_automl.log\",\"show_warnings\":false,\"model_explainability\":true,\"service_url\":null,\"sdk_url\":null,\"sdk_packages\":null,\"enable_onnx_compatible_models\":false,\"enable_split_onnx_featurizer_estimator_models\":false,\"vm_type\":\"STANDARD_D2_V2\",\"telemetry_verbosity\":20,\"send_telemetry\":true,\"enable_dnn\":false,\"scenario\":\"SDK-1.13.0\",\"environment_label\":null,\"force_text_dnn\":false,\"enable_feature_sweeping\":true,\"enable_early_stopping\":true,\"early_stopping_n_iters\":10,\"metrics\":null,\"enable_ensembling\":true,\"enable_stack_ensembling\":true,\"ensemble_iterations\":15,\"enable_tf\":false,\"enable_subsampling\":null,\"subsample_seed\":null,\"enable_nimbusml\":false,\"enable_streaming\":false,\"force_streaming\":false,\"track_child_runs\":true,\"allowed_private_models\":[],\"label_column_name\":\"norm_rating\",\"weight_column_name\":null,\"cv_split_column_names\":null,\"enable_local_managed\":false,\"_local_managed_run_id\":null,\"cost_mode\":1,\"lag_length\":0,\"metric_operation\":\"maximize\",\"preprocess\":true}',\n",
       "  'DataPrepJsonString': '{\\\\\"training_data\\\\\": \\\\\"{\\\\\\\\\\\\\"blocks\\\\\\\\\\\\\": [{\\\\\\\\\\\\\"id\\\\\\\\\\\\\": \\\\\\\\\\\\\"7053849c-a6f9-416c-ac1d-2b34fd270a0c\\\\\\\\\\\\\", \\\\\\\\\\\\\"type\\\\\\\\\\\\\": \\\\\\\\\\\\\"Microsoft.DPrep.GetDatastoreFilesBlock\\\\\\\\\\\\\", \\\\\\\\\\\\\"arguments\\\\\\\\\\\\\": {\\\\\\\\\\\\\"datastores\\\\\\\\\\\\\": [{\\\\\\\\\\\\\"datastoreName\\\\\\\\\\\\\": \\\\\\\\\\\\\"workspaceblobstore\\\\\\\\\\\\\", \\\\\\\\\\\\\"path\\\\\\\\\\\\\": \\\\\\\\\\\\\"data/train_set_automl.csv\\\\\\\\\\\\\", \\\\\\\\\\\\\"resourceGroup\\\\\\\\\\\\\": \\\\\\\\\\\\\"aml-quickstarts-134076\\\\\\\\\\\\\", \\\\\\\\\\\\\"subscription\\\\\\\\\\\\\": \\\\\\\\\\\\\"f9d5a085-54dc-4215-9ba6-dad5d86e60a0\\\\\\\\\\\\\", \\\\\\\\\\\\\"workspaceName\\\\\\\\\\\\\": \\\\\\\\\\\\\"quick-starts-ws-134076\\\\\\\\\\\\\"}]}, \\\\\\\\\\\\\"localData\\\\\\\\\\\\\": {}, \\\\\\\\\\\\\"isEnabled\\\\\\\\\\\\\": true, \\\\\\\\\\\\\"name\\\\\\\\\\\\\": null, \\\\\\\\\\\\\"annotation\\\\\\\\\\\\\": null}, {\\\\\\\\\\\\\"id\\\\\\\\\\\\\": \\\\\\\\\\\\\"8e2f9194-2894-4bac-b89c-3e8c7096021e\\\\\\\\\\\\\", \\\\\\\\\\\\\"type\\\\\\\\\\\\\": \\\\\\\\\\\\\"Microsoft.DPrep.ParseDelimitedBlock\\\\\\\\\\\\\", \\\\\\\\\\\\\"arguments\\\\\\\\\\\\\": {\\\\\\\\\\\\\"columnHeadersMode\\\\\\\\\\\\\": 3, \\\\\\\\\\\\\"fileEncoding\\\\\\\\\\\\\": 0, \\\\\\\\\\\\\"handleQuotedLineBreaks\\\\\\\\\\\\\": false, \\\\\\\\\\\\\"preview\\\\\\\\\\\\\": false, \\\\\\\\\\\\\"separator\\\\\\\\\\\\\": \\\\\\\\\\\\\",\\\\\\\\\\\\\", \\\\\\\\\\\\\"skipRows\\\\\\\\\\\\\": 0, \\\\\\\\\\\\\"skipRowsMode\\\\\\\\\\\\\": 0}, \\\\\\\\\\\\\"localData\\\\\\\\\\\\\": {}, \\\\\\\\\\\\\"isEnabled\\\\\\\\\\\\\": true, \\\\\\\\\\\\\"name\\\\\\\\\\\\\": null, \\\\\\\\\\\\\"annotation\\\\\\\\\\\\\": null}, {\\\\\\\\\\\\\"id\\\\\\\\\\\\\": \\\\\\\\\\\\\"5872be21-597e-4c33-a69b-e5b4f1cd9ba2\\\\\\\\\\\\\", \\\\\\\\\\\\\"type\\\\\\\\\\\\\": \\\\\\\\\\\\\"Microsoft.DPrep.DropColumnsBlock\\\\\\\\\\\\\", \\\\\\\\\\\\\"arguments\\\\\\\\\\\\\": {\\\\\\\\\\\\\"columns\\\\\\\\\\\\\": {\\\\\\\\\\\\\"type\\\\\\\\\\\\\": 0, \\\\\\\\\\\\\"details\\\\\\\\\\\\\": {\\\\\\\\\\\\\"selectedColumns\\\\\\\\\\\\\": [\\\\\\\\\\\\\"Path\\\\\\\\\\\\\"]}}}, \\\\\\\\\\\\\"localData\\\\\\\\\\\\\": {}, \\\\\\\\\\\\\"isEnabled\\\\\\\\\\\\\": true, \\\\\\\\\\\\\"name\\\\\\\\\\\\\": null, \\\\\\\\\\\\\"annotation\\\\\\\\\\\\\": null}, {\\\\\\\\\\\\\"id\\\\\\\\\\\\\": \\\\\\\\\\\\\"2e27fbcb-13f7-4408-bd04-b8c39b595c66\\\\\\\\\\\\\", \\\\\\\\\\\\\"type\\\\\\\\\\\\\": \\\\\\\\\\\\\"Microsoft.DPrep.SetColumnTypesBlock\\\\\\\\\\\\\", \\\\\\\\\\\\\"arguments\\\\\\\\\\\\\": {\\\\\\\\\\\\\"columnConversion\\\\\\\\\\\\\": [{\\\\\\\\\\\\\"column\\\\\\\\\\\\\": {\\\\\\\\\\\\\"type\\\\\\\\\\\\\": 2, \\\\\\\\\\\\\"details\\\\\\\\\\\\\": {\\\\\\\\\\\\\"selectedColumn\\\\\\\\\\\\\": \\\\\\\\\\\\\"Column1\\\\\\\\\\\\\"}}, \\\\\\\\\\\\\"typeProperty\\\\\\\\\\\\\": 2}, {\\\\\\\\\\\\\"column\\\\\\\\\\\\\": {\\\\\\\\\\\\\"type\\\\\\\\\\\\\": 2, \\\\\\\\\\\\\"details\\\\\\\\\\\\\": {\\\\\\\\\\\\\"selectedColumn\\\\\\\\\\\\\": \\\\\\\\\\\\\"text\\\\\\\\\\\\\"}}, \\\\\\\\\\\\\"typeProperty\\\\\\\\\\\\\": 0}, {\\\\\\\\\\\\\"column\\\\\\\\\\\\\": {\\\\\\\\\\\\\"type\\\\\\\\\\\\\": 2, \\\\\\\\\\\\\"details\\\\\\\\\\\\\": {\\\\\\\\\\\\\"selectedColumn\\\\\\\\\\\\\": \\\\\\\\\\\\\"norm_rating\\\\\\\\\\\\\"}}, \\\\\\\\\\\\\"typeProperty\\\\\\\\\\\\\": 2}]}, \\\\\\\\\\\\\"localData\\\\\\\\\\\\\": {}, \\\\\\\\\\\\\"isEnabled\\\\\\\\\\\\\": true, \\\\\\\\\\\\\"name\\\\\\\\\\\\\": null, \\\\\\\\\\\\\"annotation\\\\\\\\\\\\\": null}], \\\\\\\\\\\\\"inspectors\\\\\\\\\\\\\": [], \\\\\\\\\\\\\"meta\\\\\\\\\\\\\": {\\\\\\\\\\\\\"steps_added\\\\\\\\\\\\\": \\\\\\\\\\\\\"4\\\\\\\\\\\\\"}}\\\\\", \\\\\"activities\\\\\": 0}',\n",
       "  'EnableSubsampling': None,\n",
       "  'runTemplate': 'AutoML',\n",
       "  'azureml.runsource': 'automl',\n",
       "  'display_task_type': 'classification',\n",
       "  'dependencies_versions': '{\"azureml-widgets\": \"1.19.0\", \"azureml-train\": \"1.19.0\", \"azureml-train-restclients-hyperdrive\": \"1.19.0\", \"azureml-train-core\": \"1.19.0\", \"azureml-train-automl\": \"1.19.0\", \"azureml-train-automl-runtime\": \"1.19.0\", \"azureml-train-automl-client\": \"1.19.0\", \"azureml-tensorboard\": \"1.19.0\", \"azureml-telemetry\": \"1.19.0\", \"azureml-sdk\": \"1.19.0\", \"azureml-samples\": \"0+unknown\", \"azureml-pipeline\": \"1.19.0\", \"azureml-pipeline-steps\": \"1.19.0\", \"azureml-pipeline-core\": \"1.19.0\", \"azureml-opendatasets\": \"1.19.0\", \"azureml-model-management-sdk\": \"1.0.1b6.post1\", \"azureml-mlflow\": \"1.19.0\", \"azureml-interpret\": \"1.19.0\", \"azureml-explain-model\": \"1.19.0\", \"azureml-defaults\": \"1.19.0\", \"azureml-dataset-runtime\": \"1.19.0\", \"azureml-dataprep\": \"2.6.1\", \"azureml-dataprep-rslex\": \"1.4.0\", \"azureml-dataprep-native\": \"26.0.0\", \"azureml-datadrift\": \"1.19.0\", \"azureml-core\": \"1.19.0\", \"azureml-contrib-services\": \"1.19.0\", \"azureml-contrib-server\": \"1.19.0\", \"azureml-contrib-reinforcementlearning\": \"1.19.0\", \"azureml-contrib-pipeline-steps\": \"1.19.0\", \"azureml-contrib-notebook\": \"1.19.0\", \"azureml-contrib-interpret\": \"1.19.0\", \"azureml-contrib-gbdt\": \"1.19.0\", \"azureml-contrib-fairness\": \"1.19.0\", \"azureml-contrib-dataset\": \"1.19.0\", \"azureml-cli-common\": \"1.19.0\", \"azureml-automl-runtime\": \"1.19.0\", \"azureml-automl-core\": \"1.19.0\", \"azureml-accel-models\": \"1.19.0\"}',\n",
       "  '_aml_system_scenario_identification': 'Remote.Parent',\n",
       "  'ClientType': 'SDK',\n",
       "  'environment_cpu_name': 'AzureML-AutoML',\n",
       "  'environment_cpu_label': 'prod',\n",
       "  'environment_gpu_name': 'AzureML-AutoML-GPU',\n",
       "  'environment_gpu_label': 'prod',\n",
       "  'root_attribution': 'automl',\n",
       "  'attribution': 'AutoML',\n",
       "  'Orchestrator': 'AutoML',\n",
       "  'CancelUri': 'https://southcentralus.experiments.azureml.net/jasmine/v1.0/subscriptions/f9d5a085-54dc-4215-9ba6-dad5d86e60a0/resourceGroups/aml-quickstarts-134076/providers/Microsoft.MachineLearningServices/workspaces/quick-starts-ws-134076/experimentids/cfa51c6d-3dff-4535-8538-8e8bda33d59e/cancel/AutoML_4f1c1746-a2b1-43c7-b465-6cbe3ef014af',\n",
       "  'ClientSdkVersion': '1.19.0',\n",
       "  'snapshotId': '00000000-0000-0000-0000-000000000000',\n",
       "  'SetupRunId': 'AutoML_4f1c1746-a2b1-43c7-b465-6cbe3ef014af_setup',\n",
       "  'SetupRunContainerId': 'dcid.AutoML_4f1c1746-a2b1-43c7-b465-6cbe3ef014af_setup',\n",
       "  'FeaturizationRunJsonPath': 'featurizer_container.json',\n",
       "  'FeaturizationRunId': 'AutoML_4f1c1746-a2b1-43c7-b465-6cbe3ef014af_featurize',\n",
       "  'ProblemInfoJsonString': '{\"dataset_num_categorical\": 0, \"is_sparse\": true, \"subsampling\": false, \"dataset_classes\": 3, \"dataset_features\": 880404, \"dataset_samples\": 16392, \"single_frequency_class_detected\": false}',\n",
       "  'ModelExplainRunId': 'AutoML_4f1c1746-a2b1-43c7-b465-6cbe3ef014af_ModelExplain'},\n",
       " 'inputDatasets': [],\n",
       " 'outputDatasets': [],\n",
       " 'logFiles': {}}"
      ]
     },
     "execution_count": 25,
     "metadata": {},
     "output_type": "execute_result"
    }
   ],
   "source": [
    "automl_run.wait_for_completion(show_output=True)"
   ]
  },
  {
   "cell_type": "markdown",
   "metadata": {},
   "source": [
    "## Performance metrics and Best Model\n",
    "\n",
    "TODO: In the cell below, get the best model from the automl experiments and display all the properties of the model.\n"
   ]
  },
  {
   "cell_type": "markdown",
   "metadata": {},
   "source": [
    "### Get the best model and the best run"
   ]
  },
  {
   "cell_type": "code",
   "execution_count": 39,
   "metadata": {},
   "outputs": [
    {
     "name": "stdout",
     "output_type": "stream",
     "text": [
      "['accuracy_table', 'automl_driver.py', 'azureml-logs/55_azureml-execution-tvmps_eb47bd6a9b1ab2010f5df288203402455c5bfa974ec862472bb033d8b6747185_d.txt', 'azureml-logs/65_job_prep-tvmps_eb47bd6a9b1ab2010f5df288203402455c5bfa974ec862472bb033d8b6747185_d.txt', 'azureml-logs/70_driver_log.txt', 'azureml-logs/75_job_post-tvmps_eb47bd6a9b1ab2010f5df288203402455c5bfa974ec862472bb033d8b6747185_d.txt', 'azureml-logs/process_info.json', 'azureml-logs/process_status.json', 'confusion_matrix', 'logs/azureml/103_azureml.log', 'logs/azureml/azureml_automl.log', 'logs/azureml/dataprep/python_span_30f0a700-ebc8-4a6e-afc9-ada4d4d1e68b.jsonl', 'logs/azureml/dataprep/python_span_9eb95a04-8aeb-4a2d-bf3e-3369f5ea3a58.jsonl', 'logs/azureml/job_prep_azureml.log', 'logs/azureml/job_release_azureml.log', 'outputs/conda_env_v_1_0_0.yml', 'outputs/env_dependencies.json', 'outputs/model.pkl', 'outputs/pipeline_graph.json', 'outputs/scoring_file_v_1_0_0.py']\n"
     ]
    }
   ],
   "source": [
    "best_child = automl_run.get_best_child()\n",
    "print(best_child.get_file_names())\n",
    "best_model = best_child.register_model(model_name=\"best-automl-model\", model_path=\"outputs/model.pkl\")"
   ]
  },
  {
   "cell_type": "markdown",
   "metadata": {},
   "source": [
    "## Model Deployment\n",
    "\n",
    "In the cell below, register the model, create an inference config and deploy the model as a web service."
   ]
  },
  {
   "cell_type": "code",
   "execution_count": 44,
   "metadata": {},
   "outputs": [],
   "source": [
    "from azureml.core.environment import Environment\n",
    "from azureml.core.model import Model\n",
    "from azureml.core.conda_dependencies import CondaDependencies\n",
    "from azureml.core.model import InferenceConfig\n",
    "from azureml.core.webservice import AciWebservice\n",
    "\n",
    "# Create the environment\n",
    "myenv = Environment(name=\"myenv\")\n",
    "conda_dep = CondaDependencies()\n",
    "\n",
    "# Define the packages needed by the model and scripts\n",
    "conda_dep.add_conda_package(\"pandas\")\n",
    "conda_dep.add_conda_package(\"numpy\")\n",
    "conda_dep.add_conda_package(\"scikit-learn\")\n",
    "conda_dep.add_conda_package(\"xgboost\")\n",
    "# You must list azureml-defaults as a pip dependency\n",
    "conda_dep.add_pip_package(\"azureml-defaults\")\n",
    "\n",
    "# Adds dependencies to PythonSection of myenv\n",
    "myenv.python.conda_dependencies=conda_dep\n",
    "\n",
    "inference_config = InferenceConfig(entry_script=\"score.py\",\n",
    "                                   environment=myenv)"
   ]
  },
  {
   "cell_type": "code",
   "execution_count": 45,
   "metadata": {},
   "outputs": [
    {
     "name": "stdout",
     "output_type": "stream",
     "text": [
      "Tips: You can try get_logs(): https://aka.ms/debugimage#dockerlog or local deployment: https://aka.ms/debugimage#debug-locally to debug if deployment takes longer than 10 minutes.\n",
      "Running...........................................................................\n",
      "Failed\n"
     ]
    },
    {
     "name": "stderr",
     "output_type": "stream",
     "text": [
      "Service deployment polling reached non-successful terminal state, current service state: Failed\n",
      "Operation ID: 11c00b57-4b4a-4322-8ec5-dc75580aadd6\n",
      "More information can be found using '.get_logs()'\n",
      "Error:\n",
      "{\n",
      "  \"code\": \"AciDeploymentFailed\",\n",
      "  \"message\": \"Aci Deployment failed with exception: Your container application crashed. This may be caused by errors in your scoring file's init() function.\\nPlease check the logs for your container instance: automl-review-classification. From the AML SDK, you can run print(service.get_logs()) if you have service object to fetch the logs. \\nYou can interactively debug your scoring file locally. Please refer to https://docs.microsoft.com/azure/machine-learning/how-to-debug-visual-studio-code#debug-and-troubleshoot-deployments for more information.\\nYou can also try to run image 1482e13b39f24b188bfd175723d72779.azurecr.io/azureml/azureml_50ad9199f6abe9333ff46bc0245c9350 locally. Please refer to https://aka.ms/debugimage#service-launch-fails for more information.\",\n",
      "  \"details\": [\n",
      "    {\n",
      "      \"code\": \"CrashLoopBackOff\",\n",
      "      \"message\": \"Your container application crashed. This may be caused by errors in your scoring file's init() function.\\nPlease check the logs for your container instance: automl-review-classification. From the AML SDK, you can run print(service.get_logs()) if you have service object to fetch the logs. \\nYou can interactively debug your scoring file locally. Please refer to https://docs.microsoft.com/azure/machine-learning/how-to-debug-visual-studio-code#debug-and-troubleshoot-deployments for more information.\\nYou can also try to run image 1482e13b39f24b188bfd175723d72779.azurecr.io/azureml/azureml_50ad9199f6abe9333ff46bc0245c9350 locally. Please refer to https://aka.ms/debugimage#service-launch-fails for more information.\"\n",
      "    },\n",
      "    {\n",
      "      \"code\": \"AciDeploymentFailed\",\n",
      "      \"message\": \"Your container application crashed. Please follow the steps to debug:\\n1. From the AML SDK, you can run print(service.get_logs()) if you have service object to fetch the logs. Please refer to https://aka.ms/debugimage#dockerlog for more information.\\n2. If your container application crashed. This may be caused by errors in your scoring file's init() function. You can try debugging locally first. Please refer to https://aka.ms/debugimage#debug-locally for more information.\\n3. You can also interactively debug your scoring file locally. Please refer to https://docs.microsoft.com/azure/machine-learning/how-to-debug-visual-studio-code#debug-and-troubleshoot-deployments for more information.\\n4. View the diagnostic events to check status of container, it may help you to debug the issue. {\\\"restartCount\\\":5,\\\"currentState\\\":{\\\"state\\\":\\\"Waiting\\\",\\\"startTime\\\":null,\\\"exitCode\\\":null,\\\"finishTime\\\":null,\\\"detailStatus\\\":\\\"CrashLoopBackOff: Back-off restarting failed\\\"},\\\"previousState\\\":{\\\"state\\\":\\\"Terminated\\\",\\\"startTime\\\":\\\"2021-01-09T14:50:16.476Z\\\",\\\"exitCode\\\":111,\\\"finishTime\\\":\\\"2021-01-09T14:50:20.127Z\\\",\\\"detailStatus\\\":\\\"Error\\\"},\\\"events\\\":null}\"\n",
      "    }\n",
      "  ]\n",
      "}\n",
      "\n"
     ]
    },
    {
     "ename": "WebserviceException",
     "evalue": "WebserviceException:\n\tMessage: Service deployment polling reached non-successful terminal state, current service state: Failed\nOperation ID: 11c00b57-4b4a-4322-8ec5-dc75580aadd6\nMore information can be found using '.get_logs()'\nError:\n{\n  \"code\": \"AciDeploymentFailed\",\n  \"message\": \"Aci Deployment failed with exception: Your container application crashed. This may be caused by errors in your scoring file's init() function.\\nPlease check the logs for your container instance: automl-review-classification. From the AML SDK, you can run print(service.get_logs()) if you have service object to fetch the logs. \\nYou can interactively debug your scoring file locally. Please refer to https://docs.microsoft.com/azure/machine-learning/how-to-debug-visual-studio-code#debug-and-troubleshoot-deployments for more information.\\nYou can also try to run image 1482e13b39f24b188bfd175723d72779.azurecr.io/azureml/azureml_50ad9199f6abe9333ff46bc0245c9350 locally. Please refer to https://aka.ms/debugimage#service-launch-fails for more information.\",\n  \"details\": [\n    {\n      \"code\": \"CrashLoopBackOff\",\n      \"message\": \"Your container application crashed. This may be caused by errors in your scoring file's init() function.\\nPlease check the logs for your container instance: automl-review-classification. From the AML SDK, you can run print(service.get_logs()) if you have service object to fetch the logs. \\nYou can interactively debug your scoring file locally. Please refer to https://docs.microsoft.com/azure/machine-learning/how-to-debug-visual-studio-code#debug-and-troubleshoot-deployments for more information.\\nYou can also try to run image 1482e13b39f24b188bfd175723d72779.azurecr.io/azureml/azureml_50ad9199f6abe9333ff46bc0245c9350 locally. Please refer to https://aka.ms/debugimage#service-launch-fails for more information.\"\n    },\n    {\n      \"code\": \"AciDeploymentFailed\",\n      \"message\": \"Your container application crashed. Please follow the steps to debug:\\n1. From the AML SDK, you can run print(service.get_logs()) if you have service object to fetch the logs. Please refer to https://aka.ms/debugimage#dockerlog for more information.\\n2. If your container application crashed. This may be caused by errors in your scoring file's init() function. You can try debugging locally first. Please refer to https://aka.ms/debugimage#debug-locally for more information.\\n3. You can also interactively debug your scoring file locally. Please refer to https://docs.microsoft.com/azure/machine-learning/how-to-debug-visual-studio-code#debug-and-troubleshoot-deployments for more information.\\n4. View the diagnostic events to check status of container, it may help you to debug the issue. {\\\"restartCount\\\":5,\\\"currentState\\\":{\\\"state\\\":\\\"Waiting\\\",\\\"startTime\\\":null,\\\"exitCode\\\":null,\\\"finishTime\\\":null,\\\"detailStatus\\\":\\\"CrashLoopBackOff: Back-off restarting failed\\\"},\\\"previousState\\\":{\\\"state\\\":\\\"Terminated\\\",\\\"startTime\\\":\\\"2021-01-09T14:50:16.476Z\\\",\\\"exitCode\\\":111,\\\"finishTime\\\":\\\"2021-01-09T14:50:20.127Z\\\",\\\"detailStatus\\\":\\\"Error\\\"},\\\"events\\\":null}\"\n    }\n  ]\n}\n\tInnerException None\n\tErrorResponse \n{\n    \"error\": {\n        \"message\": \"Service deployment polling reached non-successful terminal state, current service state: Failed\\nOperation ID: 11c00b57-4b4a-4322-8ec5-dc75580aadd6\\nMore information can be found using '.get_logs()'\\nError:\\n{\\n  \\\"code\\\": \\\"AciDeploymentFailed\\\",\\n  \\\"message\\\": \\\"Aci Deployment failed with exception: Your container application crashed. This may be caused by errors in your scoring file's init() function.\\\\nPlease check the logs for your container instance: automl-review-classification. From the AML SDK, you can run print(service.get_logs()) if you have service object to fetch the logs. \\\\nYou can interactively debug your scoring file locally. Please refer to https://docs.microsoft.com/azure/machine-learning/how-to-debug-visual-studio-code#debug-and-troubleshoot-deployments for more information.\\\\nYou can also try to run image 1482e13b39f24b188bfd175723d72779.azurecr.io/azureml/azureml_50ad9199f6abe9333ff46bc0245c9350 locally. Please refer to https://aka.ms/debugimage#service-launch-fails for more information.\\\",\\n  \\\"details\\\": [\\n    {\\n      \\\"code\\\": \\\"CrashLoopBackOff\\\",\\n      \\\"message\\\": \\\"Your container application crashed. This may be caused by errors in your scoring file's init() function.\\\\nPlease check the logs for your container instance: automl-review-classification. From the AML SDK, you can run print(service.get_logs()) if you have service object to fetch the logs. \\\\nYou can interactively debug your scoring file locally. Please refer to https://docs.microsoft.com/azure/machine-learning/how-to-debug-visual-studio-code#debug-and-troubleshoot-deployments for more information.\\\\nYou can also try to run image 1482e13b39f24b188bfd175723d72779.azurecr.io/azureml/azureml_50ad9199f6abe9333ff46bc0245c9350 locally. Please refer to https://aka.ms/debugimage#service-launch-fails for more information.\\\"\\n    },\\n    {\\n      \\\"code\\\": \\\"AciDeploymentFailed\\\",\\n      \\\"message\\\": \\\"Your container application crashed. Please follow the steps to debug:\\\\n1. From the AML SDK, you can run print(service.get_logs()) if you have service object to fetch the logs. Please refer to https://aka.ms/debugimage#dockerlog for more information.\\\\n2. If your container application crashed. This may be caused by errors in your scoring file's init() function. You can try debugging locally first. Please refer to https://aka.ms/debugimage#debug-locally for more information.\\\\n3. You can also interactively debug your scoring file locally. Please refer to https://docs.microsoft.com/azure/machine-learning/how-to-debug-visual-studio-code#debug-and-troubleshoot-deployments for more information.\\\\n4. View the diagnostic events to check status of container, it may help you to debug the issue. {\\\\\\\"restartCount\\\\\\\":5,\\\\\\\"currentState\\\\\\\":{\\\\\\\"state\\\\\\\":\\\\\\\"Waiting\\\\\\\",\\\\\\\"startTime\\\\\\\":null,\\\\\\\"exitCode\\\\\\\":null,\\\\\\\"finishTime\\\\\\\":null,\\\\\\\"detailStatus\\\\\\\":\\\\\\\"CrashLoopBackOff: Back-off restarting failed\\\\\\\"},\\\\\\\"previousState\\\\\\\":{\\\\\\\"state\\\\\\\":\\\\\\\"Terminated\\\\\\\",\\\\\\\"startTime\\\\\\\":\\\\\\\"2021-01-09T14:50:16.476Z\\\\\\\",\\\\\\\"exitCode\\\\\\\":111,\\\\\\\"finishTime\\\\\\\":\\\\\\\"2021-01-09T14:50:20.127Z\\\\\\\",\\\\\\\"detailStatus\\\\\\\":\\\\\\\"Error\\\\\\\"},\\\\\\\"events\\\\\\\":null}\\\"\\n    }\\n  ]\\n}\"\n    }\n}",
     "output_type": "error",
     "traceback": [
      "\u001b[0;31m---------------------------------------------------------------------------\u001b[0m",
      "\u001b[0;31mWebserviceException\u001b[0m                       Traceback (most recent call last)",
      "\u001b[0;32m<ipython-input-45-520a0bb74d0c>\u001b[0m in \u001b[0;36m<module>\u001b[0;34m\u001b[0m\n\u001b[1;32m      8\u001b[0m                        \u001b[0mdeployment_config\u001b[0m\u001b[0;34m=\u001b[0m\u001b[0maci_config\u001b[0m\u001b[0;34m,\u001b[0m\u001b[0;34m\u001b[0m\u001b[0;34m\u001b[0m\u001b[0m\n\u001b[1;32m      9\u001b[0m                        overwrite=True)\n\u001b[0;32m---> 10\u001b[0;31m \u001b[0mservice\u001b[0m\u001b[0;34m.\u001b[0m\u001b[0mwait_for_deployment\u001b[0m\u001b[0;34m(\u001b[0m\u001b[0mshow_output\u001b[0m\u001b[0;34m=\u001b[0m\u001b[0;32mTrue\u001b[0m\u001b[0;34m)\u001b[0m\u001b[0;34m\u001b[0m\u001b[0;34m\u001b[0m\u001b[0m\n\u001b[0m\u001b[1;32m     11\u001b[0m \u001b[0mprint\u001b[0m\u001b[0;34m(\u001b[0m\u001b[0;34m\"scoring URI: \"\u001b[0m \u001b[0;34m+\u001b[0m \u001b[0mservice\u001b[0m\u001b[0;34m.\u001b[0m\u001b[0mscoring_uri\u001b[0m\u001b[0;34m)\u001b[0m\u001b[0;34m\u001b[0m\u001b[0;34m\u001b[0m\u001b[0m\n",
      "\u001b[0;32m/anaconda/envs/azureml_py36/lib/python3.6/site-packages/azureml/core/webservice/webservice.py\u001b[0m in \u001b[0;36mwait_for_deployment\u001b[0;34m(self, show_output, timeout_sec)\u001b[0m\n\u001b[1;32m    913\u001b[0m                                           \u001b[0;34m'Error:\\n'\u001b[0m\u001b[0;34m\u001b[0m\u001b[0;34m\u001b[0m\u001b[0m\n\u001b[1;32m    914\u001b[0m                                           '{}'.format(self.state, self._operation_endpoint.split('/')[-1],\n\u001b[0;32m--> 915\u001b[0;31m                                                       logs_response, error_response), logger=module_logger)\n\u001b[0m\u001b[1;32m    916\u001b[0m             print('{} service creation operation finished, operation \"{}\"'.format(self._webservice_type,\n\u001b[1;32m    917\u001b[0m                                                                                   operation_state))\n",
      "\u001b[0;31mWebserviceException\u001b[0m: WebserviceException:\n\tMessage: Service deployment polling reached non-successful terminal state, current service state: Failed\nOperation ID: 11c00b57-4b4a-4322-8ec5-dc75580aadd6\nMore information can be found using '.get_logs()'\nError:\n{\n  \"code\": \"AciDeploymentFailed\",\n  \"message\": \"Aci Deployment failed with exception: Your container application crashed. This may be caused by errors in your scoring file's init() function.\\nPlease check the logs for your container instance: automl-review-classification. From the AML SDK, you can run print(service.get_logs()) if you have service object to fetch the logs. \\nYou can interactively debug your scoring file locally. Please refer to https://docs.microsoft.com/azure/machine-learning/how-to-debug-visual-studio-code#debug-and-troubleshoot-deployments for more information.\\nYou can also try to run image 1482e13b39f24b188bfd175723d72779.azurecr.io/azureml/azureml_50ad9199f6abe9333ff46bc0245c9350 locally. Please refer to https://aka.ms/debugimage#service-launch-fails for more information.\",\n  \"details\": [\n    {\n      \"code\": \"CrashLoopBackOff\",\n      \"message\": \"Your container application crashed. This may be caused by errors in your scoring file's init() function.\\nPlease check the logs for your container instance: automl-review-classification. From the AML SDK, you can run print(service.get_logs()) if you have service object to fetch the logs. \\nYou can interactively debug your scoring file locally. Please refer to https://docs.microsoft.com/azure/machine-learning/how-to-debug-visual-studio-code#debug-and-troubleshoot-deployments for more information.\\nYou can also try to run image 1482e13b39f24b188bfd175723d72779.azurecr.io/azureml/azureml_50ad9199f6abe9333ff46bc0245c9350 locally. Please refer to https://aka.ms/debugimage#service-launch-fails for more information.\"\n    },\n    {\n      \"code\": \"AciDeploymentFailed\",\n      \"message\": \"Your container application crashed. Please follow the steps to debug:\\n1. From the AML SDK, you can run print(service.get_logs()) if you have service object to fetch the logs. Please refer to https://aka.ms/debugimage#dockerlog for more information.\\n2. If your container application crashed. This may be caused by errors in your scoring file's init() function. You can try debugging locally first. Please refer to https://aka.ms/debugimage#debug-locally for more information.\\n3. You can also interactively debug your scoring file locally. Please refer to https://docs.microsoft.com/azure/machine-learning/how-to-debug-visual-studio-code#debug-and-troubleshoot-deployments for more information.\\n4. View the diagnostic events to check status of container, it may help you to debug the issue. {\\\"restartCount\\\":5,\\\"currentState\\\":{\\\"state\\\":\\\"Waiting\\\",\\\"startTime\\\":null,\\\"exitCode\\\":null,\\\"finishTime\\\":null,\\\"detailStatus\\\":\\\"CrashLoopBackOff: Back-off restarting failed\\\"},\\\"previousState\\\":{\\\"state\\\":\\\"Terminated\\\",\\\"startTime\\\":\\\"2021-01-09T14:50:16.476Z\\\",\\\"exitCode\\\":111,\\\"finishTime\\\":\\\"2021-01-09T14:50:20.127Z\\\",\\\"detailStatus\\\":\\\"Error\\\"},\\\"events\\\":null}\"\n    }\n  ]\n}\n\tInnerException None\n\tErrorResponse \n{\n    \"error\": {\n        \"message\": \"Service deployment polling reached non-successful terminal state, current service state: Failed\\nOperation ID: 11c00b57-4b4a-4322-8ec5-dc75580aadd6\\nMore information can be found using '.get_logs()'\\nError:\\n{\\n  \\\"code\\\": \\\"AciDeploymentFailed\\\",\\n  \\\"message\\\": \\\"Aci Deployment failed with exception: Your container application crashed. This may be caused by errors in your scoring file's init() function.\\\\nPlease check the logs for your container instance: automl-review-classification. From the AML SDK, you can run print(service.get_logs()) if you have service object to fetch the logs. \\\\nYou can interactively debug your scoring file locally. Please refer to https://docs.microsoft.com/azure/machine-learning/how-to-debug-visual-studio-code#debug-and-troubleshoot-deployments for more information.\\\\nYou can also try to run image 1482e13b39f24b188bfd175723d72779.azurecr.io/azureml/azureml_50ad9199f6abe9333ff46bc0245c9350 locally. Please refer to https://aka.ms/debugimage#service-launch-fails for more information.\\\",\\n  \\\"details\\\": [\\n    {\\n      \\\"code\\\": \\\"CrashLoopBackOff\\\",\\n      \\\"message\\\": \\\"Your container application crashed. This may be caused by errors in your scoring file's init() function.\\\\nPlease check the logs for your container instance: automl-review-classification. From the AML SDK, you can run print(service.get_logs()) if you have service object to fetch the logs. \\\\nYou can interactively debug your scoring file locally. Please refer to https://docs.microsoft.com/azure/machine-learning/how-to-debug-visual-studio-code#debug-and-troubleshoot-deployments for more information.\\\\nYou can also try to run image 1482e13b39f24b188bfd175723d72779.azurecr.io/azureml/azureml_50ad9199f6abe9333ff46bc0245c9350 locally. Please refer to https://aka.ms/debugimage#service-launch-fails for more information.\\\"\\n    },\\n    {\\n      \\\"code\\\": \\\"AciDeploymentFailed\\\",\\n      \\\"message\\\": \\\"Your container application crashed. Please follow the steps to debug:\\\\n1. From the AML SDK, you can run print(service.get_logs()) if you have service object to fetch the logs. Please refer to https://aka.ms/debugimage#dockerlog for more information.\\\\n2. If your container application crashed. This may be caused by errors in your scoring file's init() function. You can try debugging locally first. Please refer to https://aka.ms/debugimage#debug-locally for more information.\\\\n3. You can also interactively debug your scoring file locally. Please refer to https://docs.microsoft.com/azure/machine-learning/how-to-debug-visual-studio-code#debug-and-troubleshoot-deployments for more information.\\\\n4. View the diagnostic events to check status of container, it may help you to debug the issue. {\\\\\\\"restartCount\\\\\\\":5,\\\\\\\"currentState\\\\\\\":{\\\\\\\"state\\\\\\\":\\\\\\\"Waiting\\\\\\\",\\\\\\\"startTime\\\\\\\":null,\\\\\\\"exitCode\\\\\\\":null,\\\\\\\"finishTime\\\\\\\":null,\\\\\\\"detailStatus\\\\\\\":\\\\\\\"CrashLoopBackOff: Back-off restarting failed\\\\\\\"},\\\\\\\"previousState\\\\\\\":{\\\\\\\"state\\\\\\\":\\\\\\\"Terminated\\\\\\\",\\\\\\\"startTime\\\\\\\":\\\\\\\"2021-01-09T14:50:16.476Z\\\\\\\",\\\\\\\"exitCode\\\\\\\":111,\\\\\\\"finishTime\\\\\\\":\\\\\\\"2021-01-09T14:50:20.127Z\\\\\\\",\\\\\\\"detailStatus\\\\\\\":\\\\\\\"Error\\\\\\\"},\\\\\\\"events\\\\\\\":null}\\\"\\n    }\\n  ]\\n}\"\n    }\n}"
     ]
    }
   ],
   "source": [
    "service_name = 'automl-review-classification'\n",
    "aci_config = AciWebservice.deploy_configuration(cpu_cores=1, memory_gb=1)\n",
    "\n",
    "service = Model.deploy(workspace=ws,\n",
    "                       name=service_name,\n",
    "                       models=[best_model],\n",
    "                       inference_config=inference_config,\n",
    "                       deployment_config=aci_config,\n",
    "                       overwrite=True)\n",
    "service.wait_for_deployment(show_output=True)\n",
    "print(\"scoring URI: \" + service.scoring_uri)"
   ]
  },
  {
   "cell_type": "code",
   "execution_count": null,
   "metadata": {},
   "outputs": [],
   "source": [
    "service.get_logs()"
   ]
  },
  {
   "cell_type": "markdown",
   "metadata": {
    "collapsed": true,
    "gather": {
     "logged": 1598431657736
    },
    "jupyter": {
     "outputs_hidden": false,
     "source_hidden": false
    },
    "nteract": {
     "transient": {
      "deleting": false
     }
    }
   },
   "source": [
    "TODO: In the cell below, send a request to the web service you deployed to test it."
   ]
  },
  {
   "cell_type": "code",
   "execution_count": null,
   "metadata": {
    "gather": {
     "logged": 1598432707604
    },
    "jupyter": {
     "outputs_hidden": false,
     "source_hidden": false
    },
    "nteract": {
     "transient": {
      "deleting": false
     }
    }
   },
   "outputs": [],
   "source": [
    "import requests\n",
    "import json\n",
    "from azureml.core.authentication import InteractiveLoginAuthentication\n",
    "\n",
    "# Get a token to authenticate to the compute instance from remote\n",
    "interactive_auth = InteractiveLoginAuthentication()\n",
    "auth_header = interactive_auth.get_authentication_header()\n",
    "\n",
    "# Create and submit a request using the auth header\n",
    "headers = auth_header\n",
    "# Add content type header\n",
    "headers.update({'Content-Type':'application/json'})\n",
    "\n",
    "# Sample data to send to the service\n",
    "test_sample = json.dumps({'data': [\n",
    "    [1,2,3,4,5,6,7,8,9,10],\n",
    "    [10,9,8,7,6,5,4,3,2,1]\n",
    "]})\n",
    "test_sample = bytes(test_sample, encoding = 'utf8')\n",
    "\n",
    "# Replace with the URL for your compute instance, as determined from the previous section\n",
    "service_url = service.endpoint\n",
    "# for a compute instance, the url would be https://vm-name-6789.northcentralus.instances.azureml.net/score\n",
    "response = requests.post(service_url, test_sample, headers=headers)\n",
    "print(\"prediction:\", response.text)"
   ]
  },
  {
   "cell_type": "markdown",
   "metadata": {
    "collapsed": true,
    "gather": {
     "logged": 1598432765711
    },
    "jupyter": {
     "outputs_hidden": false,
     "source_hidden": false
    },
    "nteract": {
     "transient": {
      "deleting": false
     }
    }
   },
   "source": [
    "TODO: In the cell below, print the logs of the web service and delete the service"
   ]
  },
  {
   "cell_type": "code",
   "execution_count": null,
   "metadata": {
    "jupyter": {
     "outputs_hidden": false,
     "source_hidden": false
    },
    "nteract": {
     "transient": {
      "deleting": false
     }
    }
   },
   "outputs": [],
   "source": [
    "print(local_service.get_logs())"
   ]
  },
  {
   "cell_type": "code",
   "execution_count": null,
   "metadata": {},
   "outputs": [],
   "source": [
    "mport os\n",
    "import pickle\n",
    "import json\n",
    "import time\n",
    "from keras.models import load_model\n",
    "from keras.preprocessing.sequence import pad_sequences\n",
    "from gensim.models.word2vec import Word2Vec\n",
    "\n",
    "# SENTIMENT\n",
    "POSITIVE = \"POSITIVE\"\n",
    "NEGATIVE = \"NEGATIVE\"\n",
    "NEUTRAL = \"NEUTRAL\"\n",
    "SENTIMENT_THRESHOLDS = (0.4, 0.7)\n",
    "SEQUENCE_LENGTH = 300\n",
    "\n",
    "# Called when the deployed service starts\n",
    "def init():\n",
    "    global model\n",
    "    global tokenizer\n",
    "    global encoder\n",
    "    global w2v_model\n",
    "\n",
    "    # Get the path where the deployed model can be found.\n",
    "    model_path = os.path.join(os.getenv('AZUREML_MODEL_DIR'), './models')\n",
    "    # load models\n",
    "    model = load_model(model_path + '/model.h5')\n",
    "    w2v_model = Word2Vec.load(model_path + '/model.w2v')\n",
    "\n",
    "    with open(model_path + '/tokenizer.pkl','rb') as handle:\n",
    "        tokenizer = pickle.load(handle)\n",
    "\n",
    "    with open(model_path + '/encoder.pkl','rb') as handle:\n",
    "        encoder = pickle.load(handle)\n",
    "\n",
    "# Handle requests to the service\n",
    "def run(data):\n",
    "    try:\n",
    "        # Pick out the text property of the JSON request.\n",
    "        # This expects a request in the form of {\"text\": \"some text to score for sentiment\"}\n",
    "        data = json.loads(data)\n",
    "        prediction = predict(data['text'])\n",
    "        #Return prediction\n",
    "        return prediction\n",
    "    except Exception as e:\n",
    "        error = str(e)\n",
    "        return error\n",
    "\n",
    "# Determine sentiment from score\n",
    "def decode_sentiment(score, include_neutral=True):\n",
    "    if include_neutral:\n",
    "        label = NEUTRAL\n",
    "        if score <= SENTIMENT_THRESHOLDS[0]:\n",
    "            label = NEGATIVE\n",
    "        elif score >= SENTIMENT_THRESHOLDS[1]:\n",
    "            label = POSITIVE\n",
    "        return label\n",
    "    else:\n",
    "        return NEGATIVE if score < 0.5 else POSITIVE\n",
    "\n",
    "# Predict sentiment using the model\n",
    "def predict(text, include_neutral=True):\n",
    "    start_at = time.time()\n",
    "    # Tokenize text\n",
    "    x_test = pad_sequences(tokenizer.texts_to_sequences([text]), maxlen=SEQUENCE_LENGTH)\n",
    "    # Predict\n",
    "    score = model.predict([x_test])[0]\n",
    "    # Decode sentiment\n",
    "    label = decode_sentiment(score, include_neutral=include_neutral)\n",
    "\n",
    "    return {\"label\": label, \"score\": float(score),\n",
    "       \"elapsed_time\": time.time()-start_at}  "
   ]
  },
  {
   "cell_type": "code",
   "execution_count": null,
   "metadata": {},
   "outputs": [],
   "source": []
  }
 ],
 "metadata": {
  "kernel_info": {
   "name": "python3-azureml"
  },
  "kernelspec": {
   "display_name": "Python 3",
   "language": "python",
   "name": "python3"
  },
  "language_info": {
   "codemirror_mode": {
    "name": "ipython",
    "version": 3
   },
   "file_extension": ".py",
   "mimetype": "text/x-python",
   "name": "python",
   "nbconvert_exporter": "python",
   "pygments_lexer": "ipython3",
   "version": "3.8.6"
  },
  "nteract": {
   "version": "nteract-front-end@1.0.0"
  }
 },
 "nbformat": 4,
 "nbformat_minor": 2
}
